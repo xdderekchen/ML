{
  "nbformat": 4,
  "nbformat_minor": 0,
  "metadata": {
    "colab": {
      "name": "ABM_Simulation.ipynb",
      "provenance": [],
      "collapsed_sections": [],
      "toc_visible": true,
      "authorship_tag": "ABX9TyPyA9jo5xkKgsynEW8YlRL4",
      "include_colab_link": true
    },
    "kernelspec": {
      "name": "python3",
      "display_name": "Python 3"
    }
  },
  "cells": [
    {
      "cell_type": "markdown",
      "metadata": {
        "id": "view-in-github",
        "colab_type": "text"
      },
      "source": [
        "<a href=\"https://colab.research.google.com/github/xdderekchen/ML/blob/master/ABM_Simulation.ipynb\" target=\"_parent\"><img src=\"https://colab.research.google.com/assets/colab-badge.svg\" alt=\"Open In Colab\"/></a>"
      ]
    },
    {
      "cell_type": "markdown",
      "metadata": {
        "id": "yxTzfQH-4t0w",
        "colab_type": "text"
      },
      "source": [
        "# A Simulation Framework using Agent-Based model with Monte Carlo method.\n",
        "\n",
        "In this post, we will build a simulation framework to study the potential disease spread if there is no control.\n",
        "\n",
        "The simulation framework is an agent based model, using the MESA package https://mesa.readthedocs.io/en/master/\n",
        "\n",
        "## Plan:\n",
        " 1. Environment  10 x 10 (N x N) grid, consists of 100 cells. \n",
        " 2. There are 100 (NA) Agents which are randomly assigned to cells.\n",
        " 3. At each step, an agent can do one (only one) of the following things:\n",
        "   \n",
        "   3.1. an agent can move to adjacent cell (with a higher probability of staying in the same cell)\n",
        "   \n",
        "   3.2. an agent with a disease can pass the disease [with a probability (the statistical distribution can be set as runtime configuration)] to another agent at the SAME cell.\n",
        " 4. Randomly select an agent with the disease.\n",
        " 5. we want to plot the grid, after M steps, to see the spread of disease.\n",
        " \n"
      ]
    },
    {
      "cell_type": "code",
      "metadata": {
        "id": "O6tPfjtC8xpl",
        "colab_type": "code",
        "colab": {}
      },
      "source": [
        "#### https://mesa.readthedocs.io/en/master/best-practices.html\n",
        "!pip install mesa\n",
        "from mesa import Agent, Model\n",
        "from mesa.time import RandomActivation\n",
        "from mesa.space import MultiGrid\n",
        "from mesa.batchrunner import BatchRunner\n",
        "\n",
        "from mesa.datacollection import DataCollector\n",
        "\n",
        "DS_T_Lmt0 = 3   #start to trasmit the SS\n",
        "DS_T_Lmt1 = 6   #sympoton is obvious, not allow to move around\n",
        "\n",
        "def compute_gini(model):\n",
        "    agent_wealths = [agent.wealth for agent in model.schedule.agents]\n",
        "    x = sorted(agent_wealths)\n",
        "    N = model.num_agents\n",
        "    B = sum( xi * (N-i) for i,xi in enumerate(x) ) / (N*sum(x))\n",
        "    return (1 + (1/N) - 2*B)\n",
        "\n",
        "class DSAgent(Agent):\n",
        "    \"\"\" An agent with fixed initial wealth.\"\"\"\n",
        "    def __init__(self, unique_id, model):\n",
        "        super().__init__(unique_id, model)\n",
        "        self.Days_SS = 0\n",
        "        self.is_SS = 0\n",
        "\n",
        "    def move(self):\n",
        "        possible_steps = self.model.grid.get_neighborhood(\n",
        "            self.pos,\n",
        "            moore=True,\n",
        "            include_center=False)\n",
        "        new_position = self.random.choice(possible_steps)\n",
        "        if self.Days_SS < DS_T_Lmt1:\n",
        "            self.model.grid.move_agent(self, new_position)\n",
        "\n",
        "    def transfer_DS(self):\n",
        "        cellmates = self.model.grid.get_cell_list_contents([self.pos])\n",
        "        if len(cellmates) > 1:\n",
        "            other = self.random.choice(cellmates)\n",
        "            if self.Days_SS>=DS_T_Lmt0:\n",
        "               if other.is_SS == 0:\n",
        "                  other.is_SS = 1;\n",
        "        return None\n",
        "          \n",
        "    def step(self):\n",
        "        self.move()\n",
        "        self.transfer_DS()\n",
        "        if self.is_SS == 1:\n",
        "           self.Days_SS += 1\n",
        "\n",
        "class DSModel(Model):\n",
        "    \"\"\"A model with some number of agents.\"\"\"\n",
        "    def __init__(self, N, width, height):\n",
        "        self.num_agents = N\n",
        "        self.grid = MultiGrid(width, height, True)\n",
        "        self.schedule = RandomActivation(self)\n",
        "        self.running = True\n",
        "\n",
        "        # Create agents\n",
        "        for i in range(self.num_agents):\n",
        "            a = DSAgent(i, self)\n",
        "            self.schedule.add(a)\n",
        "            # Add the agent to a random grid cell\n",
        "            x = self.random.randrange(self.grid.width)\n",
        "            y = self.random.randrange(self.grid.height)\n",
        "            self.grid.place_agent(a, (x, y))\n",
        "\n",
        "        self.datacollector = DataCollector(\n",
        "           # model_reporters={\"Gini\": compute_gini},\n",
        "           # agent_reporters={\"Wealth\": \"wealth\"}\n",
        "        )\n",
        "\n",
        "    def step(self):\n",
        "        self.datacollector.collect(self)\n",
        "        self.schedule.step()"
      ],
      "execution_count": 0,
      "outputs": []
    },
    {
      "cell_type": "code",
      "metadata": {
        "id": "WsFdnp2AIdAh",
        "colab_type": "code",
        "outputId": "9f4c71d0-6871-4cc3-f2fa-98d520947dde",
        "colab": {
          "base_uri": "https://localhost:8080/",
          "height": 281
        }
      },
      "source": [
        "model = MoneyModel(50, 10, 10)\n",
        "for i in range(100):\n",
        "    model.step()\n",
        "gini = model.datacollector.get_model_vars_dataframe()\n",
        "#gini.plot()\n",
        "\n",
        "agent_wealth = model.datacollector.get_agent_vars_dataframe()\n",
        "agent_wealth.head()\n",
        "\n",
        "end_wealth = agent_wealth.xs(99, level=\"Step\")[\"Wealth\"]\n",
        "end_wealth.hist(bins=range(agent_wealth.Wealth.max()+1))\n",
        "\n",
        "\n",
        "fixed_params = {\n",
        "    \"width\": 10,\n",
        "    \"height\": 10\n",
        "}\n",
        "\n",
        "variable_params = {\"N\": range(10, 500, 10)}\n",
        "\n",
        "# The variables parameters will be invoke along with the fixed parameters allowing for either or both to be honored.\n",
        "batch_run = BatchRunner(\n",
        "    MoneyModel,\n",
        "    variable_params,\n",
        "    fixed_params,\n",
        "    iterations=5,\n",
        "    max_steps=100,\n",
        "    model_reporters={\"Gini\": compute_gini}\n",
        ")\n",
        "\n",
        "batch_run.run_all()\n",
        "\n",
        "\n"
      ],
      "execution_count": 0,
      "outputs": [
        {
          "output_type": "stream",
          "text": [
            "245it [02:04,  1.02it/s]\n"
          ],
          "name": "stderr"
        },
        {
          "output_type": "display_data",
          "data": {
            "image/png": "[encoded data removed]",
            "text/plain": [
              "<Figure size 432x288 with 1 Axes>"
            ]
          },
          "metadata": {
            "tags": []
          }
        }
      ]
    },
    {
      "cell_type": "code",
      "metadata": {
        "id": "u4S1mS22N0hv",
        "colab_type": "code",
        "outputId": "5c408124-cfce-41f9-e950-bf3df9225a9c",
        "colab": {
          "base_uri": "https://localhost:8080/",
          "height": 281
        }
      },
      "source": [
        "run_data = batch_run.get_model_vars_dataframe()\n",
        "run_data.head()\n",
        "plt.scatter(run_data.N, run_data.Gini)"
      ],
      "execution_count": 0,
      "outputs": [
        {
          "output_type": "execute_result",
          "data": {
            "text/plain": [
              "<matplotlib.collections.PathCollection at 0x7fa1dd8cac18>"
            ]
          },
          "metadata": {
            "tags": []
          },
          "execution_count": 62
        },
        {
          "output_type": "display_data",
          "data": {
            "image/png": "[encoded data removed]",
            "text/plain": [
              "<Figure size 432x288 with 1 Axes>"
            ]
          },
          "metadata": {
            "tags": []
          }
        }
      ]
    },
    {
      "cell_type": "code",
      "metadata": {
        "id": "vaev45ze_DWx",
        "colab_type": "code",
        "outputId": "fdcb4457-5a35-40ee-e870-6a6f0f4f5abd",
        "colab": {
          "base_uri": "https://localhost:8080/",
          "height": 331
        }
      },
      "source": [
        "model = MoneyModel(10)\n",
        "for i in range(10):\n",
        "    model.step()\n",
        "\n",
        "# For a jupyter notebook add the following line:\n",
        "%matplotlib inline\n",
        "\n",
        "# The below is needed for both notebooks and scripts\n",
        "import matplotlib.pyplot as plt\n",
        "\n",
        "agent_wealth = [a.wealth for a in model.schedule.agents]\n",
        "print(agent_wealth)\n",
        "plt.hist(agent_wealth)"
      ],
      "execution_count": 0,
      "outputs": [
        {
          "output_type": "stream",
          "text": [
            "[7, 10, 9, 10, 15, 7, 10, 10, 8, 14]\n"
          ],
          "name": "stdout"
        },
        {
          "output_type": "execute_result",
          "data": {
            "text/plain": [
              "(array([2., 1., 1., 4., 0., 0., 0., 0., 1., 1.]),\n",
              " array([ 7. ,  7.8,  8.6,  9.4, 10.2, 11. , 11.8, 12.6, 13.4, 14.2, 15. ]),\n",
              " <a list of 10 Patch objects>)"
            ]
          },
          "metadata": {
            "tags": []
          },
          "execution_count": 39
        },
        {
          "output_type": "display_data",
          "data": {
            "image/png": "[encoded data removed]",
            "text/plain": [
              "<Figure size 432x288 with 1 Axes>"
            ]
          },
          "metadata": {
            "tags": []
          }
        }
      ]
    },
    {
      "cell_type": "code",
      "metadata": {
        "id": "-E2nTUaVDtQZ",
        "colab_type": "code",
        "outputId": "fb83769b-be73-4e70-ef2c-f5ba06cf7779",
        "colab": {
          "base_uri": "https://localhost:8080/",
          "height": 350
        }
      },
      "source": [
        "all_wealth = []\n",
        "for j in range(100):\n",
        "    # Run the model\n",
        "    model = MoneyModel(10)\n",
        "    for i in range(10):\n",
        "        model.step()\n",
        "\n",
        "    # Store the results\n",
        "    for agent in model.schedule.agents:\n",
        "        all_wealth.append(agent.wealth)\n",
        "\n",
        "plt.hist(all_wealth, bins=range(max(all_wealth)+1))"
      ],
      "execution_count": 0,
      "outputs": [
        {
          "output_type": "execute_result",
          "data": {
            "text/plain": [
              "(array([  1.,   0.,   0.,   4.,  24.,  32.,  70.,  75., 119., 121., 135.,\n",
              "        102., 119.,  64.,  66.,  33.,  15.,   9.,  11.]),\n",
              " array([ 0,  1,  2,  3,  4,  5,  6,  7,  8,  9, 10, 11, 12, 13, 14, 15, 16,\n",
              "        17, 18, 19]),\n",
              " <a list of 19 Patch objects>)"
            ]
          },
          "metadata": {
            "tags": []
          },
          "execution_count": 45
        },
        {
          "output_type": "display_data",
          "data": {
            "image/png": "[encoded data removed]",
            "text/plain": [
              "<Figure size 432x288 with 1 Axes>"
            ]
          },
          "metadata": {
            "tags": []
          }
        }
      ]
    }
  ]
}