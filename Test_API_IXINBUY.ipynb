{
  "nbformat": 4,
  "nbformat_minor": 0,
  "metadata": {
    "colab": {
      "name": "Test_API_IXINBUY.ipynb",
      "provenance": [],
      "collapsed_sections": [],
      "toc_visible": true,
      "authorship_tag": "ABX9TyOjF895EAXdCbK+1ji140Tv",
      "include_colab_link": true
    },
    "kernelspec": {
      "name": "python3",
      "display_name": "Python 3"
    }
  },
  "cells": [
    {
      "cell_type": "markdown",
      "metadata": {
        "id": "view-in-github",
        "colab_type": "text"
      },
      "source": [
        "<a href=\"https://colab.research.google.com/github/xdderekchen/ML/blob/master/Test_API_IXINBUY.ipynb\" target=\"_parent\"><img src=\"https://colab.research.google.com/assets/colab-badge.svg\" alt=\"Open In Colab\"/></a>"
      ]
    },
    {
      "cell_type": "markdown",
      "metadata": {
        "id": "pfJYQa0CA33L",
        "colab_type": "text"
      },
      "source": [
        "# Demonstation of Web API of ixinbuy.com\n",
        "\n",
        "ixinbuy.com provides Web API for users to access the powerful block-chain based services.\n",
        "\n",
        "This post has 2 purposes:\n",
        " 1. Samples for API calls\n",
        " 2. Testing of API and the webservice"
      ]
    },
    {
      "cell_type": "markdown",
      "metadata": {
        "id": "XwTmhZZsDMfa",
        "colab_type": "text"
      },
      "source": [
        "## 1.1. Version 1\n",
        "\n",
        "In this version, we will test the following 3 functions\n",
        " * **(POST)** http://ixinbuy.com/register\n",
        " * **(POST)** http://ixinbuy.com/uploaddata\n",
        " * **(GET)**  http://ixinbuy.com/getshareddata"
      ]
    },
    {
      "cell_type": "markdown",
      "metadata": {
        "id": "-LOzudGblJB6",
        "colab_type": "text"
      },
      "source": [
        "### register"
      ]
    },
    {
      "cell_type": "code",
      "metadata": {
        "id": "M9DQPiQMAo82",
        "colab_type": "code",
        "outputId": "a03f754a-a05e-4b99-ec19-23889d2353cc",
        "colab": {
          "base_uri": "https://localhost:8080/",
          "height": 51
        }
      },
      "source": [
        "# http://ixinbuy.com/register\n",
        "\n",
        "import requests\n",
        "import json\n",
        "\n",
        "URL = \"http://ixinbuy.com/register\"\n",
        "\n",
        "DEVICE_ID = \"XD_COVID19_V1\"\n",
        "\n",
        "payload = {\"device_id\":DEVICE_ID}\n",
        "\n",
        "#Passing payload as dict\n",
        "responce = requests.post(URL, data = payload)\n",
        "print(responce.status_code)\n",
        "print(responce.text)\n",
        "\n",
        "\n",
        "#Passing payload as json string\n",
        "#payload = '{\"device_id\":\"XD12345\"}'\n",
        "#responce = requests.post(URL, json = json.loads(payload))\n",
        "#print(responce.status_code)\n",
        "#print(responce.text)"
      ],
      "execution_count": 2,
      "outputs": [
        {
          "output_type": "stream",
          "text": [
            "200\n",
            "true\n"
          ],
          "name": "stdout"
        }
      ]
    },
    {
      "cell_type": "markdown",
      "metadata": {
        "id": "uYsVg7AblP9V",
        "colab_type": "text"
      },
      "source": [
        "### uploaddata (single)"
      ]
    },
    {
      "cell_type": "code",
      "metadata": {
        "id": "RHFuaOB5lbWt",
        "colab_type": "code",
        "outputId": "319e0aea-c886-4594-d48b-06ff7fb46427",
        "colab": {
          "base_uri": "https://localhost:8080/",
          "height": 51
        }
      },
      "source": [
        "# http://ixinbuy.com/uploaddata\n",
        "\n",
        "import requests\n",
        "import json\n",
        "\n",
        "URL = \"http://ixinbuy.com/uploaddata\"\n",
        "\n",
        "# data_type\": 2 for COVID19 data\n",
        "payload = {\n",
        "   \"data_type\": 2, \n",
        "   \"device_id\": DEVICE_ID,\n",
        "   \"device_data\": {\n",
        "          \"date\": \"2020-01-07\",\n",
        "          \"province_state\": \"Shanghai00\",\n",
        "          \"country_region\": \"Mainland China\",\n",
        "          \"last_update\": \"2020-03-07T10:43:02\",\n",
        "          \"confirmed\":100,\n",
        "          \"deaths\": 7,\n",
        "          \"recovered\": 1237,\n",
        "          \"latitude\":  23.3417,\n",
        "          \"longitude\": 113.4244\n",
        "   }\n",
        "}\n",
        "\n",
        "\n",
        "#Passing payload as dict\n",
        "responce = requests.post(URL, json = payload)\n",
        "print(responce.status_code)\n",
        "print(responce.text)\n"
      ],
      "execution_count": 3,
      "outputs": [
        {
          "output_type": "stream",
          "text": [
            "200\n",
            "true\n"
          ],
          "name": "stdout"
        }
      ]
    },
    {
      "cell_type": "markdown",
      "metadata": {
        "id": "T2-s0eOS6N0D",
        "colab_type": "text"
      },
      "source": [
        "### Define a function to rename the columns with standard names."
      ]
    },
    {
      "cell_type": "code",
      "metadata": {
        "id": "zyaT5AHo1izP",
        "colab_type": "code",
        "colab": {
          "base_uri": "https://localhost:8080/",
          "height": 190
        },
        "outputId": "9c935d49-bd62-420f-d57f-a632ae1ea3b5"
      },
      "source": [
        "import numpy as np\n",
        "\n",
        "def transform_names(df):\n",
        "    '''\n",
        "       need to have standard names\n",
        "    '''\n",
        "    df.columns = [x.lower() for x in df.columns]\n",
        "    df.rename(columns={'province/state': 'province_state',\n",
        "                   'country/region': 'country_region',\n",
        "                   'last update'   : 'last_update',\n",
        "                   \"long_\":          \"longitude\",\n",
        "                   \"long\":          \"longitude\",\n",
        "                   \"lat\":           \"latitude\",\n",
        "                   \"lat_\":           \"latitude\",\n",
        "                  }, inplace=True)\n",
        "    \n",
        "    \n",
        "    return (df)\n",
        "\n",
        "##### Testing\n",
        "def run_test(date= \"03-20-2020\"):\n",
        "    github_root = \"https://raw.githubusercontent.com/CSSEGISandData/COVID-19/master/csse_covid_19_data/csse_covid_19_daily_reports\"\n",
        "    file = os.path.join(github_root, date + \".csv\")\n",
        "    df = pd.read_csv(file ,dtype = {'FIPS': str, 'ZIP': str, \"ZIP_CODE\": str})\n",
        "    df = transform_names(df)\n",
        "    print(df.columns)\n",
        "\n",
        "    row = df.iloc[1]\n",
        "    print(json.loads(row.to_json()))\n",
        "\n",
        "run_test(\"03-20-2020\")  #Old format\n",
        "run_test(\"03-26-2020\")  #new format\n"
      ],
      "execution_count": 26,
      "outputs": [
        {
          "output_type": "stream",
          "text": [
            "Index(['province_state', 'country_region', 'last_update', 'confirmed',\n",
            "       'deaths', 'recovered', 'latitude', 'longitude'],\n",
            "      dtype='object')\n",
            "{'province_state': None, 'country_region': 'Italy', 'last_update': '2020-03-20T17:43:03', 'confirmed': 47021, 'deaths': 4032, 'recovered': 4440, 'latitude': 41.8719, 'longitude': 12.5674}\n",
            "Index(['fips', 'admin2', 'province_state', 'country_region', 'last_update',\n",
            "       'latitude', 'longitude', 'confirmed', 'deaths', 'recovered', 'active',\n",
            "       'combined_key'],\n",
            "      dtype='object')\n",
            "{'fips': '22001', 'admin2': 'Acadia', 'province_state': 'Louisiana', 'country_region': 'US', 'last_update': '2020-03-26 23:48:35', 'latitude': 30.2950649, 'longitude': -92.41419698, 'confirmed': 3, 'deaths': 0, 'recovered': 0, 'active': 0, 'combined_key': 'Acadia, Louisiana, US'}\n"
          ],
          "name": "stdout"
        }
      ]
    },
    {
      "cell_type": "markdown",
      "metadata": {
        "id": "r2NSZ6OPlZj1",
        "colab_type": "text"
      },
      "source": [
        "### uploaddata (batch)\n",
        "\n",
        "In here, we will pull real data from John Hopkins and invoke the webservice call.\n",
        "\n",
        "The data of John Hopkins is at \"https://raw.githubusercontent.com/CSSEGISandData/COVID-19/master/csse_covid_19_data/csse_covid_19_daily_reports\"\n",
        "    "
      ]
    },
    {
      "cell_type": "code",
      "metadata": {
        "id": "bwePgs98tlpQ",
        "colab_type": "code",
        "colab": {}
      },
      "source": [
        "import pandas as pd\n",
        "import os\n",
        "import requests\n",
        "import json\n",
        "\n",
        "def uploaddata(source_file, URL, data_date):\n",
        "    print(\"processing: \", source_file)\n",
        "    df = pd.read_csv(source_file, dtype = {'FIPS': str, 'ZIP': str, \"ZIP_CODE\": str})\n",
        "    df = transform_names(df)\n",
        "    for i in range(0, df.shape[0])  :####df.itertuples(index=False):\n",
        "      \n",
        "        row = df.iloc[i]\n",
        "        #row_as_dic = row.to_dict()\n",
        "       \n",
        "        device_data = {\"date\":data_date }\n",
        "        device_data.update(json.loads(row.to_json()))\n",
        "       \n",
        "        payload = {\n",
        "           \"data_type\": 2, \n",
        "           \"device_id\": DEVICE_ID,\n",
        "           \"device_data\": device_data\n",
        "        }\n",
        "\n",
        "        print(payload)\n",
        "        responce = requests.post(URL, json = payload)\n",
        "        errorCount = 0\n",
        "        \n",
        "        if (responce.status_code == 200) and ( responce.text == \"true\"):\n",
        "           if (i % 10==0):\n",
        "              print(i, \"\", end='', flush=True)\n",
        "        else:\n",
        "              errorCount += 1\n",
        "              print(\"\\nError \", i , \" with \", responce.text, flush=True)\n",
        "\n",
        "    print(f\"\\nProcessed {i+3} of records\")\n",
        "    return (errorCount)\n",
        "      \n",
        "       \n",
        "\n",
        "github_root = \"https://raw.githubusercontent.com/CSSEGISandData/COVID-19/master/csse_covid_19_data/csse_covid_19_daily_reports\"\n",
        "\n",
        "\n",
        "file = os.path.join(github_root, \"03-26-2020\" + \".csv\")\n",
        "\n",
        "import time\n",
        "ts = time.time()\n",
        "d = uploaddata(file, \"http://ixinbuy.com/uploaddata\", \"2020-03-26\")\n",
        "te = time.time()\n",
        "print('%s  %2.2f sec' % (\"uploaddata\", (te - ts) ))\n",
        " \n"
      ],
      "execution_count": 0,
      "outputs": []
    },
    {
      "cell_type": "markdown",
      "metadata": {
        "id": "L4xwNcbBlW6N",
        "colab_type": "text"
      },
      "source": [
        "### getshareddata (GET)\n",
        "\n",
        "This is the method to retrieve data from server\n",
        "\n"
      ]
    },
    {
      "cell_type": "code",
      "metadata": {
        "id": "DgTU5eTHxl_M",
        "colab_type": "code",
        "outputId": "aaff18cf-505a-47a7-c15f-c92a46397832",
        "colab": {
          "base_uri": "https://localhost:8080/",
          "height": 168
        }
      },
      "source": [
        "import pandas as pd\n",
        "import os\n",
        "import requests\n",
        "import json\n",
        "\n",
        "query = {\"data_type\": 2, \"device_id\":DEVICE_ID, \"from_date\": \"2020-03-26\"}\n",
        "\n",
        "req = requests.get('http://ixinbuy.com/getshareddata', params=query)\n",
        "print(req.url)\n",
        "print(req.status_code)\n",
        "print(req)\n",
        "data = req.json()\n",
        "\n",
        "df = pd.DataFrame(data)\n",
        "#print(df)\n",
        "#df = df[~df['country_region'].isin([\"China000\", \"China111\"])]\n",
        "#df = df.drop_duplicates(subset=[\"country_region\", \"province_state\", \"date\" ], keep='last')\n",
        "#df = df.query('country_region==\"Italy\"')\n",
        "\n",
        "df_agg=df.groupby([\"country_region\", \"date\"]).agg({'confirmed': ['sum'], 'deaths': ['sum'], 'recovered': ['sum']})\n",
        "df_agg.columns = ['confirmed', 'deaths', 'recovered']\n",
        "df_agg.reset_index(inplace=True)\n",
        "\n",
        "df_agg[\"fatality_rate\"] = df_agg[\"deaths\"] / df_agg[\"confirmed\"]\n",
        "\n",
        "df_confirm = df_agg.sort_values(by='confirmed', ascending=False).head(120)\n",
        "\n",
        "df_confirm\n",
        "\n",
        "df[ (df[\"country_region\"]==\"US\") & (df[\"province_state\"] == \"New York\")]"
      ],
      "execution_count": 41,
      "outputs": [
        {
          "output_type": "stream",
          "text": [
            "http://ixinbuy.com/getshareddata?data_type=2&device_id=XD_COVID19_V1&from_date=2020-03-26\n",
            "200\n",
            "<Response [200]>\n"
          ],
          "name": "stdout"
        },
        {
          "output_type": "execute_result",
          "data": {
            "text/html": [
              "<div>\n",
              "<style scoped>\n",
              "    .dataframe tbody tr th:only-of-type {\n",
              "        vertical-align: middle;\n",
              "    }\n",
              "\n",
              "    .dataframe tbody tr th {\n",
              "        vertical-align: top;\n",
              "    }\n",
              "\n",
              "    .dataframe thead th {\n",
              "        text-align: right;\n",
              "    }\n",
              "</style>\n",
              "<table border=\"1\" class=\"dataframe\">\n",
              "  <thead>\n",
              "    <tr style=\"text-align: right;\">\n",
              "      <th></th>\n",
              "      <th>date</th>\n",
              "      <th>fips</th>\n",
              "      <th>admin2</th>\n",
              "      <th>province_state</th>\n",
              "      <th>country_region</th>\n",
              "      <th>last_update</th>\n",
              "      <th>latitude</th>\n",
              "      <th>longitude</th>\n",
              "      <th>confirmed</th>\n",
              "      <th>deaths</th>\n",
              "      <th>recovered</th>\n",
              "      <th>active</th>\n",
              "      <th>combined_key</th>\n",
              "    </tr>\n",
              "  </thead>\n",
              "  <tbody>\n",
              "    <tr>\n",
              "      <th>23</th>\n",
              "      <td>2020-03-26</td>\n",
              "      <td>36123</td>\n",
              "      <td>Yates</td>\n",
              "      <td>New York</td>\n",
              "      <td>US</td>\n",
              "      <td>2020-03-26 23:48:35</td>\n",
              "      <td>42.635055</td>\n",
              "      <td>-77.103699</td>\n",
              "      <td>0</td>\n",
              "      <td>0</td>\n",
              "      <td>0</td>\n",
              "      <td>0</td>\n",
              "      <td>Yates, New York, US</td>\n",
              "    </tr>\n",
              "  </tbody>\n",
              "</table>\n",
              "</div>"
            ],
            "text/plain": [
              "          date   fips admin2  ... recovered active         combined_key\n",
              "23  2020-03-26  36123  Yates  ...         0      0  Yates, New York, US\n",
              "\n",
              "[1 rows x 13 columns]"
            ]
          },
          "metadata": {
            "tags": []
          },
          "execution_count": 41
        }
      ]
    },
    {
      "cell_type": "markdown",
      "metadata": {
        "id": "pJlBN36Aa_MJ",
        "colab_type": "text"
      },
      "source": [
        "#### visualization"
      ]
    },
    {
      "cell_type": "code",
      "metadata": {
        "id": "XJcwkKoZbKeb",
        "colab_type": "code",
        "outputId": "d7b77133-f583-41a9-d2cc-73d965bb0379",
        "colab": {
          "base_uri": "https://localhost:8080/",
          "height": 861
        }
      },
      "source": [
        "import seaborn as sns\n",
        "import matplotlib.pyplot as plt\n",
        "sns.set(style=\"whitegrid\")\n",
        "\n",
        "df_fatal_rate = df_confirm.sort_values(by='fatality_rate', ascending=False)\n",
        "\n",
        "# Initialize the matplotlib figure\n",
        "f, (ax1, ax2) = plt.subplots(figsize=(16, 14), ncols=2)\n",
        "\n",
        "\n",
        "sns.barplot(x=\"confirmed\", y=\"country_region\", data=df_confirm,\n",
        "            label=\"confirmed\", color=\"b\",  ax=ax1)\n",
        "ax1.set_title(\"Top 20 countries by the number of confirmed cases\")\n",
        "\n",
        "sns.barplot(x=\"fatality_rate\", y=\"country_region\", data=df_fatal_rate,\n",
        "            label=\"fatality rate\", color=\"y\",  ax=ax2)\n",
        "ax2.set_title(\"Fatality Rate, for top 20 countries by the number of confirmed cases\")"
      ],
      "execution_count": 29,
      "outputs": [
        {
          "output_type": "execute_result",
          "data": {
            "text/plain": [
              "Text(0.5, 1.0, 'Fatality Rate, for top 20 countries by the number of confirmed cases')"
            ]
          },
          "metadata": {
            "tags": []
          },
          "execution_count": 29
        },
        {
          "output_type": "display_data",
          "data": {
            "image/png": "[encoded data removed]",
            "text/plain": [
              "<Figure size 1152x1008 with 2 Axes>"
            ]
          },
          "metadata": {
            "tags": []
          }
        }
      ]
    },
    {
      "cell_type": "code",
      "metadata": {
        "id": "kResX-Emgf8r",
        "colab_type": "code",
        "outputId": "5f44ef5f-2e81-4329-ce2e-7f8aa28202bf",
        "colab": {
          "base_uri": "https://localhost:8080/",
          "height": 1000
        }
      },
      "source": [
        "import plotly.express as px\n",
        "\n",
        "df['province_state'] = df['province_state'].fillna(df['country_region'])\n",
        "fig = px.scatter_mapbox(data_frame=df, lat=\"latitude\", lon=\"longitude\", hover_data=[\"confirmed\", \"deaths\"],  \n",
        "                        size=\"confirmed\", zoom=2, height=1000, hover_name=\"province_state\" )\n",
        "fig.update_layout(mapbox_style=\"open-street-map\")\n",
        "fig.show()"
      ],
      "execution_count": 0,
      "outputs": [
        {
          "output_type": "display_data",
          "data": {
            "text/html": [
              "<html>\n",
              "<head><meta charset=\"utf-8\" /></head>\n",
              "<body>\n",
              "    <div>\n",
              "            <script src=\"https://cdnjs.cloudflare.com/ajax/libs/mathjax/2.7.5/MathJax.js?config=TeX-AMS-MML_SVG\"></script><script type=\"text/javascript\">if (window.MathJax) {MathJax.Hub.Config({SVG: {font: \"STIX-Web\"}});}</script>\n",
              "                <script type=\"text/javascript\">window.PlotlyConfig = {MathJaxConfig: 'local'};</script>\n",
              "        <script src=\"https://cdn.plot.ly/plotly-latest.min.js\"></script>    \n",
              "            <div id=\"76e2a29e-da78-45e6-93dd-81ab9694696b\" class=\"plotly-graph-div\" style=\"height:1000px; width:100%;\"></div>\n",
              "            <script type=\"text/javascript\">\n",
              "                \n",
              "                    window.PLOTLYENV=window.PLOTLYENV || {};\n",
              "                    \n",
              "                if (document.getElementById(\"76e2a29e-da78-45e6-93dd-81ab9694696b\")) {\n",
              "                    Plotly.newPlot(\n",
              "                        '76e2a29e-da78-45e6-93dd-81ab9694696b',\n",
              "                        [{\"customdata\": [[67800, 3130], [10871, 243], [5365, 34], [2689, 137], [2460, 76], [1378, 8], [1376, 74], [1273, 22], [1233, 1], [1151, 6], [1018, 4], [41035, 3405], [18407, 1284], [17963, 830], [15320, 44], [8565, 91], [4075, 41], [2013, 6], [1795, 21], [1746, 7], [1439, 11], [990, 6], [952, 18], [935, 1], [924, 29], [900, 2], [785, 3], [761, 7], [742, 9], [712, 7], [694, 0], [677, 0], [631, 0], [621, 6], [576, 6], [557, 3], [540, 3], [483, 13], [480, 8], [460, 0], [454, 2], [422, 4], [418, 6], [417, 9], [400, 0], [392, 10], [363, 3], [355, 5], [345, 0], [335, 4], [334, 3], [330, 1], [328, 0], [318, 6], [311, 25], [307, 5], [296, 1], [287, 10], [286, 1], [278, 1], [277, 0], [277, 4], [274, 0], [272, 1], [267, 0], [260, 5], [257, 1], [256, 6], [253, 2], [246, 3], [238, 0], [234, 0], [231, 7], [217, 17], [208, 4], [206, 1], [199, 3], [199, 1], [194, 4], [192, 13], [192, 3], [176, 2], [168, 6], [159, 2], [159, 0], [157, 4], [154, 0], [150, 0], [148, 0], [146, 2], [144, 0], [140, 0], [137, 3], [134, 2], [133, 0], [125, 1], [123, 1], [123, 0], [121, 0], [121, 1], [119, 0], [119, 11], [119, 0], [118, 1], [115, 0], [109, 1], [108, 1], [107, 1], [105, 1], [103, 0], [102, 0], [99, 2], [97, 3], [95, 1], [94, 3], [93, 1], [89, 0], [88, 3], [87, 9], [86, 0], [85, 0], [81, 1], [80, 0], [79, 0], [78, 0], [76, 3], [75, 0], [75, 1], [75, 0], [73, 1], [72, 0], [69, 1], [69, 0], [67, 0], [64, 2], [63, 0], [63, 2], [62, 0], [60, 0], [60, 2], [53, 0], [53, 0], [52, 1], [52, 0], [51, 0], [50, 1], [49, 1], [48, 0], [48, 0], [47, 0], [45, 0], [44, 1], [44, 0], [44, 0], [44, 0], [44, 1], [44, 0], [42, 0], [42, 0], [40, 0], [40, 0], [39, 1], [37, 0], [37, 2], [36, 0], [35, 0], [34, 2], [34, 1], [33, 1], [33, 0], [31, 0], [31, 1], [30, 0], [29, 0], [28, 0], [28, 0], [23, 1], [23, 0], [22, 0], [22, 0], [22, 0], [18, 0], [18, 0], [18, 0], [17, 1], [17, 0], [17, 0], [16, 0], [16, 0], [16, 2], [15, 1], [14, 0], [14, 0], [14, 0], [13, 0], [13, 0], [12, 0], [12, 0], [12, 0], [11, 0], [11, 1], [11, 0], [11, 0], [11, 0], [11, 0], [11, 0], [11, 1], [11, 0], [10, 0], [10, 0], [9, 0], [9, 0], [9, 1], [9, 0], [9, 0], [8, 0], [8, 0], [7, 1], [7, 0], [7, 0], [6, 0], [6, 0], [6, 0], [6, 0], [6, 0], [6, 0], [5, 0], [5, 0], [4, 0], [4, 0], [4, 0], [3, 0], [3, 0], [3, 0], [3, 0], [3, 0], [3, 0], [3, 0], [3, 0], [3, 0], [3, 1], [3, 0], [3, 1], [2, 0], [2, 0], [2, 0], [2, 0], [2, 0], [2, 0], [2, 0], [2, 0], [2, 0], [2, 1], [2, 0], [2, 0], [2, 0], [2, 0], [1, 0], [1, 0], [1, 0], [1, 0], [1, 0], [1, 0], [1, 0], [1, 0], [1, 0], [1, 0], [1, 0], [1, 0], [1, 0], [1, 0], [1, 0], [1, 0], [1, 0], [1, 0], [1, 0], [1, 0], [1, 0], [1, 0], [0, 0], [0, 0], [0, 0], [0, 0], [0, 0], [0, 0], [0, 0], [0, 0], [0, 0], [0, 0], [0, 0], [0, 0], [0, 0]], \"hoverlabel\": {\"namelength\": 0}, \"hovertemplate\": \"<b>%{hovertext}</b><br><br>confirmed=%{customdata[0]}<br>deaths=%{customdata[1]}<br>latitude=%{lat}<br>longitude=%{lon}\", \"hovertext\": [\"Hubei\", \"France\", \"New York\", \"United Kingdom\", \"Netherlands\", \"Guangdong\", \"Washington\", \"Henan\", \"Zhejiang\", \"Denmark\", \"Hunan\", \"Italy\", \"Iran\", \"Spain\", \"Germany\", \"Korea, South\", \"Switzerland\", \"Austria\", \"Belgium\", \"Norway\", \"Sweden\", \"Anhui\", \"California\", \"Jiangxi\", \"Japan\", \"Malaysia\", \"Portugal\", \"Shandong\", \"New Jersey\", \"Diamond Princess\", \"Czechia\", \"Israel\", \"Jiangsu\", \"Brazil\", \"Chongqing\", \"Ireland\", \"Sichuan\", \"Heilongjiang\", \"Beijing\", \"Qatar\", \"Pakistan\", \"Illinois\", \"Greece\", \"Florida\", \"Finland\", \"Louisiana\", \"Shanghai\", \"Poland\", \"Singapore\", \"Luxembourg\", \"Michigan\", \"Iceland\", \"Massachusetts\", \"Hebei\", \"Indonesia\", \"New South Wales\", \"Fujian\", \"Georgia\", \"Slovenia\", \"Bahrain\", \"Romania\", \"Colorado\", \"Saudi Arabia\", \"Thailand\", \"Estonia\", \"Texas\", \"Ontario\", \"Egypt\", \"Guangxi\", \"Shaanxi\", \"Chile\", \"Peru\", \"British Columbia\", \"Philippines\", \"Hong Kong\", \"Pennsylvania\", \"Ecuador\", \"Russia\", \"India\", \"Iraq\", \"Turkey\", \"Yunnan\", \"Hainan\", \"Connecticut\", \"Wisconsin\", \"Lebanon\", \"Tennessee\", \"South Africa\", \"Kuwait\", \"Guizhou\", \"Queensland\", \"United Arab Emirates\", \"Tianjin\", \"Gansu\", \"Shanxi\", \"Liaoning\", \"Slovakia\", \"North Carolina\", \"Victoria\", \"Quebec\", \"Alberta\", \"San Marino\", \"Ohio\", \"Mexico\", \"Armenia\", \"Panama\", \"Taiwan*\", \"Maryland\", \"Croatia\", \"Serbia\", \"Colombia\", \"Virginia\", \"Argentina\", \"Nevada\", \"Bulgaria\", \"Jilin\", \"Minnesota\", \"Oregon\", \"Algeria\", \"Latvia\", \"Vietnam\", \"South Carolina\", \"Utah\", \"Uruguay\", \"Alabama\", \"Xinjiang\", \"Brunei\", \"Inner Mongolia\", \"Ningxia\", \"Hungary\", \"Faroe Islands\", \"Costa Rica\", \"Jordan\", \"Cyprus\", \"Albania\", \"Bosnia and Herzegovina\", \"Morocco\", \"Arkansas\", \"Sri Lanka\", \"Indiana\", \"Andorra\", \"Malta\", \"Western Australia\", \"Maine\", \"Belarus\", \"Mississippi\", \"Moldova\", \"North Macedonia\", \"Oman\", \"Diamond Princess\", \"Arizona\", \"Azerbaijan\", \"Kazakhstan\", \"Iowa\", \"New Hampshire\", \"Oklahoma\", \"Rhode Island\", \"South Australia\", \"Venezuela\", \"Georgia\", \"District of Columbia\", \"Tunisia\", \"Cambodia\", \"Kentucky\", \"Lithuania\", \"New Mexico\", \"Dominican Republic\", \"Kansas\", \"Burkina Faso\", \"Guadeloupe\", \"Senegal\", \"Missouri\", \"Delaware\", \"Nebraska\", \"Liechtenstein\", \"New Zealand\", \"Martinique\", \"Uzbekistan\", \"Afghanistan\", \"Grand Princess\", \"Vermont\", \"Qinghai\", \"North Dakota\", \"Wyoming\", \"Bangladesh\", \"Manitoba\", \"Macau\", \"Saskatchewan\", \"Hawaii\", \"Ukraine\", \"Jamaica\", \"Nova Scotia\", \"Congo (Kinshasa)\", \"Reunion\", \"Cameroon\", \"Maldives\", \"Bolivia\", \"Honduras\", \"Guam\", \"New Brunswick\", \"Cuba\", \"French Guiana\", \"Ghana\", \"Paraguay\", \"Idaho\", \"Montana\", \"South Dakota\", \"Channel Islands\", \"Tasmania\", \"Gibraltar\", \"Grand Princess\", \"Cote d'Ivoire\", \"Guatemala\", \"Trinidad and Tobago\", \"Alaska\", \"Nigeria\", \"Rwanda\", \"Guyana\", \"Kenya\", \"Monaco\", \"Equatorial Guinea\", \"Ethiopia\", \"French Polynesia\", \"Mongolia\", \"Seychelles\", \"Tanzania\", \"Barbados\", \"Puerto Rico\", \"Aruba\", \"Australian Capital Territory\", \"St Martin\", \"Bahamas, The\", \"Newfoundland and Labrador\", \"Congo (Brazzaville)\", \"Saint Barthelemy\", \"Kyrgyzstan\", \"Mauritius\", \"Mayotte\", \"Montenegro\", \"Namibia\", \"Curacao\", \"Virgin Islands\", \"Cayman Islands\", \"Benin\", \"Prince Edward Island\", \"Greenland\", \"New Caledonia\", \"Kosovo\", \"Liberia\", \"Mauritania\", \"Aruba\", \"Saint Lucia\", \"Sudan\", \"United States Virgin Islands\", \"West Virginia\", \"Bermuda\", \"Zambia\", \"Antigua and Barbuda\", \"Northern Territory\", \"Bhutan\", \"Central African Republic\", \"Chad\", \"Tibet\", \"Djibouti\", \"El Salvador\", \"Eswatini\", \"Fiji\", \"Gabon\", \"Gambia, The\", \"Guinea\", \"Holy See\", \"Nepal\", \"Nicaragua\", \"Saint Vincent and the Grenadines\", \"Somalia\", \"Suriname\", \"Togo\", \"US\", \"Montserrat\", \"From Diamond Princess\", \"French Guiana\", \"Guadeloupe\", \"Mayotte\", \"Reunion\", \"Greenland\", \"Guam\", \"Guernsey\", \"Jersey\", \"Puerto Rico\", \"Republic of the Congo\", \"The Bahamas\", \"The Gambia\"], \"lat\": [30.9756, 46.2276, 42.1657, 55.3781, 52.1326, 23.3417, 47.4009, 33.882, 29.1832, 56.2639, 27.6104, 41.8719, 32.4279, 40.4637, 51.1657, 35.9078, 46.8182, 47.5162, 50.5039, 60.472, 60.1282, 31.8257, 36.1162, 27.614, 36.2048, 4.2105, 39.3999, 36.3427, 40.2989, 35.4498, 49.8175, 31.0461, 32.9711, -14.235, 30.0572, 53.1424, 30.6171, 47.862, 40.1824, 25.3548, 30.3753, 40.3495, 39.0742, 27.7663, 61.9241, 31.1695, 31.202, 51.9194, 1.3521, 49.8153, 43.3266, 64.9631, 42.2302, 38.0428, -0.7893, -33.8688, 26.0789, 33.0406, 46.1512, 26.0667, 45.9432, 39.0598, 23.8859, 15.87, 58.5953, 31.0545, 51.2538, 26.8206, 23.8298, 35.1917, -35.6751, -9.19, 53.7267, 12.8797, 22.3, 40.5908, -1.8312, 61.524, 20.5937, 33.2232, 38.9637, 24.974, 19.1959, 41.5978, 44.2685, 33.8547, 35.7478, -30.5595, 29.3117, 26.8154, -28.0167, 23.4241, 39.3054, 36.0611, 37.5777, 41.2956, 48.669, 35.6301, -37.8136, 52.9399, 53.9333, 43.9424, 40.3888, 23.6345, 40.0691, 8.538, 23.7, 39.0639, 45.1, 44.0165, 4.5709, 37.7693, -38.4161, 38.3135, 42.7339, 43.6661, 45.6945, 44.572, 28.0339, 56.8796, 14.0583, 33.8569, 40.15, -32.5228, 32.3182, 41.1129, 4.5353, 44.0935, 37.2692, 47.1625, 61.8926, 9.7489, 30.5852, 35.1264, 41.1533, 43.9159, 31.7917, 34.9697, 7.8731, 39.8494, 42.5063, 35.9375, -31.9505, 44.6939, 53.7098, 32.7416, 47.4116, 41.6086, 21.4735, 35.4437, 33.7298, 40.1431, 48.0196, 42.0115, 43.4525, 35.5653, 41.6809, -34.9285, 6.4238, 42.3154, 38.8974, 33.8869, 12.5657, 37.6681, 55.1694, 34.8405, 18.7357, 38.5266, 12.2383, 16.265, 14.4974, 38.4561, 39.3185, 41.1254, 47.166, -40.9006, 14.6415, 41.3775, 33.9391, 37.6489, 44.0459, 35.7452, 47.5289, 42.756, 23.685, 53.7609, 22.1667, 52.9399, 21.0943, 48.3794, 18.1096, 44.682, -4.0383, -21.1151, 3.848, 3.2028, -16.2902, 15.2, 13.4443, 46.5653, 21.5218, 3.9339, 7.9465, -23.4425, 44.2405, 46.9219, 44.2998, 49.3723, -41.4545, 36.1408, 37.6489, 7.54, 15.7835, 10.6918, 61.3707, 9.082, -1.9403, 4.8604, -0.0236, 43.7384, 1.6508, 9.145, -17.6797, 46.8625, -4.6796, -6.369, 13.1939, 18.2208, 12.5211, -35.4735, 18.0708, 25.0343, 53.1355, -0.228, 17.9, 41.2044, -20.3484, -12.8275, 42.7087, -22.9576, 12.1696, 18.3358, 19.3133, 9.3077, 46.5107, 71.7069, -20.9043, 42.6026, 6.4281, 21.0079, 12.5186, 13.9094, 12.8628, 18.35, 38.4912, 32.3078, -13.1339, 17.0608, -12.4634, 27.5142, 6.6111, 15.4542, 31.6927, 11.8251, 13.7942, -26.5225, -17.7134, -0.8037, 13.4432, 9.9456, 41.9029, 28.3949, 12.8654, 12.9843, 5.1521, 3.9193, 8.6195, 37.0902, 16.7425, 35.4437, 4.0, 16.25, -12.8431, -21.1351, 72.0, 13.4443, 49.45, 49.19, 18.2, -1.44, 24.25, 13.4667], \"legendgroup\": \"\", \"lon\": [112.2707, 2.2137, -74.9481, -3.436, 5.2913, 113.4244, -121.4905, 113.614, 120.0934, 9.5018, 111.7088, 12.5674, 53.688, -3.7492, 10.4515, 127.7669, 8.2275, 14.5501, 4.4699, 8.4689, 18.6435, 117.2264, -119.6816, 115.7221, 138.2529, 101.9758, -8.2245, 118.1498, -74.521, 139.6649, 15.473, 34.8516, 119.455, -51.9253, 107.874, -7.6921, 102.7103, 127.7615, 116.4142, 51.1839, 69.3451, -88.9861, 21.8243, -81.6868, 25.7482, -91.8678, 121.4491, 19.1451, 103.8198, 6.1296, -84.5361, -19.0208, -71.5301, 114.5149, 113.9213, 151.2093, 117.9874, -83.6431, 14.9955, 50.5577, 24.9668, -105.3111, 45.0792, 100.9925, 25.0136, -97.5635, -85.3232, 30.8025, 108.7881, 108.8701, -71.543, -75.0152, -127.6476, 121.774, 114.2, -77.2098, -78.1834, 105.3188, 78.9629, 43.6793, 35.2433, 101.487, 109.7453, -72.7554, -89.6165, 35.8623, -86.6923, 22.9375, 47.4818, 106.8748, 153.4, 53.8478, 117.323, 103.8343, 112.2922, 122.6085, 19.699, -79.8064, 144.9631, -73.5491, -116.5765, 12.4578, -82.7649, -102.5528, 45.0382, -80.7821, 121.0, -76.8021, 15.2, 21.0059, -74.2973, -78.17, -63.6167, -117.0554, 25.4858, 126.1923, -93.9002, -122.0709, 1.6596, 24.6032, 108.2772, -80.945, -111.8624, -55.7658, -86.9023, 85.2401, 114.7277, 113.9448, 106.1655, 19.5033, -6.9118, -83.7534, 36.2384, 33.4299, 20.1683, 17.6791, -7.0926, -92.3731, 80.7718, -86.2583, 1.5218, 14.3754, 115.8605, -69.3819, 27.9534, -89.6787, 28.3699, 21.7453, 55.9754, 139.638, -111.4312, 47.5769, 66.9237, -93.2105, -71.5639, -96.9289, -71.5118, 138.6007, -66.5897, 43.3569, -77.0268, 9.5375, 104.991, -84.6701, 23.8813, -106.2485, -70.1627, -96.7265, -1.5616, -61.551, -14.4524, -92.2884, -75.5071, -98.2681, 9.5554, 174.886, -61.0242, 64.5853, 67.71, -122.6655, -72.7107, 95.9956, -99.784, -107.3025, 90.3563, -98.8139, 113.55, -106.4509, -157.4983, 31.1656, -77.2975, -63.7443, 21.7587, 55.5364, 11.5021, 73.2207, -63.5887, -86.2419, 144.7937, -66.4619, -77.7812, -53.1258, -1.0232, -58.4438, -114.4788, -110.4544, -99.4388, -2.3644, 145.9707, -5.3536, -122.6655, -5.5471, -90.2308, -61.2225, -152.4044, 8.6753, 29.8739, -58.9302, 37.9062, 7.4246, 10.2679, 40.4897, -149.4068, 103.8467, 55.492, 34.8888, -59.5432, -66.5901, -69.9683, 149.0124, -63.0501, -77.3963, -57.6604, 15.8277, -62.8333, 74.7661, 57.5522, 45.1662, 19.3744, 18.4904, -68.99, -64.8963, -81.2546, 2.3158, -63.4168, -42.6043, 165.618, 20.903, -9.4295, -10.9408, -70.0358, -60.9789, 30.2176, -64.933, -80.9545, -64.7505, 27.8493, -61.7964, 130.8456, 90.4336, 20.9394, 18.7322, 88.0924, 42.5903, -88.8965, 31.4659, 178.065, 11.6094, -15.3101, -9.6966, 12.4534, 84.124, -85.2072, -61.2872, 46.1996, -56.0278, 0.8248, -95.7129, -62.1874, 139.638, -53.0, -61.5833, 45.1383, 55.2471, -40.0, 144.7937, -2.58, -2.11, -66.5, 15.556, -76.0, -16.6], \"marker\": {\"color\": \"#636efa\", \"size\": [67800, 10871, 5365, 2689, 2460, 1378, 1376, 1273, 1233, 1151, 1018, 41035, 18407, 17963, 15320, 8565, 4075, 2013, 1795, 1746, 1439, 990, 952, 935, 924, 900, 785, 761, 742, 712, 694, 677, 631, 621, 576, 557, 540, 483, 480, 460, 454, 422, 418, 417, 400, 392, 363, 355, 345, 335, 334, 330, 328, 318, 311, 307, 296, 287, 286, 278, 277, 277, 274, 272, 267, 260, 257, 256, 253, 246, 238, 234, 231, 217, 208, 206, 199, 199, 194, 192, 192, 176, 168, 159, 159, 157, 154, 150, 148, 146, 144, 140, 137, 134, 133, 125, 123, 123, 121, 121, 119, 119, 119, 118, 115, 109, 108, 107, 105, 103, 102, 99, 97, 95, 94, 93, 89, 88, 87, 86, 85, 81, 80, 79, 78, 76, 75, 75, 75, 73, 72, 69, 69, 67, 64, 63, 63, 62, 60, 60, 53, 53, 52, 52, 51, 50, 49, 48, 48, 47, 45, 44, 44, 44, 44, 44, 44, 42, 42, 40, 40, 39, 37, 37, 36, 35, 34, 34, 33, 33, 31, 31, 30, 29, 28, 28, 23, 23, 22, 22, 22, 18, 18, 18, 17, 17, 17, 16, 16, 16, 15, 14, 14, 14, 13, 13, 12, 12, 12, 11, 11, 11, 11, 11, 11, 11, 11, 11, 10, 10, 9, 9, 9, 9, 9, 8, 8, 7, 7, 7, 6, 6, 6, 6, 6, 6, 5, 5, 4, 4, 4, 3, 3, 3, 3, 3, 3, 3, 3, 3, 3, 3, 3, 2, 2, 2, 2, 2, 2, 2, 2, 2, 2, 2, 2, 2, 2, 1, 1, 1, 1, 1, 1, 1, 1, 1, 1, 1, 1, 1, 1, 1, 1, 1, 1, 1, 1, 1, 1, 0, 0, 0, 0, 0, 0, 0, 0, 0, 0, 0, 0, 0], \"sizemode\": \"area\", \"sizeref\": 169.5}, \"mode\": \"markers\", \"name\": \"\", \"showlegend\": false, \"subplot\": \"mapbox\", \"type\": \"scattermapbox\"}],\n",
              "                        {\"height\": 1000, \"legend\": {\"itemsizing\": \"constant\", \"tracegroupgap\": 0}, \"mapbox\": {\"center\": {\"lat\": 26.044480821917823, \"lon\": 3.5794708904109607}, \"domain\": {\"x\": [0.0, 1.0], \"y\": [0.0, 1.0]}, \"style\": \"open-street-map\", \"zoom\": 2}, \"margin\": {\"t\": 60}, \"template\": {\"data\": {\"bar\": [{\"error_x\": {\"color\": \"#2a3f5f\"}, \"error_y\": {\"color\": \"#2a3f5f\"}, \"marker\": {\"line\": {\"color\": \"#E5ECF6\", \"width\": 0.5}}, \"type\": \"bar\"}], \"barpolar\": [{\"marker\": {\"line\": {\"color\": \"#E5ECF6\", \"width\": 0.5}}, \"type\": \"barpolar\"}], \"carpet\": [{\"aaxis\": {\"endlinecolor\": \"#2a3f5f\", \"gridcolor\": \"white\", \"linecolor\": \"white\", \"minorgridcolor\": \"white\", \"startlinecolor\": \"#2a3f5f\"}, \"baxis\": {\"endlinecolor\": \"#2a3f5f\", \"gridcolor\": \"white\", \"linecolor\": \"white\", \"minorgridcolor\": \"white\", \"startlinecolor\": \"#2a3f5f\"}, \"type\": \"carpet\"}], \"choropleth\": [{\"colorbar\": {\"outlinewidth\": 0, \"ticks\": \"\"}, \"type\": \"choropleth\"}], \"contour\": [{\"colorbar\": {\"outlinewidth\": 0, \"ticks\": \"\"}, \"colorscale\": [[0.0, \"#0d0887\"], [0.1111111111111111, \"#46039f\"], [0.2222222222222222, \"#7201a8\"], [0.3333333333333333, \"#9c179e\"], [0.4444444444444444, \"#bd3786\"], [0.5555555555555556, \"#d8576b\"], [0.6666666666666666, \"#ed7953\"], [0.7777777777777778, \"#fb9f3a\"], [0.8888888888888888, \"#fdca26\"], [1.0, \"#f0f921\"]], \"type\": \"contour\"}], \"contourcarpet\": [{\"colorbar\": {\"outlinewidth\": 0, \"ticks\": \"\"}, \"type\": \"contourcarpet\"}], \"heatmap\": [{\"colorbar\": {\"outlinewidth\": 0, \"ticks\": \"\"}, \"colorscale\": [[0.0, \"#0d0887\"], [0.1111111111111111, \"#46039f\"], [0.2222222222222222, \"#7201a8\"], [0.3333333333333333, \"#9c179e\"], [0.4444444444444444, \"#bd3786\"], [0.5555555555555556, \"#d8576b\"], [0.6666666666666666, \"#ed7953\"], [0.7777777777777778, \"#fb9f3a\"], [0.8888888888888888, \"#fdca26\"], [1.0, \"#f0f921\"]], \"type\": \"heatmap\"}], \"heatmapgl\": [{\"colorbar\": {\"outlinewidth\": 0, \"ticks\": \"\"}, \"colorscale\": [[0.0, \"#0d0887\"], [0.1111111111111111, \"#46039f\"], [0.2222222222222222, \"#7201a8\"], [0.3333333333333333, \"#9c179e\"], [0.4444444444444444, \"#bd3786\"], [0.5555555555555556, \"#d8576b\"], [0.6666666666666666, \"#ed7953\"], [0.7777777777777778, \"#fb9f3a\"], [0.8888888888888888, \"#fdca26\"], [1.0, \"#f0f921\"]], \"type\": \"heatmapgl\"}], \"histogram\": [{\"marker\": {\"colorbar\": {\"outlinewidth\": 0, \"ticks\": \"\"}}, \"type\": \"histogram\"}], \"histogram2d\": [{\"colorbar\": {\"outlinewidth\": 0, \"ticks\": \"\"}, \"colorscale\": [[0.0, \"#0d0887\"], [0.1111111111111111, \"#46039f\"], [0.2222222222222222, \"#7201a8\"], [0.3333333333333333, \"#9c179e\"], [0.4444444444444444, \"#bd3786\"], [0.5555555555555556, \"#d8576b\"], [0.6666666666666666, \"#ed7953\"], [0.7777777777777778, \"#fb9f3a\"], [0.8888888888888888, \"#fdca26\"], [1.0, \"#f0f921\"]], \"type\": \"histogram2d\"}], \"histogram2dcontour\": [{\"colorbar\": {\"outlinewidth\": 0, \"ticks\": \"\"}, \"colorscale\": [[0.0, \"#0d0887\"], [0.1111111111111111, \"#46039f\"], [0.2222222222222222, \"#7201a8\"], [0.3333333333333333, \"#9c179e\"], [0.4444444444444444, \"#bd3786\"], [0.5555555555555556, \"#d8576b\"], [0.6666666666666666, \"#ed7953\"], [0.7777777777777778, \"#fb9f3a\"], [0.8888888888888888, \"#fdca26\"], [1.0, \"#f0f921\"]], \"type\": \"histogram2dcontour\"}], \"mesh3d\": [{\"colorbar\": {\"outlinewidth\": 0, \"ticks\": \"\"}, \"type\": \"mesh3d\"}], \"parcoords\": [{\"line\": {\"colorbar\": {\"outlinewidth\": 0, \"ticks\": \"\"}}, \"type\": \"parcoords\"}], \"pie\": [{\"automargin\": true, \"type\": \"pie\"}], \"scatter\": [{\"marker\": {\"colorbar\": {\"outlinewidth\": 0, \"ticks\": \"\"}}, \"type\": \"scatter\"}], \"scatter3d\": [{\"line\": {\"colorbar\": {\"outlinewidth\": 0, \"ticks\": \"\"}}, \"marker\": {\"colorbar\": {\"outlinewidth\": 0, \"ticks\": \"\"}}, \"type\": \"scatter3d\"}], \"scattercarpet\": [{\"marker\": {\"colorbar\": {\"outlinewidth\": 0, \"ticks\": \"\"}}, \"type\": \"scattercarpet\"}], \"scattergeo\": [{\"marker\": {\"colorbar\": {\"outlinewidth\": 0, \"ticks\": \"\"}}, \"type\": \"scattergeo\"}], \"scattergl\": [{\"marker\": {\"colorbar\": {\"outlinewidth\": 0, \"ticks\": \"\"}}, \"type\": \"scattergl\"}], \"scattermapbox\": [{\"marker\": {\"colorbar\": {\"outlinewidth\": 0, \"ticks\": \"\"}}, \"type\": \"scattermapbox\"}], \"scatterpolar\": [{\"marker\": {\"colorbar\": {\"outlinewidth\": 0, \"ticks\": \"\"}}, \"type\": \"scatterpolar\"}], \"scatterpolargl\": [{\"marker\": {\"colorbar\": {\"outlinewidth\": 0, \"ticks\": \"\"}}, \"type\": \"scatterpolargl\"}], \"scatterternary\": [{\"marker\": {\"colorbar\": {\"outlinewidth\": 0, \"ticks\": \"\"}}, \"type\": \"scatterternary\"}], \"surface\": [{\"colorbar\": {\"outlinewidth\": 0, \"ticks\": \"\"}, \"colorscale\": [[0.0, \"#0d0887\"], [0.1111111111111111, \"#46039f\"], [0.2222222222222222, \"#7201a8\"], [0.3333333333333333, \"#9c179e\"], [0.4444444444444444, \"#bd3786\"], [0.5555555555555556, \"#d8576b\"], [0.6666666666666666, \"#ed7953\"], [0.7777777777777778, \"#fb9f3a\"], [0.8888888888888888, \"#fdca26\"], [1.0, \"#f0f921\"]], \"type\": \"surface\"}], \"table\": [{\"cells\": {\"fill\": {\"color\": \"#EBF0F8\"}, \"line\": {\"color\": \"white\"}}, \"header\": {\"fill\": {\"color\": \"#C8D4E3\"}, \"line\": {\"color\": \"white\"}}, \"type\": \"table\"}]}, \"layout\": {\"annotationdefaults\": {\"arrowcolor\": \"#2a3f5f\", \"arrowhead\": 0, \"arrowwidth\": 1}, \"coloraxis\": {\"colorbar\": {\"outlinewidth\": 0, \"ticks\": \"\"}}, \"colorscale\": {\"diverging\": [[0, \"#8e0152\"], [0.1, \"#c51b7d\"], [0.2, \"#de77ae\"], [0.3, \"#f1b6da\"], [0.4, \"#fde0ef\"], [0.5, \"#f7f7f7\"], [0.6, \"#e6f5d0\"], [0.7, \"#b8e186\"], [0.8, \"#7fbc41\"], [0.9, \"#4d9221\"], [1, \"#276419\"]], \"sequential\": [[0.0, \"#0d0887\"], [0.1111111111111111, \"#46039f\"], [0.2222222222222222, \"#7201a8\"], [0.3333333333333333, \"#9c179e\"], [0.4444444444444444, \"#bd3786\"], [0.5555555555555556, \"#d8576b\"], [0.6666666666666666, \"#ed7953\"], [0.7777777777777778, \"#fb9f3a\"], [0.8888888888888888, \"#fdca26\"], [1.0, \"#f0f921\"]], \"sequentialminus\": [[0.0, \"#0d0887\"], [0.1111111111111111, \"#46039f\"], [0.2222222222222222, \"#7201a8\"], [0.3333333333333333, \"#9c179e\"], [0.4444444444444444, \"#bd3786\"], [0.5555555555555556, \"#d8576b\"], [0.6666666666666666, \"#ed7953\"], [0.7777777777777778, \"#fb9f3a\"], [0.8888888888888888, \"#fdca26\"], [1.0, \"#f0f921\"]]}, \"colorway\": [\"#636efa\", \"#EF553B\", \"#00cc96\", \"#ab63fa\", \"#FFA15A\", \"#19d3f3\", \"#FF6692\", \"#B6E880\", \"#FF97FF\", \"#FECB52\"], \"font\": {\"color\": \"#2a3f5f\"}, \"geo\": {\"bgcolor\": \"white\", \"lakecolor\": \"white\", \"landcolor\": \"#E5ECF6\", \"showlakes\": true, \"showland\": true, \"subunitcolor\": \"white\"}, \"hoverlabel\": {\"align\": \"left\"}, \"hovermode\": \"closest\", \"mapbox\": {\"style\": \"light\"}, \"paper_bgcolor\": \"white\", \"plot_bgcolor\": \"#E5ECF6\", \"polar\": {\"angularaxis\": {\"gridcolor\": \"white\", \"linecolor\": \"white\", \"ticks\": \"\"}, \"bgcolor\": \"#E5ECF6\", \"radialaxis\": {\"gridcolor\": \"white\", \"linecolor\": \"white\", \"ticks\": \"\"}}, \"scene\": {\"xaxis\": {\"backgroundcolor\": \"#E5ECF6\", \"gridcolor\": \"white\", \"gridwidth\": 2, \"linecolor\": \"white\", \"showbackground\": true, \"ticks\": \"\", \"zerolinecolor\": \"white\"}, \"yaxis\": {\"backgroundcolor\": \"#E5ECF6\", \"gridcolor\": \"white\", \"gridwidth\": 2, \"linecolor\": \"white\", \"showbackground\": true, \"ticks\": \"\", \"zerolinecolor\": \"white\"}, \"zaxis\": {\"backgroundcolor\": \"#E5ECF6\", \"gridcolor\": \"white\", \"gridwidth\": 2, \"linecolor\": \"white\", \"showbackground\": true, \"ticks\": \"\", \"zerolinecolor\": \"white\"}}, \"shapedefaults\": {\"line\": {\"color\": \"#2a3f5f\"}}, \"ternary\": {\"aaxis\": {\"gridcolor\": \"white\", \"linecolor\": \"white\", \"ticks\": \"\"}, \"baxis\": {\"gridcolor\": \"white\", \"linecolor\": \"white\", \"ticks\": \"\"}, \"bgcolor\": \"#E5ECF6\", \"caxis\": {\"gridcolor\": \"white\", \"linecolor\": \"white\", \"ticks\": \"\"}}, \"title\": {\"x\": 0.05}, \"xaxis\": {\"automargin\": true, \"gridcolor\": \"white\", \"linecolor\": \"white\", \"ticks\": \"\", \"title\": {\"standoff\": 15}, \"zerolinecolor\": \"white\", \"zerolinewidth\": 2}, \"yaxis\": {\"automargin\": true, \"gridcolor\": \"white\", \"linecolor\": \"white\", \"ticks\": \"\", \"title\": {\"standoff\": 15}, \"zerolinecolor\": \"white\", \"zerolinewidth\": 2}}}},\n",
              "                        {\"responsive\": true}\n",
              "                    ).then(function(){\n",
              "                            \n",
              "var gd = document.getElementById('76e2a29e-da78-45e6-93dd-81ab9694696b');\n",
              "var x = new MutationObserver(function (mutations, observer) {{\n",
              "        var display = window.getComputedStyle(gd).display;\n",
              "        if (!display || display === 'none') {{\n",
              "            console.log([gd, 'removed!']);\n",
              "            Plotly.purge(gd);\n",
              "            observer.disconnect();\n",
              "        }}\n",
              "}});\n",
              "\n",
              "// Listen for the removal of the full notebook cells\n",
              "var notebookContainer = gd.closest('#notebook-container');\n",
              "if (notebookContainer) {{\n",
              "    x.observe(notebookContainer, {childList: true});\n",
              "}}\n",
              "\n",
              "// Listen for the clearing of the current output cell\n",
              "var outputEl = gd.closest('.output');\n",
              "if (outputEl) {{\n",
              "    x.observe(outputEl, {childList: true});\n",
              "}}\n",
              "\n",
              "                        })\n",
              "                };\n",
              "                \n",
              "            </script>\n",
              "        </div>\n",
              "</body>\n",
              "</html>"
            ]
          },
          "metadata": {
            "tags": []
          }
        }
      ]
    },
    {
      "cell_type": "code",
      "metadata": {
        "id": "LVLae-A8ikya",
        "colab_type": "code",
        "colab": {}
      },
      "source": [
        "#!pip install bert-extractive_summarizer"
      ],
      "execution_count": 0,
      "outputs": []
    },
    {
      "cell_type": "code",
      "metadata": {
        "id": "jJhGgkWVIlL5",
        "colab_type": "code",
        "outputId": "5278cb06-e36c-4fa9-faa1-dc60e4f2b0b1",
        "colab": {
          "base_uri": "https://localhost:8080/",
          "height": 88
        }
      },
      "source": [
        "from summarizer import Summarizer\n",
        "\n",
        "body = 'Such a scandal as the prosecution of a brother for forgery—with a verdict of guilty—is a most truly horrible, deplorable, fatal thing. It takes the respectability out of a family perhaps at a critical moment, when the family is just assuming the robes of respectability: […] it is a black spot which all the soaps ever advertised could never wash off.'\n",
        "body2 = 'Something else you want to summarize with BERT'\n",
        "model = Summarizer()\n",
        "print(model(body))\n",
        "print(model(body2))\n",
        "\n",
        "\n",
        "str ='''COVID-19 is a disease caused by a respiratory virus first identified in Wuhan, Hubei Province, China in December 2019. COVID-19 is a new virus that hasn't caused illness in humans before. Worldwide, COVID-19 has resulted in thousands of infections, \n",
        "causing illness and in some cases death. Cases have spread to countries throughout the world, with more cases reported daily.\n",
        "'''\n",
        "\n",
        "model=Summarizer()\n",
        "abstract1_summary = model(str)\n",
        "\n",
        "full_abstract = ''.join(abstract1_summary)\n",
        "print(full_abstract)\n"
      ],
      "execution_count": 0,
      "outputs": [
        {
          "output_type": "stream",
          "text": [
            "Such a scandal as the prosecution of a brother for forgery—with a verdict of guilty—is a most truly horrible, deplorable, fatal thing.\n",
            "Something else you want to summarize with BERT\n",
            "COVID-19 is a disease caused by a respiratory virus first identified in Wuhan, Hubei Province, China in December 2019. COVID-19 is a new virus that hasn't caused illness in humans before.\n"
          ],
          "name": "stdout"
        }
      ]
    }
  ]
}