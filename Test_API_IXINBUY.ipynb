{
  "nbformat": 4,
  "nbformat_minor": 0,
  "metadata": {
    "colab": {
      "name": "Test_API_IXINBUY.ipynb",
      "provenance": [],
      "collapsed_sections": [],
      "toc_visible": true,
      "authorship_tag": "ABX9TyMTtJCsuAU4CNQ0pCOqaiqI",
      "include_colab_link": true
    },
    "kernelspec": {
      "name": "python3",
      "display_name": "Python 3"
    }
  },
  "cells": [
    {
      "cell_type": "markdown",
      "metadata": {
        "id": "view-in-github",
        "colab_type": "text"
      },
      "source": [
        "<a href=\"https://colab.research.google.com/github/xdderekchen/ML/blob/master/Test_API_IXINBUY.ipynb\" target=\"_parent\"><img src=\"https://colab.research.google.com/assets/colab-badge.svg\" alt=\"Open In Colab\"/></a>"
      ]
    },
    {
      "cell_type": "markdown",
      "metadata": {
        "id": "pfJYQa0CA33L",
        "colab_type": "text"
      },
      "source": [
        "# Demonstation of Web API of ttData\n",
        "\n",
        "ttdata provides webservices for users to access the powerful block-chain based services.\n",
        "\n",
        "This post has 2 purposes:\n",
        " 1. Samples for API calls\n",
        " 2. Testing of API and the webservice"
      ]
    },
    {
      "cell_type": "markdown",
      "metadata": {
        "id": "XwTmhZZsDMfa",
        "colab_type": "text"
      },
      "source": [
        "## 1.1. Version 1\n",
        "\n",
        "In this version, we will test the following Web API functions\n",
        " * **(POST)** http://URL:port/register\n",
        " * **(POST)** http://URL:port/uploaddata\n",
        " * **(POST)** http://URL:port/uploadbatchdata\n",
        " * **(GET)**  http://URL:port/getshareddata"
      ]
    },
    {
      "cell_type": "markdown",
      "metadata": {
        "id": "0nzKcaaru-jO",
        "colab_type": "text"
      },
      "source": [
        "### Setup Server URL"
      ]
    },
    {
      "cell_type": "code",
      "metadata": {
        "id": "GWBgeSECu5pA",
        "colab_type": "code",
        "colab": {}
      },
      "source": [
        "baseURL = \"http://108.48.52.183:7061/\"   #production server\n",
        "\n",
        "#baseURL = \"http://ixinbuy.com:7061/\"    #Azure Server\n",
        "\n",
        "DEVICE_ID = \"XD_COVID19_V1\""
      ],
      "execution_count": 0,
      "outputs": []
    },
    {
      "cell_type": "markdown",
      "metadata": {
        "id": "-LOzudGblJB6",
        "colab_type": "text"
      },
      "source": [
        "### register  (endpoint: /register)"
      ]
    },
    {
      "cell_type": "code",
      "metadata": {
        "id": "M9DQPiQMAo82",
        "colab_type": "code",
        "outputId": "b90a7895-8386-4817-8489-07a6c02b2537",
        "colab": {
          "base_uri": "https://localhost:8080/",
          "height": 615
        }
      },
      "source": [
        "import requests\n",
        "import json\n",
        "\n",
        "URL = baseURL +\"register\"\n",
        "\n",
        "payload = {\"device_id\":DEVICE_ID}\n",
        "\n",
        "#Passing payload as dict\n",
        "responce = requests.post(URL, data = payload)\n",
        "print(responce.status_code)\n",
        "print(responce.text)\n"
      ],
      "execution_count": 19,
      "outputs": [
        {
          "output_type": "error",
          "ename": "ConnectionError",
          "evalue": "ignored",
          "traceback": [
            "\u001b[0;31m---------------------------------------------------------------------------\u001b[0m",
            "\u001b[0;31mConnectionRefusedError\u001b[0m                    Traceback (most recent call last)",
            "\u001b[0;32m/usr/local/lib/python3.6/dist-packages/urllib3/connection.py\u001b[0m in \u001b[0;36m_new_conn\u001b[0;34m(self)\u001b[0m\n\u001b[1;32m    158\u001b[0m             conn = connection.create_connection(\n\u001b[0;32m--> 159\u001b[0;31m                 (self._dns_host, self.port), self.timeout, **extra_kw)\n\u001b[0m\u001b[1;32m    160\u001b[0m \u001b[0;34m\u001b[0m\u001b[0m\n",
            "\u001b[0;32m/usr/local/lib/python3.6/dist-packages/urllib3/util/connection.py\u001b[0m in \u001b[0;36mcreate_connection\u001b[0;34m(address, timeout, source_address, socket_options)\u001b[0m\n\u001b[1;32m     79\u001b[0m     \u001b[0;32mif\u001b[0m \u001b[0merr\u001b[0m \u001b[0;32mis\u001b[0m \u001b[0;32mnot\u001b[0m \u001b[0;32mNone\u001b[0m\u001b[0;34m:\u001b[0m\u001b[0;34m\u001b[0m\u001b[0;34m\u001b[0m\u001b[0m\n\u001b[0;32m---> 80\u001b[0;31m         \u001b[0;32mraise\u001b[0m \u001b[0merr\u001b[0m\u001b[0;34m\u001b[0m\u001b[0;34m\u001b[0m\u001b[0m\n\u001b[0m\u001b[1;32m     81\u001b[0m \u001b[0;34m\u001b[0m\u001b[0m\n",
            "\u001b[0;32m/usr/local/lib/python3.6/dist-packages/urllib3/util/connection.py\u001b[0m in \u001b[0;36mcreate_connection\u001b[0;34m(address, timeout, source_address, socket_options)\u001b[0m\n\u001b[1;32m     69\u001b[0m                 \u001b[0msock\u001b[0m\u001b[0;34m.\u001b[0m\u001b[0mbind\u001b[0m\u001b[0;34m(\u001b[0m\u001b[0msource_address\u001b[0m\u001b[0;34m)\u001b[0m\u001b[0;34m\u001b[0m\u001b[0;34m\u001b[0m\u001b[0m\n\u001b[0;32m---> 70\u001b[0;31m             \u001b[0msock\u001b[0m\u001b[0;34m.\u001b[0m\u001b[0mconnect\u001b[0m\u001b[0;34m(\u001b[0m\u001b[0msa\u001b[0m\u001b[0;34m)\u001b[0m\u001b[0;34m\u001b[0m\u001b[0;34m\u001b[0m\u001b[0m\n\u001b[0m\u001b[1;32m     71\u001b[0m             \u001b[0;32mreturn\u001b[0m \u001b[0msock\u001b[0m\u001b[0;34m\u001b[0m\u001b[0;34m\u001b[0m\u001b[0m\n",
            "\u001b[0;31mConnectionRefusedError\u001b[0m: [Errno 111] Connection refused",
            "\nDuring handling of the above exception, another exception occurred:\n",
            "\u001b[0;31mNewConnectionError\u001b[0m                        Traceback (most recent call last)",
            "\u001b[0;32m/usr/local/lib/python3.6/dist-packages/urllib3/connectionpool.py\u001b[0m in \u001b[0;36murlopen\u001b[0;34m(self, method, url, body, headers, retries, redirect, assert_same_host, timeout, pool_timeout, release_conn, chunked, body_pos, **response_kw)\u001b[0m\n\u001b[1;32m    599\u001b[0m                                                   \u001b[0mbody\u001b[0m\u001b[0;34m=\u001b[0m\u001b[0mbody\u001b[0m\u001b[0;34m,\u001b[0m \u001b[0mheaders\u001b[0m\u001b[0;34m=\u001b[0m\u001b[0mheaders\u001b[0m\u001b[0;34m,\u001b[0m\u001b[0;34m\u001b[0m\u001b[0;34m\u001b[0m\u001b[0m\n\u001b[0;32m--> 600\u001b[0;31m                                                   chunked=chunked)\n\u001b[0m\u001b[1;32m    601\u001b[0m \u001b[0;34m\u001b[0m\u001b[0m\n",
            "\u001b[0;32m/usr/local/lib/python3.6/dist-packages/urllib3/connectionpool.py\u001b[0m in \u001b[0;36m_make_request\u001b[0;34m(self, conn, method, url, timeout, chunked, **httplib_request_kw)\u001b[0m\n\u001b[1;32m    353\u001b[0m         \u001b[0;32melse\u001b[0m\u001b[0;34m:\u001b[0m\u001b[0;34m\u001b[0m\u001b[0;34m\u001b[0m\u001b[0m\n\u001b[0;32m--> 354\u001b[0;31m             \u001b[0mconn\u001b[0m\u001b[0;34m.\u001b[0m\u001b[0mrequest\u001b[0m\u001b[0;34m(\u001b[0m\u001b[0mmethod\u001b[0m\u001b[0;34m,\u001b[0m \u001b[0murl\u001b[0m\u001b[0;34m,\u001b[0m \u001b[0;34m**\u001b[0m\u001b[0mhttplib_request_kw\u001b[0m\u001b[0;34m)\u001b[0m\u001b[0;34m\u001b[0m\u001b[0;34m\u001b[0m\u001b[0m\n\u001b[0m\u001b[1;32m    355\u001b[0m \u001b[0;34m\u001b[0m\u001b[0m\n",
            "\u001b[0;32m/usr/lib/python3.6/http/client.py\u001b[0m in \u001b[0;36mrequest\u001b[0;34m(self, method, url, body, headers, encode_chunked)\u001b[0m\n\u001b[1;32m   1253\u001b[0m         \u001b[0;34m\"\"\"Send a complete request to the server.\"\"\"\u001b[0m\u001b[0;34m\u001b[0m\u001b[0;34m\u001b[0m\u001b[0m\n\u001b[0;32m-> 1254\u001b[0;31m         \u001b[0mself\u001b[0m\u001b[0;34m.\u001b[0m\u001b[0m_send_request\u001b[0m\u001b[0;34m(\u001b[0m\u001b[0mmethod\u001b[0m\u001b[0;34m,\u001b[0m \u001b[0murl\u001b[0m\u001b[0;34m,\u001b[0m \u001b[0mbody\u001b[0m\u001b[0;34m,\u001b[0m \u001b[0mheaders\u001b[0m\u001b[0;34m,\u001b[0m \u001b[0mencode_chunked\u001b[0m\u001b[0;34m)\u001b[0m\u001b[0;34m\u001b[0m\u001b[0;34m\u001b[0m\u001b[0m\n\u001b[0m\u001b[1;32m   1255\u001b[0m \u001b[0;34m\u001b[0m\u001b[0m\n",
            "\u001b[0;32m/usr/lib/python3.6/http/client.py\u001b[0m in \u001b[0;36m_send_request\u001b[0;34m(self, method, url, body, headers, encode_chunked)\u001b[0m\n\u001b[1;32m   1299\u001b[0m             \u001b[0mbody\u001b[0m \u001b[0;34m=\u001b[0m \u001b[0m_encode\u001b[0m\u001b[0;34m(\u001b[0m\u001b[0mbody\u001b[0m\u001b[0;34m,\u001b[0m \u001b[0;34m'body'\u001b[0m\u001b[0;34m)\u001b[0m\u001b[0;34m\u001b[0m\u001b[0;34m\u001b[0m\u001b[0m\n\u001b[0;32m-> 1300\u001b[0;31m         \u001b[0mself\u001b[0m\u001b[0;34m.\u001b[0m\u001b[0mendheaders\u001b[0m\u001b[0;34m(\u001b[0m\u001b[0mbody\u001b[0m\u001b[0;34m,\u001b[0m \u001b[0mencode_chunked\u001b[0m\u001b[0;34m=\u001b[0m\u001b[0mencode_chunked\u001b[0m\u001b[0;34m)\u001b[0m\u001b[0;34m\u001b[0m\u001b[0;34m\u001b[0m\u001b[0m\n\u001b[0m\u001b[1;32m   1301\u001b[0m \u001b[0;34m\u001b[0m\u001b[0m\n",
            "\u001b[0;32m/usr/lib/python3.6/http/client.py\u001b[0m in \u001b[0;36mendheaders\u001b[0;34m(self, message_body, encode_chunked)\u001b[0m\n\u001b[1;32m   1248\u001b[0m             \u001b[0;32mraise\u001b[0m \u001b[0mCannotSendHeader\u001b[0m\u001b[0;34m(\u001b[0m\u001b[0;34m)\u001b[0m\u001b[0;34m\u001b[0m\u001b[0;34m\u001b[0m\u001b[0m\n\u001b[0;32m-> 1249\u001b[0;31m         \u001b[0mself\u001b[0m\u001b[0;34m.\u001b[0m\u001b[0m_send_output\u001b[0m\u001b[0;34m(\u001b[0m\u001b[0mmessage_body\u001b[0m\u001b[0;34m,\u001b[0m \u001b[0mencode_chunked\u001b[0m\u001b[0;34m=\u001b[0m\u001b[0mencode_chunked\u001b[0m\u001b[0;34m)\u001b[0m\u001b[0;34m\u001b[0m\u001b[0;34m\u001b[0m\u001b[0m\n\u001b[0m\u001b[1;32m   1250\u001b[0m \u001b[0;34m\u001b[0m\u001b[0m\n",
            "\u001b[0;32m/usr/lib/python3.6/http/client.py\u001b[0m in \u001b[0;36m_send_output\u001b[0;34m(self, message_body, encode_chunked)\u001b[0m\n\u001b[1;32m   1035\u001b[0m         \u001b[0;32mdel\u001b[0m \u001b[0mself\u001b[0m\u001b[0;34m.\u001b[0m\u001b[0m_buffer\u001b[0m\u001b[0;34m[\u001b[0m\u001b[0;34m:\u001b[0m\u001b[0;34m]\u001b[0m\u001b[0;34m\u001b[0m\u001b[0;34m\u001b[0m\u001b[0m\n\u001b[0;32m-> 1036\u001b[0;31m         \u001b[0mself\u001b[0m\u001b[0;34m.\u001b[0m\u001b[0msend\u001b[0m\u001b[0;34m(\u001b[0m\u001b[0mmsg\u001b[0m\u001b[0;34m)\u001b[0m\u001b[0;34m\u001b[0m\u001b[0;34m\u001b[0m\u001b[0m\n\u001b[0m\u001b[1;32m   1037\u001b[0m \u001b[0;34m\u001b[0m\u001b[0m\n",
            "\u001b[0;32m/usr/lib/python3.6/http/client.py\u001b[0m in \u001b[0;36msend\u001b[0;34m(self, data)\u001b[0m\n\u001b[1;32m    973\u001b[0m             \u001b[0;32mif\u001b[0m \u001b[0mself\u001b[0m\u001b[0;34m.\u001b[0m\u001b[0mauto_open\u001b[0m\u001b[0;34m:\u001b[0m\u001b[0;34m\u001b[0m\u001b[0;34m\u001b[0m\u001b[0m\n\u001b[0;32m--> 974\u001b[0;31m                 \u001b[0mself\u001b[0m\u001b[0;34m.\u001b[0m\u001b[0mconnect\u001b[0m\u001b[0;34m(\u001b[0m\u001b[0;34m)\u001b[0m\u001b[0;34m\u001b[0m\u001b[0;34m\u001b[0m\u001b[0m\n\u001b[0m\u001b[1;32m    975\u001b[0m             \u001b[0;32melse\u001b[0m\u001b[0;34m:\u001b[0m\u001b[0;34m\u001b[0m\u001b[0;34m\u001b[0m\u001b[0m\n",
            "\u001b[0;32m/usr/local/lib/python3.6/dist-packages/urllib3/connection.py\u001b[0m in \u001b[0;36mconnect\u001b[0;34m(self)\u001b[0m\n\u001b[1;32m    180\u001b[0m     \u001b[0;32mdef\u001b[0m \u001b[0mconnect\u001b[0m\u001b[0;34m(\u001b[0m\u001b[0mself\u001b[0m\u001b[0;34m)\u001b[0m\u001b[0;34m:\u001b[0m\u001b[0;34m\u001b[0m\u001b[0;34m\u001b[0m\u001b[0m\n\u001b[0;32m--> 181\u001b[0;31m         \u001b[0mconn\u001b[0m \u001b[0;34m=\u001b[0m \u001b[0mself\u001b[0m\u001b[0;34m.\u001b[0m\u001b[0m_new_conn\u001b[0m\u001b[0;34m(\u001b[0m\u001b[0;34m)\u001b[0m\u001b[0;34m\u001b[0m\u001b[0;34m\u001b[0m\u001b[0m\n\u001b[0m\u001b[1;32m    182\u001b[0m         \u001b[0mself\u001b[0m\u001b[0;34m.\u001b[0m\u001b[0m_prepare_conn\u001b[0m\u001b[0;34m(\u001b[0m\u001b[0mconn\u001b[0m\u001b[0;34m)\u001b[0m\u001b[0;34m\u001b[0m\u001b[0;34m\u001b[0m\u001b[0m\n",
            "\u001b[0;32m/usr/local/lib/python3.6/dist-packages/urllib3/connection.py\u001b[0m in \u001b[0;36m_new_conn\u001b[0;34m(self)\u001b[0m\n\u001b[1;32m    167\u001b[0m             raise NewConnectionError(\n\u001b[0;32m--> 168\u001b[0;31m                 self, \"Failed to establish a new connection: %s\" % e)\n\u001b[0m\u001b[1;32m    169\u001b[0m \u001b[0;34m\u001b[0m\u001b[0m\n",
            "\u001b[0;31mNewConnectionError\u001b[0m: <urllib3.connection.HTTPConnection object at 0x7efce744bda0>: Failed to establish a new connection: [Errno 111] Connection refused",
            "\nDuring handling of the above exception, another exception occurred:\n",
            "\u001b[0;31mMaxRetryError\u001b[0m                             Traceback (most recent call last)",
            "\u001b[0;32m/usr/local/lib/python3.6/dist-packages/requests/adapters.py\u001b[0m in \u001b[0;36msend\u001b[0;34m(self, request, stream, timeout, verify, cert, proxies)\u001b[0m\n\u001b[1;32m    448\u001b[0m                     \u001b[0mretries\u001b[0m\u001b[0;34m=\u001b[0m\u001b[0mself\u001b[0m\u001b[0;34m.\u001b[0m\u001b[0mmax_retries\u001b[0m\u001b[0;34m,\u001b[0m\u001b[0;34m\u001b[0m\u001b[0;34m\u001b[0m\u001b[0m\n\u001b[0;32m--> 449\u001b[0;31m                     \u001b[0mtimeout\u001b[0m\u001b[0;34m=\u001b[0m\u001b[0mtimeout\u001b[0m\u001b[0;34m\u001b[0m\u001b[0;34m\u001b[0m\u001b[0m\n\u001b[0m\u001b[1;32m    450\u001b[0m                 )\n",
            "\u001b[0;32m/usr/local/lib/python3.6/dist-packages/urllib3/connectionpool.py\u001b[0m in \u001b[0;36murlopen\u001b[0;34m(self, method, url, body, headers, retries, redirect, assert_same_host, timeout, pool_timeout, release_conn, chunked, body_pos, **response_kw)\u001b[0m\n\u001b[1;32m    637\u001b[0m             retries = retries.increment(method, url, error=e, _pool=self,\n\u001b[0;32m--> 638\u001b[0;31m                                         _stacktrace=sys.exc_info()[2])\n\u001b[0m\u001b[1;32m    639\u001b[0m             \u001b[0mretries\u001b[0m\u001b[0;34m.\u001b[0m\u001b[0msleep\u001b[0m\u001b[0;34m(\u001b[0m\u001b[0;34m)\u001b[0m\u001b[0;34m\u001b[0m\u001b[0;34m\u001b[0m\u001b[0m\n",
            "\u001b[0;32m/usr/local/lib/python3.6/dist-packages/urllib3/util/retry.py\u001b[0m in \u001b[0;36mincrement\u001b[0;34m(self, method, url, response, error, _pool, _stacktrace)\u001b[0m\n\u001b[1;32m    398\u001b[0m         \u001b[0;32mif\u001b[0m \u001b[0mnew_retry\u001b[0m\u001b[0;34m.\u001b[0m\u001b[0mis_exhausted\u001b[0m\u001b[0;34m(\u001b[0m\u001b[0;34m)\u001b[0m\u001b[0;34m:\u001b[0m\u001b[0;34m\u001b[0m\u001b[0;34m\u001b[0m\u001b[0m\n\u001b[0;32m--> 399\u001b[0;31m             \u001b[0;32mraise\u001b[0m \u001b[0mMaxRetryError\u001b[0m\u001b[0;34m(\u001b[0m\u001b[0m_pool\u001b[0m\u001b[0;34m,\u001b[0m \u001b[0murl\u001b[0m\u001b[0;34m,\u001b[0m \u001b[0merror\u001b[0m \u001b[0;32mor\u001b[0m \u001b[0mResponseError\u001b[0m\u001b[0;34m(\u001b[0m\u001b[0mcause\u001b[0m\u001b[0;34m)\u001b[0m\u001b[0;34m)\u001b[0m\u001b[0;34m\u001b[0m\u001b[0;34m\u001b[0m\u001b[0m\n\u001b[0m\u001b[1;32m    400\u001b[0m \u001b[0;34m\u001b[0m\u001b[0m\n",
            "\u001b[0;31mMaxRetryError\u001b[0m: HTTPConnectionPool(host='108.48.52.183', port=7061): Max retries exceeded with url: /register (Caused by NewConnectionError('<urllib3.connection.HTTPConnection object at 0x7efce744bda0>: Failed to establish a new connection: [Errno 111] Connection refused',))",
            "\nDuring handling of the above exception, another exception occurred:\n",
            "\u001b[0;31mConnectionError\u001b[0m                           Traceback (most recent call last)",
            "\u001b[0;32m<ipython-input-19-49756a4870aa>\u001b[0m in \u001b[0;36m<module>\u001b[0;34m()\u001b[0m\n\u001b[1;32m      9\u001b[0m \u001b[0;34m\u001b[0m\u001b[0m\n\u001b[1;32m     10\u001b[0m \u001b[0;31m#Passing payload as dict\u001b[0m\u001b[0;34m\u001b[0m\u001b[0;34m\u001b[0m\u001b[0;34m\u001b[0m\u001b[0m\n\u001b[0;32m---> 11\u001b[0;31m \u001b[0mresponce\u001b[0m \u001b[0;34m=\u001b[0m \u001b[0mrequests\u001b[0m\u001b[0;34m.\u001b[0m\u001b[0mpost\u001b[0m\u001b[0;34m(\u001b[0m\u001b[0mURL\u001b[0m\u001b[0;34m,\u001b[0m \u001b[0mdata\u001b[0m \u001b[0;34m=\u001b[0m \u001b[0mpayload\u001b[0m\u001b[0;34m)\u001b[0m\u001b[0;34m\u001b[0m\u001b[0;34m\u001b[0m\u001b[0m\n\u001b[0m\u001b[1;32m     12\u001b[0m \u001b[0mprint\u001b[0m\u001b[0;34m(\u001b[0m\u001b[0mresponce\u001b[0m\u001b[0;34m.\u001b[0m\u001b[0mstatus_code\u001b[0m\u001b[0;34m)\u001b[0m\u001b[0;34m\u001b[0m\u001b[0;34m\u001b[0m\u001b[0m\n\u001b[1;32m     13\u001b[0m \u001b[0mprint\u001b[0m\u001b[0;34m(\u001b[0m\u001b[0mresponce\u001b[0m\u001b[0;34m.\u001b[0m\u001b[0mtext\u001b[0m\u001b[0;34m)\u001b[0m\u001b[0;34m\u001b[0m\u001b[0;34m\u001b[0m\u001b[0m\n",
            "\u001b[0;32m/usr/local/lib/python3.6/dist-packages/requests/api.py\u001b[0m in \u001b[0;36mpost\u001b[0;34m(url, data, json, **kwargs)\u001b[0m\n\u001b[1;32m    117\u001b[0m     \"\"\"\n\u001b[1;32m    118\u001b[0m \u001b[0;34m\u001b[0m\u001b[0m\n\u001b[0;32m--> 119\u001b[0;31m     \u001b[0;32mreturn\u001b[0m \u001b[0mrequest\u001b[0m\u001b[0;34m(\u001b[0m\u001b[0;34m'post'\u001b[0m\u001b[0;34m,\u001b[0m \u001b[0murl\u001b[0m\u001b[0;34m,\u001b[0m \u001b[0mdata\u001b[0m\u001b[0;34m=\u001b[0m\u001b[0mdata\u001b[0m\u001b[0;34m,\u001b[0m \u001b[0mjson\u001b[0m\u001b[0;34m=\u001b[0m\u001b[0mjson\u001b[0m\u001b[0;34m,\u001b[0m \u001b[0;34m**\u001b[0m\u001b[0mkwargs\u001b[0m\u001b[0;34m)\u001b[0m\u001b[0;34m\u001b[0m\u001b[0;34m\u001b[0m\u001b[0m\n\u001b[0m\u001b[1;32m    120\u001b[0m \u001b[0;34m\u001b[0m\u001b[0m\n\u001b[1;32m    121\u001b[0m \u001b[0;34m\u001b[0m\u001b[0m\n",
            "\u001b[0;32m/usr/local/lib/python3.6/dist-packages/requests/api.py\u001b[0m in \u001b[0;36mrequest\u001b[0;34m(method, url, **kwargs)\u001b[0m\n\u001b[1;32m     59\u001b[0m     \u001b[0;31m# cases, and look like a memory leak in others.\u001b[0m\u001b[0;34m\u001b[0m\u001b[0;34m\u001b[0m\u001b[0;34m\u001b[0m\u001b[0m\n\u001b[1;32m     60\u001b[0m     \u001b[0;32mwith\u001b[0m \u001b[0msessions\u001b[0m\u001b[0;34m.\u001b[0m\u001b[0mSession\u001b[0m\u001b[0;34m(\u001b[0m\u001b[0;34m)\u001b[0m \u001b[0;32mas\u001b[0m \u001b[0msession\u001b[0m\u001b[0;34m:\u001b[0m\u001b[0;34m\u001b[0m\u001b[0;34m\u001b[0m\u001b[0m\n\u001b[0;32m---> 61\u001b[0;31m         \u001b[0;32mreturn\u001b[0m \u001b[0msession\u001b[0m\u001b[0;34m.\u001b[0m\u001b[0mrequest\u001b[0m\u001b[0;34m(\u001b[0m\u001b[0mmethod\u001b[0m\u001b[0;34m=\u001b[0m\u001b[0mmethod\u001b[0m\u001b[0;34m,\u001b[0m \u001b[0murl\u001b[0m\u001b[0;34m=\u001b[0m\u001b[0murl\u001b[0m\u001b[0;34m,\u001b[0m \u001b[0;34m**\u001b[0m\u001b[0mkwargs\u001b[0m\u001b[0;34m)\u001b[0m\u001b[0;34m\u001b[0m\u001b[0;34m\u001b[0m\u001b[0m\n\u001b[0m\u001b[1;32m     62\u001b[0m \u001b[0;34m\u001b[0m\u001b[0m\n\u001b[1;32m     63\u001b[0m \u001b[0;34m\u001b[0m\u001b[0m\n",
            "\u001b[0;32m/usr/local/lib/python3.6/dist-packages/requests/sessions.py\u001b[0m in \u001b[0;36mrequest\u001b[0;34m(self, method, url, params, data, headers, cookies, files, auth, timeout, allow_redirects, proxies, hooks, stream, verify, cert, json)\u001b[0m\n\u001b[1;32m    528\u001b[0m         }\n\u001b[1;32m    529\u001b[0m         \u001b[0msend_kwargs\u001b[0m\u001b[0;34m.\u001b[0m\u001b[0mupdate\u001b[0m\u001b[0;34m(\u001b[0m\u001b[0msettings\u001b[0m\u001b[0;34m)\u001b[0m\u001b[0;34m\u001b[0m\u001b[0;34m\u001b[0m\u001b[0m\n\u001b[0;32m--> 530\u001b[0;31m         \u001b[0mresp\u001b[0m \u001b[0;34m=\u001b[0m \u001b[0mself\u001b[0m\u001b[0;34m.\u001b[0m\u001b[0msend\u001b[0m\u001b[0;34m(\u001b[0m\u001b[0mprep\u001b[0m\u001b[0;34m,\u001b[0m \u001b[0;34m**\u001b[0m\u001b[0msend_kwargs\u001b[0m\u001b[0;34m)\u001b[0m\u001b[0;34m\u001b[0m\u001b[0;34m\u001b[0m\u001b[0m\n\u001b[0m\u001b[1;32m    531\u001b[0m \u001b[0;34m\u001b[0m\u001b[0m\n\u001b[1;32m    532\u001b[0m         \u001b[0;32mreturn\u001b[0m \u001b[0mresp\u001b[0m\u001b[0;34m\u001b[0m\u001b[0;34m\u001b[0m\u001b[0m\n",
            "\u001b[0;32m/usr/local/lib/python3.6/dist-packages/requests/sessions.py\u001b[0m in \u001b[0;36msend\u001b[0;34m(self, request, **kwargs)\u001b[0m\n\u001b[1;32m    641\u001b[0m \u001b[0;34m\u001b[0m\u001b[0m\n\u001b[1;32m    642\u001b[0m         \u001b[0;31m# Send the request\u001b[0m\u001b[0;34m\u001b[0m\u001b[0;34m\u001b[0m\u001b[0;34m\u001b[0m\u001b[0m\n\u001b[0;32m--> 643\u001b[0;31m         \u001b[0mr\u001b[0m \u001b[0;34m=\u001b[0m \u001b[0madapter\u001b[0m\u001b[0;34m.\u001b[0m\u001b[0msend\u001b[0m\u001b[0;34m(\u001b[0m\u001b[0mrequest\u001b[0m\u001b[0;34m,\u001b[0m \u001b[0;34m**\u001b[0m\u001b[0mkwargs\u001b[0m\u001b[0;34m)\u001b[0m\u001b[0;34m\u001b[0m\u001b[0;34m\u001b[0m\u001b[0m\n\u001b[0m\u001b[1;32m    644\u001b[0m \u001b[0;34m\u001b[0m\u001b[0m\n\u001b[1;32m    645\u001b[0m         \u001b[0;31m# Total elapsed time of the request (approximately)\u001b[0m\u001b[0;34m\u001b[0m\u001b[0;34m\u001b[0m\u001b[0;34m\u001b[0m\u001b[0m\n",
            "\u001b[0;32m/usr/local/lib/python3.6/dist-packages/requests/adapters.py\u001b[0m in \u001b[0;36msend\u001b[0;34m(self, request, stream, timeout, verify, cert, proxies)\u001b[0m\n\u001b[1;32m    514\u001b[0m                 \u001b[0;32mraise\u001b[0m \u001b[0mSSLError\u001b[0m\u001b[0;34m(\u001b[0m\u001b[0me\u001b[0m\u001b[0;34m,\u001b[0m \u001b[0mrequest\u001b[0m\u001b[0;34m=\u001b[0m\u001b[0mrequest\u001b[0m\u001b[0;34m)\u001b[0m\u001b[0;34m\u001b[0m\u001b[0;34m\u001b[0m\u001b[0m\n\u001b[1;32m    515\u001b[0m \u001b[0;34m\u001b[0m\u001b[0m\n\u001b[0;32m--> 516\u001b[0;31m             \u001b[0;32mraise\u001b[0m \u001b[0mConnectionError\u001b[0m\u001b[0;34m(\u001b[0m\u001b[0me\u001b[0m\u001b[0;34m,\u001b[0m \u001b[0mrequest\u001b[0m\u001b[0;34m=\u001b[0m\u001b[0mrequest\u001b[0m\u001b[0;34m)\u001b[0m\u001b[0;34m\u001b[0m\u001b[0;34m\u001b[0m\u001b[0m\n\u001b[0m\u001b[1;32m    517\u001b[0m \u001b[0;34m\u001b[0m\u001b[0m\n\u001b[1;32m    518\u001b[0m         \u001b[0;32mexcept\u001b[0m \u001b[0mClosedPoolError\u001b[0m \u001b[0;32mas\u001b[0m \u001b[0me\u001b[0m\u001b[0;34m:\u001b[0m\u001b[0;34m\u001b[0m\u001b[0;34m\u001b[0m\u001b[0m\n",
            "\u001b[0;31mConnectionError\u001b[0m: HTTPConnectionPool(host='108.48.52.183', port=7061): Max retries exceeded with url: /register (Caused by NewConnectionError('<urllib3.connection.HTTPConnection object at 0x7efce744bda0>: Failed to establish a new connection: [Errno 111] Connection refused',))"
          ]
        }
      ]
    },
    {
      "cell_type": "markdown",
      "metadata": {
        "id": "uYsVg7AblP9V",
        "colab_type": "text"
      },
      "source": [
        "### uploaddata (single data) (endpoint: /uploaddata)"
      ]
    },
    {
      "cell_type": "code",
      "metadata": {
        "id": "RHFuaOB5lbWt",
        "colab_type": "code",
        "outputId": "82275d9c-d282-4975-e7bd-1123c6c59501",
        "colab": {
          "base_uri": "https://localhost:8080/",
          "height": 51
        }
      },
      "source": [
        "import requests\n",
        "import json\n",
        "\n",
        "URL = baseURL + \"uploaddata\"\n",
        "\n",
        "# data_type\": 2 for COVID19 data\n",
        "payload = {\n",
        "   \"data_type\": 2, \n",
        "   \"device_id\": DEVICE_ID,\n",
        "   \"device_data\": {\n",
        "          \"date\": \"2019-01-05\",\n",
        "          \"province_state\": \"Shanghai00\",\n",
        "          \"country_region\": \"Mainland China\",\n",
        "          \"last_update\": \"2019-01-07T10:43:02\",\n",
        "          \"confirmed\":100,\n",
        "          \"deaths\": 7,\n",
        "          \"recovered\": 1237,\n",
        "          \"latitude\":  23.3417,\n",
        "          \"longitude\": 113.4244,\n",
        "          \"key\": \"country_region|province_state|date\"\n",
        "   }\n",
        "}\n",
        "\n",
        "\n",
        "#Passing payload as dict\n",
        "responce = requests.post(URL, json = payload)\n",
        "print(responce.status_code)\n",
        "print(responce.text)\n"
      ],
      "execution_count": 14,
      "outputs": [
        {
          "output_type": "stream",
          "text": [
            "200\n",
            "data uploaded successfully\n"
          ],
          "name": "stdout"
        }
      ]
    },
    {
      "cell_type": "markdown",
      "metadata": {
        "id": "TWQqE4l1wV40",
        "colab_type": "text"
      },
      "source": [
        "### uploadbatchdata (multiple data) (endpoint:/uploadbatchdata)"
      ]
    },
    {
      "cell_type": "code",
      "metadata": {
        "id": "Dg2t7xGCcDCK",
        "colab_type": "code",
        "outputId": "16e69ff4-6457-4579-af70-7e81e20067dd",
        "colab": {
          "base_uri": "https://localhost:8080/",
          "height": 68
        }
      },
      "source": [
        "import requests\n",
        "import json\n",
        "\n",
        "URL = baseURL + \"uploadbatchdata\"\n",
        "\n",
        "# data_type\": 2 for COVID19 data\n",
        "payload ={'data_type': 2, \n",
        "          'device_id': DEVICE_ID,\n",
        "          'device_data': {\n",
        "              'data': \n",
        "              [{\"date\": \"2020-03-26\", \n",
        "                \"fips\": \"45001\", \n",
        "                \"county\": \"Abbeville\", \n",
        "                \"province_state\": \"South Carolina\", \n",
        "                \"country_region\": \"US\", \n",
        "                \"last_update\": \"2020-03-26 23:48:35\", \n",
        "                \"latitude\": 34.22333378, \n",
        "                \"longitude\": -82.46170658, \n",
        "                \"confirmed\": 3, \"deaths\": 0, \"recovered\": 0, \"active\": 0\n",
        "                }, \n",
        "               {\"date\": \"2020-03-26\", \n",
        "                \"fips\": \"22001\", \n",
        "                \"county\": \"Acadia\", \n",
        "                \"province_state\": \"Louisiana\", \n",
        "                \"country_region\": \"US\", \n",
        "                \"last_update\": \"2020-03-26 23:48:35\", \n",
        "                \"latitude\": 30.2950649, \n",
        "                \"longitude\": -92.41419698, \n",
        "                \"confirmed\": 3, \"deaths\": 0, \"recovered\": 0, \"active\": 0}\n",
        "               ], \n",
        "               'key': 'country_region|province_state|county|date'}\n",
        "          }\n",
        "\n",
        "\n",
        "#Passing payload as dict\n",
        "responce = requests.post(URL, json = payload)\n",
        "print(responce.elapsed.total_seconds())\n",
        "print(responce.status_code)\n",
        "print(responce.text)\n"
      ],
      "execution_count": 15,
      "outputs": [
        {
          "output_type": "stream",
          "text": [
            "1.228218\n",
            "200\n",
            "COVID19 data uploaded successfully\n"
          ],
          "name": "stdout"
        }
      ]
    },
    {
      "cell_type": "markdown",
      "metadata": {
        "id": "T2-s0eOS6N0D",
        "colab_type": "text"
      },
      "source": [
        "### function to standarize names."
      ]
    },
    {
      "cell_type": "code",
      "metadata": {
        "id": "zyaT5AHo1izP",
        "colab_type": "code",
        "outputId": "009b441f-9e03-47d4-eec5-4a818a1b53e0",
        "colab": {
          "base_uri": "https://localhost:8080/",
          "height": 207
        }
      },
      "source": [
        "import numpy as np\n",
        "import pandas as pd\n",
        "import os \n",
        "\n",
        "def transform_names(df):\n",
        "    '''\n",
        "       need to have standard names\n",
        "    '''\n",
        "    df.columns = [x.lower() for x in df.columns]\n",
        "    df.rename(columns={'province/state': 'province_state',\n",
        "                   'admin2'            : 'county',\n",
        "                   'country/region'    : 'country_region',\n",
        "                   'last update'       : 'last_update',\n",
        "                   \"long_\":          \"longitude\",\n",
        "                   \"long\":          \"longitude\",\n",
        "                   \"lat\":           \"latitude\",\n",
        "                   \"lat_\":           \"latitude\",\n",
        "                  }, inplace=True)\n",
        "    \n",
        "    if (\"combined_key\" in df.columns):\n",
        "       df.drop(columns=['combined_key'], inplace=True)\n",
        "       \n",
        "    keycolumn = \"country_region|province_state|date\"\n",
        "\n",
        "    if (\"county\" in df.columns):\n",
        "        keycolumn = \"country_region|province_state|county|date\"\n",
        "  \n",
        "    return (df, keycolumn)\n",
        "\n",
        "#######################################################################\n",
        "##### Testing\n",
        "def run_test(date= \"03-20-2020\"):\n",
        "    github_root = \"https://raw.githubusercontent.com/CSSEGISandData/COVID-19/master/csse_covid_19_data/csse_covid_19_daily_reports\"\n",
        "    file = os.path.join(github_root, date + \".csv\")\n",
        "    df = pd.read_csv(file ,dtype = {'FIPS': str, 'ZIP': str, \"ZIP_CODE\": str})\n",
        "    df, key = transform_names(df)\n",
        "    print(key)\n",
        "    print(df.columns)\n",
        "\n",
        "    row = df.iloc[1]\n",
        "    print(json.loads(row.to_json()))\n",
        "\n",
        "run_test(\"03-20-2020\")  #Old format\n",
        "run_test(\"03-26-2020\")  #new format\n"
      ],
      "execution_count": 16,
      "outputs": [
        {
          "output_type": "stream",
          "text": [
            "country_region|province_state|date\n",
            "Index(['province_state', 'country_region', 'last_update', 'confirmed',\n",
            "       'deaths', 'recovered', 'latitude', 'longitude'],\n",
            "      dtype='object')\n",
            "{'province_state': None, 'country_region': 'Italy', 'last_update': '2020-03-20T17:43:03', 'confirmed': 47021, 'deaths': 4032, 'recovered': 4440, 'latitude': 41.8719, 'longitude': 12.5674}\n",
            "country_region|province_state|county|date\n",
            "Index(['fips', 'county', 'province_state', 'country_region', 'last_update',\n",
            "       'latitude', 'longitude', 'confirmed', 'deaths', 'recovered', 'active'],\n",
            "      dtype='object')\n",
            "{'fips': '22001', 'county': 'Acadia', 'province_state': 'Louisiana', 'country_region': 'US', 'last_update': '2020-03-26 23:48:35', 'latitude': 30.2950649, 'longitude': -92.41419698, 'confirmed': 3, 'deaths': 0, 'recovered': 0, 'active': 0}\n"
          ],
          "name": "stdout"
        }
      ]
    },
    {
      "cell_type": "markdown",
      "metadata": {
        "id": "r2NSZ6OPlZj1",
        "colab_type": "text"
      },
      "source": [
        "### Covid19data_to_ttdata\n",
        "\n",
        "We will pull real data from John Hopkins and invoke the webservice call.\n",
        "\n",
        "The source data is located at \"https://raw.githubusercontent.com/CSSEGISandData/COVID-19/master/csse_covid_19_data/csse_covid_19_daily_reports\"\n",
        "    "
      ]
    },
    {
      "cell_type": "code",
      "metadata": {
        "id": "bwePgs98tlpQ",
        "colab_type": "code",
        "outputId": "b6e4440e-407d-4992-808f-24470c2611f6",
        "colab": {
          "base_uri": "https://localhost:8080/",
          "height": 1000
        }
      },
      "source": [
        "from pprint import pprint \n",
        "import pandas as pd\n",
        "import numpy as np\n",
        "import os\n",
        "import requests\n",
        "import json\n",
        "\n",
        "def covid19data_to_ttdata(source_file, URL, data_date, blocksize=100):\n",
        "    print(\"processing: \", source_file)\n",
        "    df = pd.read_csv(source_file, dtype = {'FIPS': str, 'ZIP': str, \"ZIP_CODE\": str})\n",
        "    df, key = transform_names(df)\n",
        "    errorCount = 0\n",
        "    \n",
        "    totalsize = df.shape[0]\n",
        "    new=[list(range(i, min(i+blocksize, totalsize))) for i in range(0,totalsize,blocksize) ]\n",
        "\n",
        "    for grp in new:\n",
        "        json_data_list = []\n",
        "        for i in grp:\n",
        "            row = df.iloc[i]\n",
        "            #row_as_dic = row.to_dict()\n",
        "            device_data = {\"date\":data_date }\n",
        "            device_data.update(json.loads(row.to_json()))\n",
        "            json_data_list.append(device_data)\n",
        "        \n",
        "        print(\"\\n\", grp[0])\n",
        "        payload = {\n",
        "             \"data_type\": 2, \n",
        "             \"device_id\": DEVICE_ID,\n",
        "             \"device_data\": {\n",
        "                \"data\": json_data_list,\n",
        "                \"key\" : key\n",
        "                          }\n",
        "              }\n",
        "        #print(payload)\n",
        "        responce = requests.post(URL, json = payload)\n",
        "        print(responce.elapsed.total_seconds())\n",
        "        print(responce.status_code)\n",
        "        print(responce.text)\n",
        "\n",
        "    #if (responce.status_code == 200) and ( responce.text == \"true\"):\n",
        "    #    print(f\"\\nSuccess\")\n",
        "    #else:\n",
        "    #    print(f\"\\nStatus_code: {responce.status_code} , Text: {responce.text}\", flush=True)\n",
        "    \n",
        "      \n",
        "       \n",
        "\n",
        "github_root = \"https://raw.githubusercontent.com/CSSEGISandData/COVID-19/master/csse_covid_19_data/csse_covid_19_daily_reports\"\n",
        "\n",
        "\n",
        "file = os.path.join(github_root, \"03-27-2020\" + \".csv\")\n",
        "\n",
        "import time\n",
        "ts = time.time()\n",
        "source_file, URL, data_date, blocksize\n",
        "\n",
        "d = covid19data_to_ttdata( source_file= file, \n",
        "                           URL = baseURL + \"uploadbatchdata\", \n",
        "                           data_date = \"2020-03-27\", \n",
        "                           blocksize = 100)\n",
        "te = time.time()\n",
        "print('%s  %2.2f sec' % (\"uploaddata\", (te - ts) ))\n",
        " \n"
      ],
      "execution_count": 17,
      "outputs": [
        {
          "output_type": "stream",
          "text": [
            "processing:  https://raw.githubusercontent.com/CSSEGISandData/COVID-19/master/csse_covid_19_data/csse_covid_19_daily_reports/03-27-2020.csv\n",
            "\n",
            " 0\n",
            "1.294735\n",
            "200\n",
            "COVID19 data uploaded successfully\n",
            "\n",
            " 100\n",
            "0.971246\n",
            "500\n",
            "COVID19 data upload failed\n",
            "\n",
            " 200\n",
            "1.291372\n",
            "500\n",
            "COVID19 data upload failed\n",
            "\n",
            " 300\n",
            "1.156452\n",
            "500\n",
            "COVID19 data upload failed\n",
            "\n",
            " 400\n",
            "1.079583\n",
            "500\n",
            "COVID19 data upload failed\n",
            "\n",
            " 500\n",
            "1.084234\n",
            "500\n",
            "COVID19 data upload failed\n",
            "\n",
            " 600\n",
            "0.997396\n",
            "500\n",
            "COVID19 data upload failed\n",
            "\n",
            " 700\n",
            "1.07808\n",
            "500\n",
            "COVID19 data upload failed\n",
            "\n",
            " 800\n",
            "1.140626\n",
            "500\n",
            "COVID19 data upload failed\n",
            "\n",
            " 900\n",
            "1.038625\n",
            "500\n",
            "COVID19 data upload failed\n",
            "\n",
            " 1000\n",
            "1.020187\n",
            "500\n",
            "COVID19 data upload failed\n",
            "\n",
            " 1100\n",
            "1.000899\n",
            "500\n",
            "COVID19 data upload failed\n",
            "\n",
            " 1200\n",
            "1.17559\n",
            "500\n",
            "COVID19 data upload failed\n",
            "\n",
            " 1300\n",
            "1.1638\n",
            "500\n",
            "COVID19 data upload failed\n",
            "\n",
            " 1400\n",
            "0.965958\n",
            "500\n",
            "COVID19 data upload failed\n",
            "\n",
            " 1500\n",
            "1.086838\n",
            "500\n",
            "COVID19 data upload failed\n",
            "\n",
            " 1600\n",
            "1.046624\n",
            "500\n",
            "COVID19 data upload failed\n",
            "\n",
            " 1700\n",
            "1.064857\n",
            "500\n",
            "COVID19 data upload failed\n",
            "\n",
            " 1800\n",
            "1.230886\n",
            "500\n",
            "COVID19 data upload failed\n",
            "\n",
            " 1900\n",
            "1.070427\n",
            "500\n",
            "COVID19 data upload failed\n",
            "\n",
            " 2000\n",
            "1.136477\n",
            "500\n",
            "COVID19 data upload failed\n",
            "\n",
            " 2100\n",
            "1.29996\n",
            "500\n",
            "COVID19 data upload failed\n",
            "\n",
            " 2200\n",
            "1.095235\n",
            "500\n",
            "COVID19 data upload failed\n",
            "\n",
            " 2300\n",
            "1.081962\n",
            "500\n",
            "COVID19 data upload failed\n",
            "\n",
            " 2400\n",
            "1.037488\n",
            "500\n",
            "COVID19 data upload failed\n",
            "\n",
            " 2500\n",
            "1.007642\n",
            "500\n",
            "COVID19 data upload failed\n",
            "\n",
            " 2600\n",
            "1.119944\n",
            "500\n",
            "COVID19 data upload failed\n",
            "\n",
            " 2700\n",
            "1.043586\n",
            "500\n",
            "COVID19 data upload failed\n",
            "\n",
            " 2800\n",
            "1.030948\n",
            "500\n",
            "COVID19 data upload failed\n",
            "\n",
            " 2900\n",
            "1.158094\n",
            "500\n",
            "COVID19 data upload failed\n",
            "\n",
            " 3000\n",
            "1.284718\n",
            "500\n",
            "COVID19 data upload failed\n",
            "\n",
            " 3100\n",
            "1.051501\n",
            "500\n",
            "COVID19 data upload failed\n",
            "\n",
            " 3200\n",
            "1.009238\n",
            "500\n",
            "COVID19 data upload failed\n",
            "\n",
            " 3300\n",
            "1.124688\n",
            "500\n",
            "COVID19 data upload failed\n",
            "\n",
            " 3400\n",
            "1.134957\n",
            "500\n",
            "COVID19 data upload failed\n",
            "uploaddata  40.62 sec\n"
          ],
          "name": "stdout"
        }
      ]
    },
    {
      "cell_type": "markdown",
      "metadata": {
        "id": "L4xwNcbBlW6N",
        "colab_type": "text"
      },
      "source": [
        "### getshareddata (GET)\n",
        "\n",
        "This is the method to retrieve data from server\n",
        "\n"
      ]
    },
    {
      "cell_type": "code",
      "metadata": {
        "id": "DgTU5eTHxl_M",
        "colab_type": "code",
        "outputId": "fa434548-6a18-45e1-b960-25f85eef3689",
        "colab": {
          "base_uri": "https://localhost:8080/",
          "height": 85
        }
      },
      "source": [
        "import pandas as pd\n",
        "import os\n",
        "import requests\n",
        "import json\n",
        "\n",
        "query = {\"data_type\": 2, \"device_id\":DEVICE_ID , \"from_date\": \"2020-02-27\"}\n",
        "\n",
        "req = requests.get(baseURL + \"getshareddata\", params=query)\n",
        "print(req.url)\n",
        "print(req.status_code)\n",
        "print(req)\n",
        "print(req.text)\n",
        "#data = req.json()\n",
        "\n",
        "#df = pd.DataFrame(data)\n",
        "#df\n",
        "#df = df[~df['country_region'].isin([\"China000\", \"China111\"])]\n",
        "#df = df.drop_duplicates(subset=[\"country_region\", \"province_state\", \"date\" ], keep='last')\n",
        "#df = df.query('country_region==\"Italy\"')\n",
        "\n",
        "#df_agg=df.groupby([\"country_region\", \"date\"]).agg({'confirmed': ['sum'], 'deaths': ['sum'], 'recovered': ['sum']})\n",
        "#df_agg.columns = ['confirmed', 'deaths', 'recovered']\n",
        "#df_agg.reset_index(inplace=True)\n",
        "\n",
        "#df_agg[\"fatality_rate\"] = df_agg[\"deaths\"] / df_agg[\"confirmed\"]\n",
        "\n",
        "#df_confirm = df_agg.sort_values(by='confirmed', ascending=False).head(120)\n",
        "\n",
        "#df_confirm\n",
        "\n",
        "#df[ (df[\"country_region\"]==\"US\") & (df[\"province_state\"] == \"New York\")]"
      ],
      "execution_count": 8,
      "outputs": [
        {
          "output_type": "stream",
          "text": [
            "http://108.48.52.183:7061/getshareddata?data_type=2&device_id=XD_COVID19_V1&from_date=2020-02-27\n",
            "200\n",
            "<Response [200]>\n",
            "You are not authorized to view the data\n"
          ],
          "name": "stdout"
        }
      ]
    },
    {
      "cell_type": "markdown",
      "metadata": {
        "id": "pJlBN36Aa_MJ",
        "colab_type": "text"
      },
      "source": [
        "### visualization"
      ]
    },
    {
      "cell_type": "code",
      "metadata": {
        "id": "XJcwkKoZbKeb",
        "colab_type": "code",
        "colab": {}
      },
      "source": [
        "import seaborn as sns\n",
        "import matplotlib.pyplot as plt\n",
        "sns.set(style=\"whitegrid\")\n",
        "\n",
        "df_fatal_rate = df_confirm.sort_values(by='fatality_rate', ascending=False)\n",
        "\n",
        "# Initialize the matplotlib figure\n",
        "f, (ax1, ax2) = plt.subplots(figsize=(16, 14), ncols=2)\n",
        "\n",
        "\n",
        "sns.barplot(x=\"confirmed\", y=\"country_region\", data=df_confirm,\n",
        "            label=\"confirmed\", color=\"b\",  ax=ax1)\n",
        "ax1.set_title(\"Top 20 countries by the number of confirmed cases\")\n",
        "\n",
        "sns.barplot(x=\"fatality_rate\", y=\"country_region\", data=df_fatal_rate,\n",
        "            label=\"fatality rate\", color=\"y\",  ax=ax2)\n",
        "ax2.set_title(\"Fatality Rate, for top 20 countries by the number of confirmed cases\")"
      ],
      "execution_count": 0,
      "outputs": []
    },
    {
      "cell_type": "code",
      "metadata": {
        "id": "kResX-Emgf8r",
        "colab_type": "code",
        "colab": {}
      },
      "source": [
        "import plotly.express as px\n",
        "\n",
        "df['province_state'] = df['province_state'].fillna(df['country_region'])\n",
        "fig = px.scatter_mapbox(data_frame=df, lat=\"latitude\", lon=\"longitude\", hover_data=[\"confirmed\", \"deaths\"],  \n",
        "                        size=\"confirmed\", zoom=2, height=1000, hover_name=\"province_state\" )\n",
        "fig.update_layout(mapbox_style=\"open-street-map\")\n",
        "fig.show()"
      ],
      "execution_count": 0,
      "outputs": []
    },
    {
      "cell_type": "code",
      "metadata": {
        "id": "LVLae-A8ikya",
        "colab_type": "code",
        "colab": {}
      },
      "source": [
        "#!pip install bert-extractive_summarizer"
      ],
      "execution_count": 0,
      "outputs": []
    },
    {
      "cell_type": "code",
      "metadata": {
        "id": "jJhGgkWVIlL5",
        "colab_type": "code",
        "outputId": "5278cb06-e36c-4fa9-faa1-dc60e4f2b0b1",
        "colab": {
          "base_uri": "https://localhost:8080/",
          "height": 88
        }
      },
      "source": [
        "from summarizer import Summarizer\n",
        "\n",
        "body = 'Such a scandal as the prosecution of a brother for forgery—with a verdict of guilty—is a most truly horrible, deplorable, fatal thing. It takes the respectability out of a family perhaps at a critical moment, when the family is just assuming the robes of respectability: […] it is a black spot which all the soaps ever advertised could never wash off.'\n",
        "body2 = 'Something else you want to summarize with BERT'\n",
        "model = Summarizer()\n",
        "print(model(body))\n",
        "print(model(body2))\n",
        "\n",
        "\n",
        "str ='''COVID-19 is a disease caused by a respiratory virus first identified in Wuhan, Hubei Province, China in December 2019. COVID-19 is a new virus that hasn't caused illness in humans before. Worldwide, COVID-19 has resulted in thousands of infections, \n",
        "causing illness and in some cases death. Cases have spread to countries throughout the world, with more cases reported daily.\n",
        "'''\n",
        "\n",
        "model=Summarizer()\n",
        "abstract1_summary = model(str)\n",
        "\n",
        "full_abstract = ''.join(abstract1_summary)\n",
        "print(full_abstract)\n"
      ],
      "execution_count": 0,
      "outputs": [
        {
          "output_type": "stream",
          "text": [
            "Such a scandal as the prosecution of a brother for forgery—with a verdict of guilty—is a most truly horrible, deplorable, fatal thing.\n",
            "Something else you want to summarize with BERT\n",
            "COVID-19 is a disease caused by a respiratory virus first identified in Wuhan, Hubei Province, China in December 2019. COVID-19 is a new virus that hasn't caused illness in humans before.\n"
          ],
          "name": "stdout"
        }
      ]
    },
    {
      "cell_type": "markdown",
      "metadata": {
        "id": "gZtmfOI2bwRt",
        "colab_type": "text"
      },
      "source": [
        "# Combined Code\n",
        "\n",
        "The following code can be copied to a single python file. Then run it from a command line.\n",
        "\n",
        "Please remember to set *interactive=False* in the code [\n",
        "**exit(main(interactive=False))** ]"
      ]
    },
    {
      "cell_type": "code",
      "metadata": {
        "id": "6FJYgPL8cP4x",
        "colab_type": "code",
        "outputId": "e2dfbe3f-056f-4720-834b-aedb0cfc4bf8",
        "colab": {
          "base_uri": "https://localhost:8080/",
          "height": 119
        }
      },
      "source": [
        "import requests\n",
        "import json\n",
        "import numpy as np\n",
        "import pandas as pd\n",
        "import os \n",
        "import time\n",
        "from datetime import datetime\n",
        "import logging\n",
        "import argparse\n",
        "\n",
        "\n",
        "def showtime(tstart):\n",
        "    \"\"\"\n",
        "    Show runtime duration since tstart\n",
        "\n",
        "    parameters\n",
        "    ----------\n",
        "    tstart: datetime, since this time, the duration is calculated\n",
        "    Returns\n",
        "    -------\n",
        "    out : duration in ms\n",
        "    \"\"\"\n",
        "    te = time.time()\n",
        "    return f\"{int((te - tstart) * 1000)} ms\"\n",
        "\n",
        "def decorator_time(method):\n",
        "    \"\"\"\n",
        "    Decorator function. Show runtime duration for the wrapped function.\n",
        "    \"\"\"\n",
        "    def timed(*args, **kw):\n",
        "        ts = time.time()\n",
        "        result = method(*args, **kw)\n",
        "        te = time.time()\n",
        "        if 'log_time' in kw:\n",
        "            name = kw.get('log_name', method.__name__.upper())\n",
        "            kw['log_time'][name] = f\"{int((te - ts) * 1000)} ms\"\n",
        "        else:\n",
        "            print('%r  %2.2f ms' % \\\n",
        "                  (method.__name__, (te - ts) * 1000)\n",
        "                  )\n",
        "        return result\n",
        "    return timed\n",
        "\n",
        "class ttDataBase(object):\n",
        "      def __init__(self, server_url=\"http://ixinbuy.com/\", log_file=\"ttData_log.csv\"):\n",
        "        self.Server_URL = server_url\n",
        "        self._Device_ID  = \"\"\n",
        "        self._Datatype   = 0\n",
        "        self.logger = logging.getLogger(\"ttDataBase_Test\")\n",
        "        formatter   = logging.Formatter('%(asctime)s|%(name)s|%(message)s')\n",
        "    \n",
        "        fileHandler = logging.FileHandler(log_file, mode='w')\n",
        "        fileHandler.setFormatter(formatter)\n",
        "        streamHandler = logging.StreamHandler()\n",
        "        streamHandler.setFormatter(formatter)\n",
        "        level=logging.INFO\n",
        "        self.logger.setLevel(level)\n",
        "        self.logger.addHandler(fileHandler)\n",
        "        self.logger.addHandler(streamHandler)  \n",
        "\n",
        "      @property\n",
        "      def Device_ID(self):\n",
        "          return self._Device_ID\n",
        "\n",
        "      @Device_ID.setter\n",
        "      def Device_ID(self, x):\n",
        "          self._Device_ID = x\n",
        "\n",
        "      @property\n",
        "      def Datatype(self):\n",
        "          return self._Datatype\n",
        "\n",
        "      @Datatype.setter\n",
        "      def Datatype(self, x):\n",
        "          self._Datatype = x\n",
        "\n",
        "      def set_client_data(self, **kwargs):  \n",
        "          for key, value in kwargs.items(): \n",
        "              if (str.lower(key) == \"datatype\"):\n",
        "                 self.Datatype = value\n",
        "              elif (str.lower(key) == \"device_id\"):\n",
        "                 self.Device_ID = value\n",
        "              else:\n",
        "                 self.logger.info(\"un-handled client data:\", key, value)\n",
        "\n",
        "      def testlog(self):\n",
        "          self.logger.info(\"Oh, no! Something went wrong!\")\n",
        "\n",
        "      def register(self, devide_id =None):\n",
        "          if devide_id is not None:\n",
        "             self.Device_ID = devide_id\n",
        "                  \n",
        "          end_point = self.Server_URL + \"register\"\n",
        "          payload = {\"device_id\": self.Device_ID}\n",
        "          \n",
        "          responce = requests.post(end_point, data = payload)\n",
        "          #self.logger.info(responce.status_code)\n",
        "          self.logger.info(f\"register|{responce.text}\")\n",
        "          return (responce.status_code)\n",
        "\n",
        "      \n",
        "      @staticmethod\n",
        "      def read_csse_covid_19_daily_reports(Y_M_Ddate):\n",
        "          '''\n",
        "          read daily COVID 19 data from github into a pandas dataframe with needed format.\n",
        "          '''\n",
        "      \n",
        "          github_root = \"https://raw.githubusercontent.com/CSSEGISandData/COVID-19/master/csse_covid_19_data/csse_covid_19_daily_reports\"\n",
        "          datetime_object = datetime.strptime(Y_M_Ddate, \"%Y-%m-%d\")\n",
        "          date = datetime_object.strftime(\"%m-%d-%Y\")\n",
        "          ####file = os.path.join(github_root, date + \".csv\")\n",
        "          file = github_root+ \"/\" + date + \".csv\"\n",
        "\n",
        "          df = pd.read_csv(file, dtype = {'FIPS': str, 'ZIP': str, \"ZIP_CODE\": str})\n",
        "        \n",
        "          df.columns = [x.lower() for x in df.columns]\n",
        "          df.rename(columns={'province/state': 'province_state',\n",
        "                   'admin2'            : 'county',\n",
        "                   'country/region'    : 'country_region',\n",
        "                   'last update'       : 'last_update',\n",
        "                   \"long_\":          \"longitude\",\n",
        "                   \"long\":          \"longitude\",\n",
        "                   \"lat\":           \"latitude\",\n",
        "                   \"lat_\":           \"latitude\",\n",
        "                  }, inplace=True)\n",
        "    \n",
        "          df[\"key\"] =  \"country_region|province_state|date\"\n",
        "          return (df)\n",
        "\n",
        "      def upload_data(self, data_date):\n",
        "          end_point = self.Server_URL + \"uploaddata\"\n",
        "          \n",
        "          self.logger.info(f\"upload_data|starting....\")\n",
        "          start_time = time.time()\n",
        "\n",
        "          df = ttDataBase.read_csse_covid_19_daily_reports(data_date)\n",
        "          print(df.shape)\n",
        "          errorCount = 0\n",
        "          i = 0\n",
        "          for i in range(0, 3): #df.shape[0])  :####df.itertuples(index=False):\n",
        "              row = df.iloc[i]\n",
        "              #row_as_dic = row.to_dict()\n",
        "  \n",
        "              device_data = {\"date\":data_date }\n",
        "              device_data.update(json.loads(row.to_json()))\n",
        "       \n",
        "              payload = {\n",
        "                 \"data_type\": self.Datatype, \n",
        "                 \"device_id\": self.Device_ID,\n",
        "                 \"device_data\": device_data\n",
        "              }\n",
        "              self.logger.debug(payload)\n",
        "              responce = requests.post(end_point, json = payload)\n",
        "              if (responce.status_code == 200) and ( responce.text == \"true\"):\n",
        "                 if (i % 10==0):\n",
        "                    print(i, \"\", end='', flush=True)\n",
        "                 else:\n",
        "                    errorCount += 1\n",
        "                    print(\"\\nError \", i , \" with \", responce.text, flush=True)\n",
        "\n",
        "          print(f\"\\nProcessed {i+3} of records\")\n",
        "          self.logger.info(f\"upload_data_duration|{showtime(start_time)}\")\n",
        "          return (errorCount)\n",
        "\n",
        "      def get_data(self, **kwargs):\n",
        "          end_point = self.Server_URL + \"getshareddata\"\n",
        "          self.logger.info(end_point)\n",
        "          query = { \"data_type\": self.Datatype, \n",
        "                    \"device_id\": self.Device_ID }\n",
        "          for key, value in kwargs.items(): \n",
        "              query[key] = value\n",
        "\n",
        "          self.logger.info(query)\n",
        "          req = requests.get(end_point, params=query)\n",
        "\n",
        "          if (req.status_code == 200):\n",
        "             data = req.json()\n",
        "             df = pd.DataFrame(data)\n",
        "             return (df)\n",
        "          else:\n",
        "             self.logger.info(req.status_code)\n",
        "\n",
        "def init_argparse() -> argparse.ArgumentParser:\n",
        "    parser = argparse.ArgumentParser(\n",
        "        usage=\"%(prog)s [OPTION] [FILE]...\",\n",
        "        description=\"load COVID19 daily data to ttData via web API.\",\n",
        "        epilog='Enjoy the program! :)'\n",
        "    )\n",
        "    parser.add_argument(\n",
        "        \"-s\", \"--s\", action='store', \n",
        "        help=\"ttData Server URL\",\n",
        "        required = True)\n",
        "    parser.add_argument(\n",
        "        \"-d\", \"--d\", action='store', \n",
        "        help=\"device_id, required\",\n",
        "        required = True)\n",
        "    parser.add_argument(\n",
        "        \"-t\", \"--t\", \n",
        "        action='store', \n",
        "        type=str,\n",
        "        help=\"date in the format of YYYY-MM-DD\",\n",
        "        required = True)\n",
        "    parser.add_argument(\n",
        "        \"-l\", \"--l\", \n",
        "        action='store', \n",
        "        type=str,\n",
        "        help=\"runtime logfile\")\n",
        "    \n",
        "    return parser\n",
        "\n",
        "def main(interactive=False) -> None:\n",
        "    server_url=\"http://108.48.52.183:7061/\"\n",
        "    device = \"DXDX111\"\n",
        "    log_file=\"ttDataBaseTest00.txt\"\n",
        "    time    = \"2020-03-26\"\n",
        "    if (interactive == False):\n",
        "       parser = init_argparse()\n",
        "       args = parser.parse_args()\n",
        "       server_url = args.s\n",
        "       device = args.d\n",
        "       time = args.t\n",
        "       log_file = args.l\n",
        "    \n",
        "    my_ttData = ttDataBase(server_url=server_url, log_file=log_file)\n",
        "    my_ttData.set_client_data(Device_ID = device, Datatype = 2)\n",
        "    my_ttData.register()\n",
        "    status = my_ttData.upload_data(time)\n",
        "\n",
        "if __name__ == '__main__':\n",
        "    try:\n",
        "      exit(main(interactive=True))\n",
        "    except Exception:\n",
        "      logging.exception(\"Exception in main()\")\n",
        "      exit(1)\n",
        "          "
      ],
      "execution_count": 0,
      "outputs": [
        {
          "output_type": "stream",
          "text": [
            "2020-04-21 02:39:07,928|ttDataBase_Test|register|device: DXDX111 is already registered\n",
            "2020-04-21 02:39:07,932|ttDataBase_Test|upload_data|starting....\n"
          ],
          "name": "stderr"
        },
        {
          "output_type": "stream",
          "text": [
            "(3421, 13)\n"
          ],
          "name": "stdout"
        },
        {
          "output_type": "stream",
          "text": [
            "2020-04-21 02:39:09,071|ttDataBase_Test|upload_data_duration|1138 ms\n"
          ],
          "name": "stderr"
        },
        {
          "output_type": "stream",
          "text": [
            "\n",
            "Processed 5 of records\n"
          ],
          "name": "stdout"
        }
      ]
    }
  ]
}