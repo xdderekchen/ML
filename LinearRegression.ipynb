{
  "nbformat": 4,
  "nbformat_minor": 0,
  "metadata": {
    "colab": {
      "name": "LinearRegression.ipynb",
      "provenance": [],
      "toc_visible": true,
      "authorship_tag": "ABX9TyOUgpidHezMBTdKSpf74Rz3",
      "include_colab_link": true
    },
    "kernelspec": {
      "name": "python3",
      "display_name": "Python 3"
    }
  },
  "cells": [
    {
      "cell_type": "markdown",
      "metadata": {
        "id": "view-in-github",
        "colab_type": "text"
      },
      "source": [
        "<a href=\"https://colab.research.google.com/github/xdderekchen/ML/blob/master/LinearRegression.ipynb\" target=\"_parent\"><img src=\"https://colab.research.google.com/assets/colab-badge.svg\" alt=\"Open In Colab\"/></a>"
      ]
    },
    {
      "cell_type": "code",
      "metadata": {
        "id": "EvzBGY9T-wvy",
        "colab_type": "code",
        "colab": {}
      },
      "source": [
        ""
      ],
      "execution_count": 0,
      "outputs": []
    },
    {
      "cell_type": "markdown",
      "metadata": {
        "id": "PcC1-crA-3J-",
        "colab_type": "text"
      },
      "source": [
        "# Linear Regression\n",
        "\n",
        " * sklearn Linear Regressor\n",
        " * sm\n",
        " * SPARK ML\n",
        " * TensorFlow\n",
        "   * Single-layers\n",
        "   * Multi-layers"
      ]
    },
    {
      "cell_type": "markdown",
      "metadata": {
        "id": "vzCqOfvd-1d3",
        "colab_type": "text"
      },
      "source": [
        "## DataSet Preparation\n",
        " using data from http://archive.ics.uci.edu/ml/machine-learning-databases/auto-mpg/auto-mpg.data"
      ]
    },
    {
      "cell_type": "code",
      "metadata": {
        "id": "O3_8eGOl_ze2",
        "colab_type": "code",
        "colab": {
          "base_uri": "https://localhost:8080/",
          "height": 33
        },
        "outputId": "16c67efe-58f3-4679-c12c-c916c09692ad"
      },
      "source": [
        "from __future__ import absolute_import, division, print_function, unicode_literals\n",
        "\n",
        "import pathlib\n",
        "import matplotlib.pyplot as plt\n",
        "import pandas as pd\n",
        "import seaborn as sns\n",
        "import numpy as np\n",
        "\n",
        "try:\n",
        "  %tensorflow_version 2.x\n",
        "except Exception:\n",
        "  pass\n",
        "import tensorflow as tf\n",
        "\n",
        "from tensorflow import keras\n",
        "from tensorflow.keras import layers\n",
        "\n",
        "print(tf.__version__)\n",
        "                                                     \n",
        "dataset_path = keras.utils.get_file(\"auto-mpg.data2\", \"http://archive.ics.uci.edu/ml/machine-learning-databases/auto-mpg/auto-mpg.data\")\n",
        "column_names = [\"mpg\", \"cylinders\", \"displacement\", \"horsepower\", \"weight\", \"acceleration\", \"model year\", \"origin\"]\n",
        "\n",
        "raw_dataset = pd.read_csv(dataset_path, names=column_names, na_values=\"?\", comment=\"\\t\", sep=\" \", skipinitialspace=True)\n",
        "dataset = raw_dataset.dropna().copy()\n",
        "\n",
        "origin = dataset.pop(\"origin\")\n",
        "\n",
        "dataset[\"USA\"]    = (origin == 1) * 1.0\n",
        "dataset[\"Europe\"] = (origin == 2) * 1.0\n",
        "dataset[\"Japan\"]  = (origin == 3) * 1.0\n",
        "\n",
        "XNames = [x for x in dataset.columns if x != \"mpg\"]\n",
        "Y = dataset[\"mpg\"]           #series\n",
        "X = dataset[XNames]\n",
        "\n",
        "#Split dataset as train and test data\n",
        "from sklearn.model_selection import train_test_split\n",
        "X_train, X_test, Y_train, Y_test = train_test_split(X, Y, test_size = 0.2, random_state=0)\n",
        "\n",
        "#Scale X values\n",
        "from sklearn.preprocessing import  StandardScaler\n",
        "scaler = StandardScaler( )\n",
        "X_train = scaler.fit_transform( X_train )\n",
        "X_test = scaler.fit_transform ( X_test )\n",
        "\n",
        "#to report result\n",
        "def linear_Reg_report(dataset_type, predict_Y, actual_Y):\n",
        "    rmse = (np.sqrt(mean_squared_error(actual_Y, predict_Y)))\n",
        "    r2 = r2_score(actual_Y, predict_Y)\n",
        "\n",
        "    print(\"\\nThe model performance for training set\")\n",
        "    print(\"--------------------------------------\")\n",
        "    print('RMSE is {}'.format(rmse))\n",
        "    print('R2 score is {}'.format(r2))\n",
        "    print(\"\\n\")"
      ],
      "execution_count": 82,
      "outputs": [
        {
          "output_type": "stream",
          "text": [
            "2.1.0\n"
          ],
          "name": "stdout"
        }
      ]
    },
    {
      "cell_type": "markdown",
      "metadata": {
        "id": "qgOEw2a5ZXvV",
        "colab_type": "text"
      },
      "source": [
        "## LinearRegression from sklearn"
      ]
    },
    {
      "cell_type": "code",
      "metadata": {
        "id": "SAensAkzSSHm",
        "colab_type": "code",
        "colab": {
          "base_uri": "https://localhost:8080/",
          "height": 466
        },
        "outputId": "291a7bc5-bfb6-401c-db5f-014e43c89426"
      },
      "source": [
        "from sklearn.linear_model import LinearRegression\n",
        "from sklearn.metrics import mean_squared_error,  r2_score\n",
        "\n",
        "lin_model = LinearRegression()\n",
        "\n",
        "lin_model.fit( X_train, Y_train )\n",
        "\n",
        "# model evaluation for training set\n",
        "y_train_predict = lin_model.predict(X_train)\n",
        "# model evaluation for testing set\n",
        "y_test_predict = lin_model.predict(X_test)\n",
        "\n",
        "coefDataFrame = pd.DataFrame({'features':         [\"intercept\"], \n",
        "                              'estimatedCoeffs':  lin_model.intercept_.flatten()\n",
        "                              }\n",
        "                             )\n",
        "coefDataFrame = coefDataFrame.append(pd.DataFrame( zip(XNames, lin_model.coef_.flatten()), columns=['features', 'estimatedCoeffs']), ignore_index=True)\n",
        "print(\"regression cooefficients:\\n\")\n",
        "print(coefDataFrame)\n",
        "\n",
        "linear_Reg_report(\"training\", y_train_predict, Y_train)\n",
        "linear_Reg_report(\"testing\",  y_test_predict, Y_test)\n",
        "\n"
      ],
      "execution_count": 85,
      "outputs": [
        {
          "output_type": "stream",
          "text": [
            "regression cooefficients:\n",
            "\n",
            "       features  estimatedCoeffs\n",
            "0     intercept     2.348041e+01\n",
            "1     cylinders    -5.608855e-01\n",
            "2  displacement     2.294041e+00\n",
            "3    horsepower    -4.852167e-01\n",
            "4        weight    -5.867469e+00\n",
            "5  acceleration     3.628640e-01\n",
            "6    model year     2.788355e+00\n",
            "7           USA    -1.499224e+14\n",
            "8        Europe    -1.160200e+14\n",
            "9         Japan    -1.254847e+14\n",
            "\n",
            "The model performance for training set\n",
            "--------------------------------------\n",
            "RMSE is 3.3076473263049575\n",
            "R2 score is 0.818879307342756\n",
            "\n",
            "\n",
            "\n",
            "The model performance for training set\n",
            "--------------------------------------\n",
            "RMSE is 9936368359114.354\n",
            "R2 score is -1.5884629721673072e+24\n",
            "\n",
            "\n"
          ],
          "name": "stdout"
        }
      ]
    }
  ]
}