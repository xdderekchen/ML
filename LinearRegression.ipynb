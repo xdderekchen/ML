{
  "nbformat": 4,
  "nbformat_minor": 0,
  "metadata": {
    "colab": {
      "name": "LinearRegression.ipynb",
      "provenance": [],
      "toc_visible": true,
      "authorship_tag": "ABX9TyN0ntbMVKIz1dxh2Hu1x06Q",
      "include_colab_link": true
    },
    "kernelspec": {
      "name": "python3",
      "display_name": "Python 3"
    }
  },
  "cells": [
    {
      "cell_type": "markdown",
      "metadata": {
        "id": "view-in-github",
        "colab_type": "text"
      },
      "source": [
        "<a href=\"https://colab.research.google.com/github/xdderekchen/ML/blob/master/LinearRegression.ipynb\" target=\"_parent\"><img src=\"https://colab.research.google.com/assets/colab-badge.svg\" alt=\"Open In Colab\"/></a>"
      ]
    },
    {
      "cell_type": "markdown",
      "metadata": {
        "id": "PcC1-crA-3J-",
        "colab_type": "text"
      },
      "source": [
        "# Linear Regression\n",
        "\n",
        " * sklearn Linear Regressor\n",
        " * Statmodels \n",
        " * SPARK ML\n",
        " * TensorFlow\n",
        "   * Single-layers\n",
        "   * Multi-layers"
      ]
    },
    {
      "cell_type": "markdown",
      "metadata": {
        "id": "vzCqOfvd-1d3",
        "colab_type": "text"
      },
      "source": [
        "## DataSet Preparation\n",
        " using data from http://archive.ics.uci.edu/ml/machine-learning-databases/auto-mpg/auto-mpg.data"
      ]
    },
    {
      "cell_type": "code",
      "metadata": {
        "id": "v-DoiajjA-Wc",
        "colab_type": "code",
        "colab": {}
      },
      "source": [
        "\n",
        "import matplotlib.pyplot as plt\n",
        "import pandas as pd\n",
        "import seaborn as sns\n",
        "import numpy as np\n",
        "from sklearn.model_selection import train_test_split\n",
        "from sklearn.linear_model import LinearRegression\n",
        "from sklearn.metrics import mean_squared_error,  r2_score\n",
        "from sklearn.datasets import load_boston\n",
        "boston = load_boston()\n",
        "df_x = pd.DataFrame(boston.data, columns = boston.feature_names)\n",
        "df_y = pd.DataFrame(boston.target)\n",
        "df_x.describe()\n",
        "\n",
        "#Split the data into 80% training and 20% testing data\n",
        "x_train, x_test, y_train, y_test = train_test_split(df_x, df_y, test_size=0.33, random_state=42)\n",
        "\n",
        "x_train_columns = list(x_train.columns)\n",
        "\n",
        "from sklearn.preprocessing import  StandardScaler\n",
        "scaler = StandardScaler( )\n",
        "x_train_np = scaler.fit_transform( x_train ) #fit and then transform\n",
        "x_test_np  = scaler.transform ( x_test )     #transform\n",
        "\n",
        "x_train = pd.DataFrame(x_train_np,  columns=x_train.columns)\n",
        "x_test  = pd.DataFrame(x_test_np,  columns=x_train.columns)\n",
        "\n",
        "# Some algorithm may prefer scaled data"
      ],
      "execution_count": 0,
      "outputs": []
    },
    {
      "cell_type": "markdown",
      "metadata": {
        "id": "mn-ru9AdOPF9",
        "colab_type": "text"
      },
      "source": [
        "## By LinearRegression from sklearn"
      ]
    },
    {
      "cell_type": "code",
      "metadata": {
        "id": "HPGpmyQ9OWaj",
        "colab_type": "code",
        "outputId": "9b92f236-bbce-4854-bcb4-dc0c1118abcf",
        "colab": {
          "base_uri": "https://localhost:8080/",
          "height": 1000
        }
      },
      "source": [
        "\n",
        "#Initialize the linear regression model\n",
        "lin_model = LinearRegression()\n",
        "lin_model.fit(x_train, y_train)\n",
        "\n",
        "#Print the coefecients/weights for each feature/column of our model\n",
        "coefDataFrame = pd.DataFrame( zip( [\"intecept\"] +  x_train_columns, \n",
        "                                   list(lin_model.intercept_) + list(lin_model.coef_.flatten())),\n",
        "                              columns=['feature', 'coef'])\n",
        "\n",
        "print(\"regression cooefficients:\\n\")\n",
        "print(coefDataFrame)\n",
        "\n",
        "def linear_Reg_report(dataset_type, predict_Y, actual_Y):\n",
        "    rmse = (np.sqrt(mean_squared_error(actual_Y, predict_Y)))\n",
        "    r2 = r2_score(actual_Y, predict_Y)\n",
        "\n",
        "    print(\"\\nThe model performance for \",  dataset_type, \" set\")\n",
        "    print(\"--------------------------------------\")\n",
        "    print('RMSE is {}'.format(rmse))\n",
        "    print('R2 score is {}'.format(r2))\n",
        "\n",
        "\n",
        "y_train_predict = lin_model.predict(x_train)\n",
        "y_test_predict =  lin_model.predict(x_test)\n",
        "\n",
        "linear_Reg_report(\"training\", y_train_predict, y_train)\n",
        "linear_Reg_report(\"testing\",  y_test_predict, y_test)\n",
        "\n",
        "plt.figure(figsize=(15, 15))\n",
        "\n",
        "plt.subplot(4, 1, 1)\n",
        "plt.scatter( y_train, y_train_predict, s=5 )\n",
        "plt.xlabel( \"Prices\")\n",
        "plt.ylabel( \"Predicted Prices\")\n",
        "plt.title( \"(train) Real vs Predicted Housing Prices\")\n",
        "\n",
        "plt.subplot(4, 1, 2)\n",
        "plt.scatter( y_train_predict, y_train_predict - y_train,\n",
        "c ='b', s=30, alpha=0.4 )\n",
        "plt.hlines( y=0, xmin=-5, xmax=55)\n",
        "plt.title( \"Residuals\" )\n",
        "plt.ylabel( \"(train) Residuals\" )\n",
        "\n",
        "plt.subplot(4, 1, 3)\n",
        "plt.scatter( y_test, y_test_predict, s=5 )\n",
        "plt.xlabel( \"Prices\")\n",
        "plt.ylabel( \"Predicted Prices\")\n",
        "plt.title( \"(test) Real vs Predicted Housing Prices\")\n",
        "\n",
        "plt.subplot(4, 1, 4)\n",
        "plt.scatter( y_test_predict, y_test_predict - y_test,\n",
        "c ='b', s=30, alpha=0.4 )\n",
        "plt.hlines( y=0, xmin=-5, xmax=55)\n",
        "plt.title( \"Residuals\" )\n",
        "plt.ylabel( \"(test) Residuals\" )\n",
        "plt.show()\n",
        "\n",
        "\n",
        "plt.show()"
      ],
      "execution_count": 8,
      "outputs": [
        {
          "output_type": "stream",
          "text": [
            "regression cooefficients:\n",
            "\n",
            "     feature       coef\n",
            "0   intecept  22.970796\n",
            "1       CRIM  -0.988580\n",
            "2         ZN   0.867933\n",
            "3      INDUS   0.405028\n",
            "4       CHAS   0.861838\n",
            "5        NOX  -1.900100\n",
            "6         RM   2.808135\n",
            "7        AGE  -0.358669\n",
            "8        DIS  -3.045535\n",
            "9        RAD   2.032761\n",
            "10       TAX  -1.364009\n",
            "11   PTRATIO  -2.082536\n",
            "12         B   1.041257\n",
            "13     LSTAT  -3.926286\n",
            "\n",
            "The model performance for  training  set\n",
            "--------------------------------------\n",
            "RMSE is 4.794269062151269\n",
            "R2 score is 0.7392344370995025\n",
            "\n",
            "The model performance for  testing  set\n",
            "--------------------------------------\n",
            "RMSE is 4.552364598463061\n",
            "R2 score is 0.7261570836552478\n"
          ],
          "name": "stdout"
        },
        {
          "output_type": "display_data",
          "data": {
            "image/png": "[encoded data removed]",
            "text/plain": [
              "<Figure size 1080x1080 with 4 Axes>"
            ]
          },
          "metadata": {
            "tags": []
          }
        }
      ]
    },
    {
      "cell_type": "markdown",
      "metadata": {
        "id": "1nsxYtZFO2x5",
        "colab_type": "text"
      },
      "source": [
        "## By Statmodels"
      ]
    },
    {
      "cell_type": "code",
      "metadata": {
        "id": "dsX6ZpyuPGHJ",
        "colab_type": "code",
        "outputId": "c872cfdf-9ebb-4cc3-8f6a-c9c7d64968c0",
        "colab": {
          "base_uri": "https://localhost:8080/",
          "height": 955
        }
      },
      "source": [
        "\n",
        "import statsmodels.api as sm\n",
        "import pandas as pd\n",
        "from patsy import dmatrices\n",
        "\n",
        "X = sm.add_constant(x_train) # adding a constant\n",
        "\n",
        "sm_model = sm.OLS(y_train.values, X).fit()\n",
        "sm_model_summary = sm_model.summary()\n",
        "print(sm_model_summary)\n",
        "\n",
        "sm_params = pd.DataFrame(\n",
        "     {\"feature\": [\"intecept\"] +  x_train_columns, \n",
        "       \"coef\"  : sm_model.params.values\n",
        "     },\n",
        "     columns=['feature', 'coef'])\n",
        "\n",
        "    \n",
        "print(sm_params)"
      ],
      "execution_count": 9,
      "outputs": [
        {
          "output_type": "stream",
          "text": [
            "                            OLS Regression Results                            \n",
            "==============================================================================\n",
            "Dep. Variable:                      y   R-squared:                       0.739\n",
            "Model:                            OLS   Adj. R-squared:                  0.729\n",
            "Method:                 Least Squares   F-statistic:                     70.87\n",
            "Date:                Thu, 05 Mar 2020   Prob (F-statistic):           1.49e-86\n",
            "Time:                        03:02:42   Log-Likelihood:                -1012.4\n",
            "No. Observations:                 339   AIC:                             2053.\n",
            "Df Residuals:                     325   BIC:                             2106.\n",
            "Df Model:                          13                                         \n",
            "Covariance Type:            nonrobust                                         \n",
            "==============================================================================\n",
            "                 coef    std err          t      P>|t|      [0.025      0.975]\n",
            "------------------------------------------------------------------------------\n",
            "const         22.9708      0.266     86.376      0.000      22.448      23.494\n",
            "CRIM          -0.9886      0.358     -2.758      0.006      -1.694      -0.283\n",
            "ZN             0.8679      0.414      2.095      0.037       0.053       1.683\n",
            "INDUS          0.4050      0.520      0.779      0.437      -0.618       1.428\n",
            "CHAS           0.8618      0.280      3.080      0.002       0.311       1.412\n",
            "NOX           -1.9001      0.576     -3.296      0.001      -3.034      -0.766\n",
            "RM             2.8081      0.369      7.619      0.000       2.083       3.533\n",
            "AGE           -0.3587      0.463     -0.775      0.439      -1.269       0.552\n",
            "DIS           -3.0455      0.535     -5.695      0.000      -4.098      -1.994\n",
            "RAD            2.0328      0.730      2.783      0.006       0.596       3.469\n",
            "TAX           -1.3640      0.783     -1.741      0.083      -2.905       0.177\n",
            "PTRATIO       -2.0825      0.358     -5.816      0.000      -2.787      -1.378\n",
            "B              1.0413      0.301      3.465      0.001       0.450       1.633\n",
            "LSTAT         -3.9263      0.436     -9.008      0.000      -4.784      -3.069\n",
            "==============================================================================\n",
            "Omnibus:                      112.102   Durbin-Watson:                   2.082\n",
            "Prob(Omnibus):                  0.000   Jarque-Bera (JB):              427.768\n",
            "Skew:                           1.404   Prob(JB):                     1.29e-93\n",
            "Kurtosis:                       7.733   Cond. No.                         9.67\n",
            "==============================================================================\n",
            "\n",
            "Warnings:\n",
            "[1] Standard Errors assume that the covariance matrix of the errors is correctly specified.\n",
            "     feature       coef\n",
            "0   intecept  22.970796\n",
            "1       CRIM  -0.988580\n",
            "2         ZN   0.867933\n",
            "3      INDUS   0.405028\n",
            "4       CHAS   0.861838\n",
            "5        NOX  -1.900100\n",
            "6         RM   2.808135\n",
            "7        AGE  -0.358669\n",
            "8        DIS  -3.045535\n",
            "9        RAD   2.032761\n",
            "10       TAX  -1.364009\n",
            "11   PTRATIO  -2.082536\n",
            "12         B   1.041257\n",
            "13     LSTAT  -3.926286\n"
          ],
          "name": "stdout"
        },
        {
          "output_type": "stream",
          "text": [
            "/usr/local/lib/python3.6/dist-packages/numpy/core/fromnumeric.py:2495: FutureWarning: Method .ptp is deprecated and will be removed in a future version. Use numpy.ptp instead.\n",
            "  return ptp(axis=axis, out=out, **kwargs)\n"
          ],
          "name": "stderr"
        }
      ]
    },
    {
      "cell_type": "markdown",
      "metadata": {
        "id": "3-6CO-W0TdP4",
        "colab_type": "text"
      },
      "source": [
        "## By Spark ML"
      ]
    },
    {
      "cell_type": "markdown",
      "metadata": {
        "id": "ugskmo1jVU0D",
        "colab_type": "text"
      },
      "source": [
        "install pyspark library"
      ]
    },
    {
      "cell_type": "code",
      "metadata": {
        "id": "zpS6r88dTloM",
        "colab_type": "code",
        "colab": {}
      },
      "source": [
        "!apt-get install openjdk-8-jdk-headless -qq > /dev/null\n",
        "!wget -q https://www-us.apache.org/dist/spark/spark-2.4.5/spark-2.4.5-bin-hadoop2.7.tgz\n",
        "!tar xf spark-2.4.5-bin-hadoop2.7.tgz\n",
        "\n",
        "#package to add PySpark to sys.path at runtime\n",
        "!pip install -q findspark\n",
        "\n",
        "import os\n",
        "os.environ[\"JAVA_HOME\"] = \"/usr/lib/jvm/java-8-openjdk-amd64\"\n",
        "os.environ[\"SPARK_HOME\"] = \"/content/spark-2.4.5-bin-hadoop2.7\"\n",
        "import findspark\n",
        "findspark.init() "
      ],
      "execution_count": 0,
      "outputs": []
    },
    {
      "cell_type": "code",
      "metadata": {
        "id": "WHWnN3TeVguQ",
        "colab_type": "code",
        "outputId": "17f1415c-1dd4-45e9-f506-e740125f4699",
        "colab": {
          "base_uri": "https://localhost:8080/",
          "height": 411
        }
      },
      "source": [
        "import numpy as np\n",
        "import pandas as pd\n",
        "\n",
        "from pyspark.sql import SparkSession\n",
        "from pyspark.context import SparkContext\n",
        "\n",
        "globs = globals()\n",
        "spark = SparkSession.builder.enableHiveSupport().getOrCreate()\n",
        "sc = spark.sparkContext\n",
        "\n",
        "#import data from previuos session, x_train, x_test, y_train, y_test\n",
        "xx_train =  x_train.copy()\n",
        "xx_train[\"Y\"] = y_train.values\n",
        "xx_test =  x_test.copy()\n",
        "xx_test[\"Y\"] = y_test.values\n",
        "\n",
        "x_train_sp = spark.createDataFrame(xx_train)\n",
        "x_test_sp  = spark.createDataFrame(xx_test)\n",
        "\n",
        "##### INPUT FOR SPARK\n",
        "# Spark ML’s algorithms expect the data to be represented in two columns: Features and Labels. \n",
        "# 1. Features is an array of data points of all the features to be used for prediction. \n",
        "# 2. Labels contain the output label for each data point.\n",
        "\n",
        "# To create a features array, import the VectorAssembler class and pass in a list of the feature column names.\n",
        "from pyspark.ml.feature import VectorAssembler\n",
        "feature_columns = x_train_sp.columns[:-1]   # do not include \"Y\" column (which is the last one)\n",
        "assembler = VectorAssembler(inputCols=feature_columns,outputCol=\"features\")\n",
        "x_train_sp = assembler.transform(x_train_sp)\n",
        "#x_train_sp[\"label\"] = y_train.values\n",
        "print(x_train_sp.show(5))\n",
        "\n",
        "from pyspark.ml.regression import LinearRegression\n",
        "# Defining the algorithm variable. We need to specify the name of the features column and the labels column.\n",
        "algorithm = LinearRegression(featuresCol=\"features\", labelCol=\"Y\")\n",
        "\n",
        "model_spark = algorithm.fit(x_train_sp)\n",
        "\n",
        "print(\"Intercept\", model_spark.intercept, \"\\n\",\n",
        "      \"Coefficient: \", model_spark.coefficients)\n",
        "\n",
        "\n",
        "# Evaluating Model Performance\n",
        "x_test_sp = assembler.transform(x_test_sp)\n",
        "\n",
        "evaluation_summary = model_spark.evaluate(x_train_sp)\n",
        "print(\"TRAINING ------------------------------------\")\n",
        "print(\"MAE: \", evaluation_summary.meanAbsoluteError)\n",
        "print(\"RMSE: \", evaluation_summary.rootMeanSquaredError)\n",
        "print(\"R2: \", evaluation_summary.r2)\n",
        "\n",
        "evaluation_summary = model_spark.evaluate(x_test_sp)\n",
        "print(\"TESTING -------------------------------------\")\n",
        "print(\"MAE: \", evaluation_summary.meanAbsoluteError)\n",
        "print(\"RMSE: \", evaluation_summary.rootMeanSquaredError)\n",
        "print(\"R2: \", evaluation_summary.r2)\n"
      ],
      "execution_count": 0,
      "outputs": [
        {
          "output_type": "stream",
          "text": [
            "+--------------------+-------------------+--------------------+--------------------+--------------------+--------------------+------------------+-------------------+-------------------+--------------------+-------------------+-------------------+--------------------+----+--------------------+\n",
            "|                CRIM|                 ZN|               INDUS|                CHAS|                 NOX|                  RM|               AGE|                DIS|                RAD|                 TAX|            PTRATIO|                  B|               LSTAT|   Y|            features|\n",
            "+--------------------+-------------------+--------------------+--------------------+--------------------+--------------------+------------------+-------------------+-------------------+--------------------+-------------------+-------------------+--------------------+----+--------------------+\n",
            "|  0.8962487154968979|-0.5106013881354163|   0.982782232206114|-0.28821362329313566| 0.48083147770775053|-0.19776733724330933|0.9946124120725424|-0.7434277927825337| 1.6771241278934885|  1.5467146504250504| 0.8644209498292015|0.24040357277058022|  0.7715561198981713|14.6|[0.89624871549689...|\n",
            "| -0.3489588065379264|-0.5106013881354163|-0.44867555493697053|-0.28821362329313566| -0.1659270500126779| -0.7146808541782974|0.7653059821708794| 0.4294092752223137|-0.6335650789989828| -0.6149877275737442| 1.2211869848218575|0.20852839229321582| 0.32248962526295955|16.6|[-0.3489588065379...|\n",
            "| -0.4176405822371703|0.03413007768125707| -0.4874801335041024|-0.28821362329313566| -0.2850667788032833| -0.2158315192867362|0.9731149342692612|  1.021781889502285|-0.5180306186543593| -0.5909019072060696|-1.3653667688748958|0.43481956717152664|  0.9277531615104185|27.1|[-0.4176405822371...|\n",
            "| -0.4219683572039594|-0.5106013881354163|   2.368249407714079|-0.28821362329313566|  0.4382815745682486|-0.47845693514886745|0.5216679004003629| -0.771727186101703|-0.6335650789989828|  1.8176801295613896| 0.8198251954551206|0.43481956717152664|   0.118875624589851|20.1|[-0.4219683572039...|\n",
            "|-0.41979339957695444|-0.5106013881354163|-0.38831287716587665|-0.28821362329313566|-0.31910670131488483|  0.2038133251067227| 1.008944063941396|-0.6208904857371537|-0.5180306186543593|-0.15133568549600834| 1.1765912304477748|  0.416056163060738|-0.03174295125053...|19.8|[-0.4197933995769...|\n",
            "+--------------------+-------------------+--------------------+--------------------+--------------------+--------------------+------------------+-------------------+-------------------+--------------------+-------------------+-------------------+--------------------+----+--------------------+\n",
            "only showing top 5 rows\n",
            "\n",
            "None\n",
            "Intercept 22.970796460177 \n",
            " Coefficient:  [-0.9885803155766775,0.8679327618776823,0.40502821790682686,0.8618379050539515,-1.9000997383419629,2.8081351797331386,-0.3586685648180362,-3.045534981338698,2.032760738309303,-1.364009088301617,-2.082535595854037,1.0412568389836239,-3.926286262705093]\n",
            "TRAINING ------------------------------------\n",
            "MAE:  3.3764189163531326\n",
            "RMSE:  4.794269062151269\n",
            "R2:  0.7392344370995025\n",
            "TESTING -------------------------------------\n",
            "MAE:  3.148255754816835\n",
            "RMSE:  4.552364598463066\n",
            "R2:  0.7261570836552471\n"
          ],
          "name": "stdout"
        }
      ]
    },
    {
      "cell_type": "markdown",
      "metadata": {
        "id": "XB7z68KuTbXS",
        "colab_type": "text"
      },
      "source": [
        "## Using Tensorflow\n",
        "\n",
        "### Single layer network. \n",
        "This one should be in theory same as the linear regression.\n",
        "\n",
        "However since we need to specify the learning rate and epoch, we can only get the coefficients very close to the coefficients from the above methods."
      ]
    },
    {
      "cell_type": "code",
      "metadata": {
        "id": "O3_8eGOl_ze2",
        "colab_type": "code",
        "outputId": "630f35a2-b577-486c-851b-06e7c1f3df58",
        "colab": {
          "base_uri": "https://localhost:8080/",
          "height": 1000
        }
      },
      "source": [
        "from __future__ import absolute_import, division, print_function, unicode_literals\n",
        "\n",
        "import pathlib\n",
        "import matplotlib.pyplot as plt\n",
        "import pandas as pd\n",
        "import seaborn as sns\n",
        "import numpy as np\n",
        "\n",
        "try:\n",
        "  %tensorflow_version 2.x\n",
        "except Exception:\n",
        "  pass\n",
        "import tensorflow as tf\n",
        "\n",
        "from tensorflow import keras\n",
        "from tensorflow.keras import layers\n",
        "\n",
        "print(tf.__version__)\n",
        "                                                     \n",
        "import tensorflow as tf\n",
        "from tensorflow import keras\n",
        "from tensorflow.keras import Sequential\n",
        "from tensorflow.keras.layers import Dense\n",
        "\n",
        "class PrintDot(keras.callbacks.Callback):\n",
        "  def on_epoch_end(self, epoch, logs):\n",
        "    if epoch % 1000 == 0: print('')\n",
        "    if epoch % 100 == 0: print(\".\", end='')\n",
        "\n",
        "early_stop = keras.callbacks.EarlyStopping(monitor='loss', patience=10)\n",
        "\n",
        "widthX = x_train.shape[1]\n",
        "#build our model\n",
        "model = Sequential([\n",
        "    Dense(1, input_shape=(widthX,), use_bias=True)\n",
        "   ])\n",
        "\n",
        "model2 = Sequential([\n",
        "    Dense(32, activation='relu', input_shape=(widthX,)),\n",
        "    Dense(16, activation='relu'),\n",
        "    Dense(1)\n",
        "   ])\n",
        "\n",
        "optimizer = tf.keras.optimizers.RMSprop(learning_rate=0.002) # Default value\n",
        "model.compile(optimizer=optimizer,loss='mse', metrics =['mae', 'mse'])\n",
        "\n",
        "# Train the model\n",
        "history = model.fit(\n",
        "    x_train,\n",
        "    y_train,\n",
        "    epochs=10000,\n",
        "    shuffle=False,\n",
        "    validation_split = 0.2,\n",
        "    verbose=0, callbacks=[early_stop, PrintDot()]\n",
        ")\n",
        "\n",
        "minepoch = np.argmin(history.history[\"loss\"])\n",
        "print(minepoch)\n",
        "\n",
        "def print_coeff():\n",
        "  print(\"\\nthe coefficient is as the following:\")\n",
        "  for trainable_variable in model.trainable_weights:\n",
        "    name = trainable_variable.name\n",
        "    values =  trainable_variable.read_value().numpy()\n",
        "    if (\"/bias:\" in name):\n",
        "      print(\"Bias: \", values)\n",
        "    else:\n",
        "      print(values)\n",
        "\n",
        "def plot_Tesor(history, ylabel):\n",
        "  import matplotlib.pyplot as plt\n",
        "  plt.clf()\n",
        "  for k in history.keys():\n",
        "    if k.endswith(ylabel):\n",
        "      plt.plot(history[k], label=k)\n",
        "  plt.title(ylabel)\n",
        "  plt.ylabel(ylabel)\n",
        "  plt.xlabel('Epoch')\n",
        "  plt.legend()\n",
        "  plt.show()\n",
        "\n",
        "plot_Tesor(history.history, \"loss\")\n",
        "plot_Tesor(history.history, \"mae\")\n",
        "plot_Tesor(history.history, \"mse\")\n",
        "\n",
        "def model_sum(model, X, Y, Title=\"Train\"):\n",
        "  score = model.evaluate(X, Y)\n",
        "  print(Title, \":evaluate score = \", score)\n",
        "\n",
        "model_sum(model, x_train, y_train, \"Train\")\n",
        "model_sum(model, x_test,  y_test,  \"Test\")\n",
        "\n",
        "y_train_predict = model.predict(x_train)\n",
        "y_test_predict =  model.predict(x_test)\n",
        "\n",
        "linear_Reg_report(\"training\", y_train_predict, y_train)\n",
        "linear_Reg_report(\"testing\",  y_test_predict, y_test)\n",
        "\n",
        "print_coeff()"
      ],
      "execution_count": 32,
      "outputs": [
        {
          "output_type": "stream",
          "text": [
            "2.1.0\n",
            "\n",
            "..........\n",
            "..........\n",
            "..........\n",
            "..........\n",
            "..........\n",
            "..........\n",
            "....6323\n"
          ],
          "name": "stdout"
        },
        {
          "output_type": "display_data",
          "data": {
            "image/png": "[encoded data removed]",
            "text/plain": [
              "<Figure size 432x288 with 1 Axes>"
            ]
          },
          "metadata": {
            "tags": []
          }
        },
        {
          "output_type": "display_data",
          "data": {
            "image/png": "[encoded data removed]",
            "text/plain": [
              "<Figure size 432x288 with 1 Axes>"
            ]
          },
          "metadata": {
            "tags": []
          }
        },
        {
          "output_type": "display_data",
          "data": {
            "image/png": "[encoded data removed]",
            "text/plain": [
              "<Figure size 432x288 with 1 Axes>"
            ]
          },
          "metadata": {
            "tags": []
          }
        },
        {
          "output_type": "stream",
          "text": [
            "339/339 [==============================] - 0s 43us/sample - loss: 23.2693 - mae: 3.3745 - mse: 23.2693\n",
            "Train :evaluate score =  [23.26926042899973, 3.3745215, 23.26926]\n",
            "167/167 [==============================] - 0s 60us/sample - loss: 21.9838 - mae: 3.2699 - mse: 21.9838\n",
            "Test :evaluate score =  [21.983775955474304, 3.269892, 21.983778]\n",
            "\n",
            "The model performance for  training  set\n",
            "--------------------------------------\n",
            "RMSE is 4.823822133373913\n",
            "R2 score is 0.7360096804949456\n",
            "\n",
            "The model performance for  testing  set\n",
            "--------------------------------------\n",
            "RMSE is 4.688685998302498\n",
            "R2 score is 0.7095109712987798\n",
            "\n",
            "the coefficient is as the following:\n",
            "[[-1.0209309 ]\n",
            " [ 0.87147653]\n",
            " [ 0.47828507]\n",
            " [ 0.7215416 ]\n",
            " [-1.6400989 ]\n",
            " [ 2.5242193 ]\n",
            " [-0.10171466]\n",
            " [-2.7003927 ]\n",
            " [ 1.691111  ]\n",
            " [-1.1543294 ]\n",
            " [-2.0122602 ]\n",
            " [ 1.1727936 ]\n",
            " [-4.508147  ]]\n",
            "Bias:  [22.928215]\n"
          ],
          "name": "stdout"
        }
      ]
    },
    {
      "cell_type": "markdown",
      "metadata": {
        "id": "5JfKBhsVCYPH",
        "colab_type": "text"
      },
      "source": [
        "Multi-layers\n",
        "\n",
        "This is fun part. As you can see, multi-layer can immediately improve the prediction power.\n",
        "\n",
        " * training  set: **R2 score is 0.9587141624082106**\n",
        " * testing  set: **R2 score is 0.8378409864369002**\n",
        "\n"
      ]
    },
    {
      "cell_type": "code",
      "metadata": {
        "id": "HbwIusAKDfF9",
        "colab_type": "code",
        "colab": {
          "base_uri": "https://localhost:8080/",
          "height": 1000
        },
        "outputId": "f4b8b95e-8040-49c2-98d5-9d2d51e02fa5"
      },
      "source": [
        "model = Sequential([\n",
        "    Dense(32, activation='relu', input_shape=(widthX,)),\n",
        "    Dense(16, activation='relu'),\n",
        "    Dense(1)\n",
        "   ])\n",
        "\n",
        "optimizer = tf.keras.optimizers.RMSprop(learning_rate=0.002) # Default value\n",
        "model.compile(optimizer=optimizer,loss='mse', metrics =['mae', 'mse'])\n",
        "\n",
        "early_stop = keras.callbacks.EarlyStopping(monitor='loss', patience=5)\n",
        "\n",
        "# Train the model\n",
        "history = model.fit(\n",
        "    x_train,\n",
        "    y_train,\n",
        "    epochs=10000,\n",
        "    shuffle=False,\n",
        "    validation_split = 0.2,\n",
        "    verbose=0, callbacks=[early_stop, PrintDot()]\n",
        ")\n",
        "\n",
        "plot_Tesor(history.history, \"loss\")\n",
        "plot_Tesor(history.history, \"mae\")\n",
        "plot_Tesor(history.history, \"mse\")\n",
        "\n",
        "model_sum(model, x_train, y_train, \"Train\")\n",
        "model_sum(model, x_test,  y_test,  \"Test\")\n",
        "\n",
        "y_train_predict = model.predict(x_train)\n",
        "y_test_predict =  model.predict(x_test)\n",
        "\n",
        "linear_Reg_report(\"training\", y_train_predict, y_train)\n",
        "linear_Reg_report(\"testing\",  y_test_predict, y_test)\n",
        "\n",
        "#print_coeff()"
      ],
      "execution_count": 34,
      "outputs": [
        {
          "output_type": "stream",
          "text": [
            "\n",
            "......"
          ],
          "name": "stdout"
        },
        {
          "output_type": "display_data",
          "data": {
            "image/png": "[encoded data removed]",
            "text/plain": [
              "<Figure size 432x288 with 1 Axes>"
            ]
          },
          "metadata": {
            "tags": []
          }
        },
        {
          "output_type": "display_data",
          "data": {
            "image/png": "[encoded data removed]",
            "text/plain": [
              "<Figure size 432x288 with 1 Axes>"
            ]
          },
          "metadata": {
            "tags": []
          }
        },
        {
          "output_type": "display_data",
          "data": {
            "image/png": "[encoded data removed]",
            "text/plain": [
              "<Figure size 432x288 with 1 Axes>"
            ]
          },
          "metadata": {
            "tags": []
          }
        },
        {
          "output_type": "stream",
          "text": [
            "339/339 [==============================] - 0s 50us/sample - loss: 4.3810 - mae: 1.3077 - mse: 4.3810\n",
            "Train :evaluate score =  [4.381045237403352, 1.3076994, 4.3810453]\n",
            "167/167 [==============================] - 0s 62us/sample - loss: 16.7311 - mae: 2.6930 - mse: 16.7311\n",
            "Test :evaluate score =  [16.73106581293894, 2.6930017, 16.731066]\n",
            "\n",
            "The model performance for  training  set\n",
            "--------------------------------------\n",
            "RMSE is 2.093094712766089\n",
            "R2 score is 0.9502969326739534\n",
            "\n",
            "The model performance for  testing  set\n",
            "--------------------------------------\n",
            "RMSE is 4.090362461866664\n",
            "R2 score is 0.7789192013788051\n"
          ],
          "name": "stdout"
        }
      ]
    },
    {
      "cell_type": "markdown",
      "metadata": {
        "id": "qgOEw2a5ZXvV",
        "colab_type": "text"
      },
      "source": [
        "# Self TESTING, please ignore"
      ]
    },
    {
      "cell_type": "code",
      "metadata": {
        "id": "SAensAkzSSHm",
        "colab_type": "code",
        "outputId": "faa0f984-15aa-4a46-ec01-96a2b6d61d44",
        "colab": {
          "base_uri": "https://localhost:8080/",
          "height": 1000
        }
      },
      "source": [
        "                                                 \n",
        "dataset_path = keras.utils.get_file(\"auto-mpg.data2\", \"http://archive.ics.uci.edu/ml/machine-learning-databases/auto-mpg/auto-mpg.data\")\n",
        "column_names = [\"mpg\", \"cylinders\", \"displacement\", \"horsepower\", \"weight\", \"acceleration\", \"modelyear\", \"origin\"]\n",
        "\n",
        "raw_dataset = pd.read_csv(dataset_path, names=column_names, na_values=\"?\", comment=\"\\t\", sep=\" \", skipinitialspace=True)\n",
        "dataset = raw_dataset.dropna().copy()\n",
        "\n",
        "origin = dataset.pop(\"origin\")\n",
        "dataset[\"USA\"]    = (origin == 1) * 1.0\n",
        "dataset[\"Europe\"] = (origin == 2) * 1.0\n",
        "XNames = [x for x in dataset.columns if x != \"mpg\"]\n",
        "Y = dataset[\"mpg\"]           #series\n",
        "X = dataset[XNames]\n",
        "\n",
        "#Split dataset as train and test data\n",
        "from sklearn.model_selection import train_test_split\n",
        "X_train, X_test, Y_train, Y_test = train_test_split(X, Y, test_size = 0.2, random_state=0)\n",
        "#X_train = X_train.reset_index(drop=True)\n",
        "#Y_train = Y_train.reset_index(drop=True)\n",
        "print(X_train)\n",
        "print(Y_train)\n",
        "#Scale X values\n",
        "from sklearn.preprocessing import  StandardScaler\n",
        "scaler = StandardScaler( )\n",
        "X_train = scaler.fit_transform( X_train ) #fit and then transform\n",
        "X_test  = scaler.transform ( X_test )     #transform\n",
        "\n",
        "#to report result\n",
        "def linear_Reg_report(dataset_type, predict_Y, actual_Y):\n",
        "    rmse = (np.sqrt(mean_squared_error(actual_Y, predict_Y)))\n",
        "    r2 = r2_score(actual_Y, predict_Y)\n",
        "\n",
        "    print(\"\\nThe model performance for \",  dataset_type, \" set\")\n",
        "    print(\"--------------------------------------\")\n",
        "    print('RMSE is {}'.format(rmse))\n",
        "    print('R2 score is {}'.format(r2))\n",
        "    print(\"\\n\")\n",
        "    \n",
        "from sklearn.linear_model import LinearRegression\n",
        "from sklearn.metrics import mean_squared_error,  r2_score\n",
        "\n",
        "lin_model = LinearRegression(normalize=False)\n",
        "lin_model.fit( X_train, Y_train )\n",
        "\n",
        "coefDataFrame = pd.DataFrame({'features':         [\"intercept\"], \n",
        "                              'estimatedCoeffs':  lin_model.intercept_.flatten()\n",
        "                              }\n",
        "                             )\n",
        "coefDataFrame = coefDataFrame.append(pd.DataFrame( zip(XNames, lin_model.coef_.flatten()),\n",
        "                                                  columns=['features', 'estimatedCoeffs']), \n",
        "                                     ignore_index=True)\n",
        "print(\"regression cooefficients:\\n\")\n",
        "print(coefDataFrame)\n",
        "\n",
        "y_train_predict = lin_model.predict(X_train)\n",
        "y_test_predict =  lin_model.predict(X_test)\n",
        "\n",
        "linear_Reg_report(\"training\", y_train_predict, Y_train)\n",
        "linear_Reg_report(\"testing\",  y_test_predict, Y_test)\n",
        "\n",
        "print(\"Yes, intercept ++++++++++++++++++++++++++++++++++++++++++++++++++++++++++++++++++++\")\n",
        "lin_model = LinearRegression(normalize=False, fit_intercept=True)\n",
        "lin_model.fit( X_train, Y_train )\n",
        "print(\"\\n\", lin_model.coef_, \"\\n\")\n",
        "\n",
        "\n",
        "print(\"++++++++++++++++++++++++++++++++++++++++++++++++++++++++++++++++++++\")\n",
        "\n",
        "X = sm.add_constant(X_train) # adding a constant\n",
        "sm_model = sm.OLS(Y_train.values, X).fit()\n",
        "sm_model_summary = sm_model.summary()\n",
        "print(sm_model_summary)\n",
        "\n",
        "print(\"No, intercept ++++++++++++++++++++++++++++++++++++++++++++++++++++++++++++++++++++\")\n",
        "lin_model = LinearRegression(normalize=False, fit_intercept=False)\n",
        "lin_model.fit( X, Y_train )\n",
        "print(\"\\n\", lin_model.coef_, \"\\n\")\n",
        "\n"
      ],
      "execution_count": 0,
      "outputs": [
        {
          "output_type": "stream",
          "text": [
            "regression cooefficients:\n",
            "\n",
            "       features  estimatedCoeffs\n",
            "0     intercept     2.348041e+01\n",
            "1     cylinders    -5.608855e-01\n",
            "2  displacement     2.294041e+00\n",
            "3    horsepower    -4.852167e-01\n",
            "4        weight    -5.867469e+00\n",
            "5  acceleration     3.628640e-01\n",
            "6     modelyear     2.788355e+00\n",
            "7           USA    -1.499224e+14\n",
            "8        Europe    -1.160200e+14\n",
            "9         Japan    -1.254847e+14\n",
            "\n",
            "The model performance for  training  set\n",
            "--------------------------------------\n",
            "RMSE is 3.3076473263049575\n",
            "R2 score is 0.818879307342756\n",
            "\n",
            "\n",
            "\n",
            "The model performance for  testing  set\n",
            "--------------------------------------\n",
            "RMSE is 3.168238484516514\n",
            "R2 score is 0.8385056029649537\n",
            "\n",
            "\n",
            "Yes, intercept ++++++++++++++++++++++++++++++++++++++++++++++++++++++++++++++++++++\n",
            "\n",
            " [-5.60885493e-01  2.29404084e+00 -4.85216674e-01 -5.86746896e+00\n",
            "  3.62863966e-01  2.78835501e+00 -1.49922437e+14 -1.16020019e+14\n",
            " -1.25484719e+14] \n",
            "\n",
            "++++++++++++++++++++++++++++++++++++++++++++++++++++++++++++++++++++\n",
            "                            OLS Regression Results                            \n",
            "==============================================================================\n",
            "Dep. Variable:                      y   R-squared:                       0.819\n",
            "Model:                            OLS   Adj. R-squared:                  0.815\n",
            "Method:                 Least Squares   F-statistic:                     172.4\n",
            "Date:                Mon, 02 Mar 2020   Prob (F-statistic):          3.46e-108\n",
            "Time:                        01:42:49   Log-Likelihood:                -818.08\n",
            "No. Observations:                 313   AIC:                             1654.\n",
            "Df Residuals:                     304   BIC:                             1688.\n",
            "Df Model:                           8                                         \n",
            "Covariance Type:            nonrobust                                         \n",
            "==============================================================================\n",
            "                 coef    std err          t      P>|t|      [0.025      0.975]\n",
            "------------------------------------------------------------------------------\n",
            "const         23.4824      0.189    123.969      0.000      23.110      23.855\n",
            "x1            -0.6573      0.620     -1.060      0.290      -1.877       0.562\n",
            "x2             2.2239      0.893      2.490      0.013       0.466       3.982\n",
            "x3            -0.4683      0.583     -0.804      0.422      -1.615       0.678\n",
            "x4            -5.8792      0.613     -9.594      0.000      -7.085      -4.673\n",
            "x5             0.3603      0.301      1.199      0.232      -0.231       0.952\n",
            "x6             2.8058      0.214     13.135      0.000       2.385       3.226\n",
            "x7            -0.6371      0.151     -4.214      0.000      -0.935      -0.340\n",
            "x8             0.4025      0.157      2.556      0.011       0.093       0.712\n",
            "x9             0.3890      0.155      2.506      0.013       0.083       0.695\n",
            "==============================================================================\n",
            "Omnibus:                       20.430   Durbin-Watson:                   1.966\n",
            "Prob(Omnibus):                  0.000   Jarque-Bera (JB):               28.129\n",
            "Skew:                           0.485   Prob(JB):                     7.79e-07\n",
            "Kurtosis:                       4.103   Cond. No.                     5.03e+15\n",
            "==============================================================================\n",
            "\n",
            "Warnings:\n",
            "[1] Standard Errors assume that the covariance matrix of the errors is correctly specified.\n",
            "[2] The smallest eigenvalue is 6.14e-29. This might indicate that there are\n",
            "strong multicollinearity problems or that the design matrix is singular.\n",
            "No, intercept ++++++++++++++++++++++++++++++++++++++++++++++++++++++++++++++++++++\n",
            "\n",
            " [23.48242812 -0.65725252  2.22390775 -0.46832128 -5.87922547  0.36026556\n",
            "  2.80579702 -0.63705231  0.40245312  0.38901802] \n",
            "\n"
          ],
          "name": "stdout"
        }
      ]
    },
    {
      "cell_type": "markdown",
      "metadata": {
        "id": "rMZO45BNSbtM",
        "colab_type": "text"
      },
      "source": [
        "By statsmodels\n",
        "\n",
        "https://www.statsmodels.org/stable/regression.html"
      ]
    },
    {
      "cell_type": "code",
      "metadata": {
        "id": "YF68-PKNUnEc",
        "colab_type": "code",
        "outputId": "959e7270-3fed-4c63-92b6-e4f69cb3dc05",
        "colab": {
          "base_uri": "https://localhost:8080/",
          "height": 1000
        }
      },
      "source": [
        "import statsmodels.api as sm\n",
        "from patsy import dmatrices\n",
        "\n",
        "print(\"0000000000000000000000000000000\")\n",
        "lin_model = LinearRegression(normalize=False, fit_intercept=True)\n",
        "lin_model.fit( X_train, Y_train )\n",
        "print(\"\\n\", lin_model.coef_, \"\\n\")\n",
        "print(\"++++++++++++++++++++++++++++++++++++++++++++++++++++++++++++++++++++\")\n",
        "\n",
        "#X_train = X_train[['cylinders', 'displacement', 'horsepower', 'weight', 'acceleration', 'modelyear']]\n",
        "\n",
        "#print(X_train.describe().transpose())\n",
        "#XNames = ['cylinders', 'displacement', 'horsepower', 'weight', 'acceleration', 'modelyear', 'USA', 'Europe', 'Japan']\n",
        "X= X_train.copy()\n",
        "#XNames = X.columns\n",
        "X[\"Y\"] = Y_train.values\n",
        "\n",
        "y, X = dmatrices('Y ~ cylinders + displacement +  horsepower + weight + acceleration +  modelyear + USA + Europe + Japan', data=X)\n",
        "#y, X = dmatrices('Y ~ cylinders + displacement +  horsepower + weight + acceleration +  modelyear ', data=X)\n",
        "sm_model = sm.OLS(y, X).fit()\n",
        "sm_model_summary = sm_model.summary()\n",
        "print(sm_model_summary)\n",
        "print(sm_model.params)\n",
        "\n",
        "############################################\n",
        "print(\"1111111111111111111111111111\")\n",
        "lin_model = LinearRegression(normalize=False, fit_intercept=True)\n",
        "lin_model.fit( X_train, Y_train )\n",
        "print(\"\\n\", lin_model.coef_, \"\\n\")\n",
        "print(\"++++++++++++++++++++++++++++++++++++++++++++++++++++++++++++++++++++\")\n",
        "\n",
        "lin_model = LinearRegression(normalize=False, fit_intercept=True)\n",
        "lin_model.fit( X_train, Y_train.values )\n",
        "print(\"\\n\", lin_model.coef_, \"\\n\")\n",
        "print(\"++++++++++++++++++++++++++++++++++++++++++++++++++++++++++++++++++++\")\n",
        "\n",
        "lin_model3 = LinearRegression(normalize=True, fit_intercept=True)\n",
        "lin_model3.fit( X_train, y )\n",
        "print(\"\\n\", lin_model3.coef_, \"\\n\")\n",
        "print(\"++++++++++++++++++++++++++++++++++++++++++++++++++++++++++++++++++++\")\n",
        "\n",
        "\n",
        "lin_model2 = LinearRegression(normalize=False, fit_intercept=False)\n",
        "lin_model2.fit( X  , y )\n",
        "print(\"\\n\", lin_model2.coef_, \"\\n\")\n",
        "print(\"++++++++++++++++++++++++++++++++++++++++++++++++++++++++++++++++++++\")\n",
        "\n",
        "#print( X[0:10, 1:])\n",
        "#print(X[0:10, ])\n",
        "\n",
        "#coefDataFrame = pd.DataFrame({'features':         [\"intercept\"], \n",
        "#                              'estimatedCoeffs':  lin_model.intercept_.flatten()\n",
        "#                              }\n",
        "#                             )\n",
        "#coefDataFrame = pd.DataFrame( zip(XNames, lin_model.coef_.flatten()[0:]), columns=['features', 'estimatedCoeffs'])\n",
        "#print(\"regression cooefficients:\\n\")\n",
        "#print(coefDataFrame)\n",
        "\n",
        "\n",
        "\n",
        "###################################\n",
        "#X= pd.DataFrame(X_train) ####, columns =['cylinders', 'displacement', 'horsepower', 'weight', 'acceleration', 'modelyear', 'USA', 'Europe', 'Japan'])\n",
        "#X = sm.add_constant(X) # adding a constant\n",
        "#sm_model = sm.OLS(Y_train.values, X).fit()\n",
        "#sm_model_summary = sm_model.summary()\n",
        "#print(sm_model_summary)\n",
        "\n",
        "# model evaluation for training set\n",
        "#y_train_predict = sm_model.predict(sm.add_constant(X_train))\n",
        "## model evaluation for testing set\n",
        "#y_test_predict = sm_model.predict(sm.add_constant(X_test))\n",
        "\n",
        "#linear_Reg_report(\"training\", y_train_predict, Y_train)\n",
        "#linear_Reg_report(\"testing\",  y_test_predict, Y_test)\n",
        "\n",
        "######################################\n",
        "\n"
      ],
      "execution_count": 0,
      "outputs": [
        {
          "output_type": "stream",
          "text": [
            "0000000000000000000000000000000\n",
            "\n",
            " [-0.38946904  0.02158376 -0.01237154 -0.00700083  0.12954429  0.76774449\n",
            " -1.55370633  0.83388251  0.71982383] \n",
            "\n",
            "++++++++++++++++++++++++++++++++++++++++++++++++++++++++++++++++++++\n",
            "                            OLS Regression Results                            \n",
            "==============================================================================\n",
            "Dep. Variable:                      Y   R-squared:                       0.819\n",
            "Model:                            OLS   Adj. R-squared:                  0.815\n",
            "Method:                 Least Squares   F-statistic:                     172.4\n",
            "Date:                Mon, 02 Mar 2020   Prob (F-statistic):          3.46e-108\n",
            "Time:                        00:48:12   Log-Likelihood:                -818.08\n",
            "No. Observations:                 313   AIC:                             1654.\n",
            "Df Residuals:                     304   BIC:                             1688.\n",
            "Df Model:                           8                                         \n",
            "Covariance Type:            nonrobust                                         \n",
            "================================================================================\n",
            "                   coef    std err          t      P>|t|      [0.025      0.975]\n",
            "--------------------------------------------------------------------------------\n",
            "Intercept      -12.1523      3.878     -3.133      0.002     -19.784      -4.520\n",
            "cylinders       -0.3895      0.367     -1.060      0.290      -1.112       0.333\n",
            "displacement     0.0216      0.009      2.490      0.013       0.005       0.039\n",
            "horsepower      -0.0124      0.015     -0.804      0.422      -0.043       0.018\n",
            "weight          -0.0070      0.001     -9.594      0.000      -0.008      -0.006\n",
            "acceleration     0.1295      0.108      1.199      0.232      -0.083       0.342\n",
            "modelyear        0.7677      0.058     13.135      0.000       0.653       0.883\n",
            "USA             -5.6045      1.371     -4.089      0.000      -8.302      -2.907\n",
            "Europe          -3.2169      1.296     -2.482      0.014      -5.767      -0.666\n",
            "Japan           -3.3310      1.366     -2.439      0.015      -6.019      -0.643\n",
            "==============================================================================\n",
            "Omnibus:                       20.430   Durbin-Watson:                   1.966\n",
            "Prob(Omnibus):                  0.000   Jarque-Bera (JB):               28.129\n",
            "Skew:                           0.485   Prob(JB):                     7.79e-07\n",
            "Kurtosis:                       4.103   Cond. No.                     7.37e+18\n",
            "==============================================================================\n",
            "\n",
            "Warnings:\n",
            "[1] Standard Errors assume that the covariance matrix of the errors is correctly specified.\n",
            "[2] The smallest eigenvalue is 5.53e-29. This might indicate that there are\n",
            "strong multicollinearity problems or that the design matrix is singular.\n",
            "[-1.21523423e+01 -3.89469039e-01  2.15837594e-02 -1.23715386e-02\n",
            " -7.00082644e-03  1.29544286e-01  7.67744495e-01 -5.60448708e+00\n",
            " -3.21689824e+00 -3.33095692e+00]\n",
            "1111111111111111111111111111\n",
            "\n",
            " [-0.38946904  0.02158376 -0.01237154 -0.00700083  0.12954429  0.76774449\n",
            " -1.55370633  0.83388251  0.71982383] \n",
            "\n",
            "++++++++++++++++++++++++++++++++++++++++++++++++++++++++++++++++++++\n",
            "\n",
            " [-0.38946904  0.02158376 -0.01237154 -0.00700083  0.12954429  0.76774449\n",
            " -1.55370633  0.83388251  0.71982383] \n",
            "\n",
            "++++++++++++++++++++++++++++++++++++++++++++++++++++++++++++++++++++\n",
            "\n",
            " [[-0.38946904  0.02158376 -0.01237154 -0.00700083  0.12954429  0.76774449\n",
            "  -1.31450161  1.07308722  0.95902854]] \n",
            "\n",
            "++++++++++++++++++++++++++++++++++++++++++++++++++++++++++++++++++++\n",
            "\n",
            " [[-1.21523423e+01 -3.89469039e-01  2.15837594e-02 -1.23715386e-02\n",
            "  -7.00082644e-03  1.29544286e-01  7.67744495e-01 -5.60448708e+00\n",
            "  -3.21689824e+00 -3.33095692e+00]] \n",
            "\n",
            "++++++++++++++++++++++++++++++++++++++++++++++++++++++++++++++++++++\n",
            "[[4.000e+00 8.500e+01 7.000e+01 1.945e+03 1.680e+01 7.700e+01 0.000e+00\n",
            "  0.000e+00 1.000e+00]\n",
            " [6.000e+00 2.250e+02 1.000e+02 3.430e+03 1.720e+01 7.800e+01 1.000e+00\n",
            "  0.000e+00 0.000e+00]\n",
            " [4.000e+00 1.050e+02 7.000e+01 2.200e+03 1.320e+01 7.900e+01 1.000e+00\n",
            "  0.000e+00 0.000e+00]\n",
            " [6.000e+00 2.000e+02 8.100e+01 3.012e+03 1.760e+01 7.600e+01 1.000e+00\n",
            "  0.000e+00 0.000e+00]\n",
            " [4.000e+00 1.130e+02 9.500e+01 2.278e+03 1.550e+01 7.200e+01 0.000e+00\n",
            "  0.000e+00 1.000e+00]\n",
            " [8.000e+00 4.550e+02 2.250e+02 4.425e+03 1.000e+01 7.000e+01 1.000e+00\n",
            "  0.000e+00 0.000e+00]\n",
            " [8.000e+00 2.600e+02 9.000e+01 3.420e+03 2.220e+01 7.900e+01 1.000e+00\n",
            "  0.000e+00 0.000e+00]\n",
            " [4.000e+00 1.190e+02 9.700e+01 2.545e+03 1.700e+01 7.500e+01 0.000e+00\n",
            "  0.000e+00 1.000e+00]\n",
            " [4.000e+00 1.190e+02 1.000e+02 2.615e+03 1.480e+01 8.100e+01 0.000e+00\n",
            "  0.000e+00 1.000e+00]\n",
            " [4.000e+00 8.500e+01 6.500e+01 2.020e+03 1.920e+01 7.900e+01 0.000e+00\n",
            "  0.000e+00 1.000e+00]]\n",
            "[[1.000e+00 4.000e+00 8.500e+01 7.000e+01 1.945e+03 1.680e+01 7.700e+01\n",
            "  0.000e+00 0.000e+00 1.000e+00]\n",
            " [1.000e+00 6.000e+00 2.250e+02 1.000e+02 3.430e+03 1.720e+01 7.800e+01\n",
            "  1.000e+00 0.000e+00 0.000e+00]\n",
            " [1.000e+00 4.000e+00 1.050e+02 7.000e+01 2.200e+03 1.320e+01 7.900e+01\n",
            "  1.000e+00 0.000e+00 0.000e+00]\n",
            " [1.000e+00 6.000e+00 2.000e+02 8.100e+01 3.012e+03 1.760e+01 7.600e+01\n",
            "  1.000e+00 0.000e+00 0.000e+00]\n",
            " [1.000e+00 4.000e+00 1.130e+02 9.500e+01 2.278e+03 1.550e+01 7.200e+01\n",
            "  0.000e+00 0.000e+00 1.000e+00]\n",
            " [1.000e+00 8.000e+00 4.550e+02 2.250e+02 4.425e+03 1.000e+01 7.000e+01\n",
            "  1.000e+00 0.000e+00 0.000e+00]\n",
            " [1.000e+00 8.000e+00 2.600e+02 9.000e+01 3.420e+03 2.220e+01 7.900e+01\n",
            "  1.000e+00 0.000e+00 0.000e+00]\n",
            " [1.000e+00 4.000e+00 1.190e+02 9.700e+01 2.545e+03 1.700e+01 7.500e+01\n",
            "  0.000e+00 0.000e+00 1.000e+00]\n",
            " [1.000e+00 4.000e+00 1.190e+02 1.000e+02 2.615e+03 1.480e+01 8.100e+01\n",
            "  0.000e+00 0.000e+00 1.000e+00]\n",
            " [1.000e+00 4.000e+00 8.500e+01 6.500e+01 2.020e+03 1.920e+01 7.900e+01\n",
            "  0.000e+00 0.000e+00 1.000e+00]]\n"
          ],
          "name": "stdout"
        }
      ]
    },
    {
      "cell_type": "code",
      "metadata": {
        "id": "nIZxN7qdYfsN",
        "colab_type": "code",
        "outputId": "46ce536a-b119-4a27-d201-b63cdec452ab",
        "colab": {
          "base_uri": "https://localhost:8080/",
          "height": 1000
        }
      },
      "source": [
        "import statsmodels.api as sm\n",
        "from pandas import DataFrame\n",
        "Stock_Market = {'Year': [2017,2017,2017,2017,2017,2017,2017,2017,2017,2017,2017,2017,2016,2016,2016,2016,2016,2016,2016,2016,2016,2016,2016,2016],\n",
        "                'Month': [12, 11,10,9,8,7,6,5,4,3,2,1,12,11,10,9,8,7,6,5,4,3,2,1],\n",
        "                'Interest_Rate': [2.75,2.5,2.5,2.5,2.5,2.5,2.5,2.25,2.25,2.25,2,2,2,1.75,1.75,1.75,1.75,1.75,1.75,1.75,1.75,1.75,1.75,1.75],\n",
        "                'Unemployment_Rate': [5.3,5.3,5.3,5.3,5.4,5.6,5.5,5.5,5.5,5.6,5.7,5.9,6,5.9,5.8,6.1,6.2,6.1,6.1,6.1,5.9,6.2,6.2,6.1],\n",
        "                'Stock_Index_Price': [1464,1394,1357,1293,1256,1254,1234,1195,1159,1167,1130,1075,1047,965,943,958,971,949,884,866,876,822,704,719]        \n",
        "                }\n",
        "\n",
        "df = DataFrame(Stock_Market,columns=['Year','Month','Interest_Rate','Unemployment_Rate','Stock_Index_Price']) \n",
        "\n",
        "X = df[['Interest_Rate','Unemployment_Rate']] # here we have 2 variables for the multiple linear regression. If you just want to use one variable for simple linear regression, then use X = df['Interest_Rate'] for example\n",
        "Y = df['Stock_Index_Price']\n",
        "print(type(X))\n",
        "print(X)\n",
        "print(Y)\n",
        "print(type(Y))\n",
        "X = sm.add_constant(X) # adding a constant\n",
        "\n",
        "model = sm.OLS(Y, X).fit()\n",
        "print_model = model.summary()\n",
        "print(print_model)\n",
        "\n",
        "\n",
        "predictions = model.predict(X) \n"
      ],
      "execution_count": 0,
      "outputs": [
        {
          "output_type": "stream",
          "text": [
            "<class 'pandas.core.frame.DataFrame'>\n",
            "    Interest_Rate  Unemployment_Rate\n",
            "0            2.75                5.3\n",
            "1            2.50                5.3\n",
            "2            2.50                5.3\n",
            "3            2.50                5.3\n",
            "4            2.50                5.4\n",
            "5            2.50                5.6\n",
            "6            2.50                5.5\n",
            "7            2.25                5.5\n",
            "8            2.25                5.5\n",
            "9            2.25                5.6\n",
            "10           2.00                5.7\n",
            "11           2.00                5.9\n",
            "12           2.00                6.0\n",
            "13           1.75                5.9\n",
            "14           1.75                5.8\n",
            "15           1.75                6.1\n",
            "16           1.75                6.2\n",
            "17           1.75                6.1\n",
            "18           1.75                6.1\n",
            "19           1.75                6.1\n",
            "20           1.75                5.9\n",
            "21           1.75                6.2\n",
            "22           1.75                6.2\n",
            "23           1.75                6.1\n",
            "0     1464\n",
            "1     1394\n",
            "2     1357\n",
            "3     1293\n",
            "4     1256\n",
            "5     1254\n",
            "6     1234\n",
            "7     1195\n",
            "8     1159\n",
            "9     1167\n",
            "10    1130\n",
            "11    1075\n",
            "12    1047\n",
            "13     965\n",
            "14     943\n",
            "15     958\n",
            "16     971\n",
            "17     949\n",
            "18     884\n",
            "19     866\n",
            "20     876\n",
            "21     822\n",
            "22     704\n",
            "23     719\n",
            "Name: Stock_Index_Price, dtype: int64\n",
            "<class 'pandas.core.series.Series'>\n",
            "                            OLS Regression Results                            \n",
            "==============================================================================\n",
            "Dep. Variable:      Stock_Index_Price   R-squared:                       0.898\n",
            "Model:                            OLS   Adj. R-squared:                  0.888\n",
            "Method:                 Least Squares   F-statistic:                     92.07\n",
            "Date:                Sun, 01 Mar 2020   Prob (F-statistic):           4.04e-11\n",
            "Time:                        13:57:13   Log-Likelihood:                -134.61\n",
            "No. Observations:                  24   AIC:                             275.2\n",
            "Df Residuals:                      21   BIC:                             278.8\n",
            "Df Model:                           2                                         \n",
            "Covariance Type:            nonrobust                                         \n",
            "=====================================================================================\n",
            "                        coef    std err          t      P>|t|      [0.025      0.975]\n",
            "-------------------------------------------------------------------------------------\n",
            "const              1798.4040    899.248      2.000      0.059     -71.685    3668.493\n",
            "Interest_Rate       345.5401    111.367      3.103      0.005     113.940     577.140\n",
            "Unemployment_Rate  -250.1466    117.950     -2.121      0.046    -495.437      -4.856\n",
            "==============================================================================\n",
            "Omnibus:                        2.691   Durbin-Watson:                   0.530\n",
            "Prob(Omnibus):                  0.260   Jarque-Bera (JB):                1.551\n",
            "Skew:                          -0.612   Prob(JB):                        0.461\n",
            "Kurtosis:                       3.226   Cond. No.                         394.\n",
            "==============================================================================\n",
            "\n",
            "Warnings:\n",
            "[1] Standard Errors assume that the covariance matrix of the errors is correctly specified.\n"
          ],
          "name": "stdout"
        },
        {
          "output_type": "stream",
          "text": [
            "/usr/local/lib/python3.6/dist-packages/numpy/core/fromnumeric.py:2495: FutureWarning: Method .ptp is deprecated and will be removed in a future version. Use numpy.ptp instead.\n",
            "  return ptp(axis=axis, out=out, **kwargs)\n"
          ],
          "name": "stderr"
        }
      ]
    },
    {
      "cell_type": "code",
      "metadata": {
        "id": "Ohx4IpNuj4qs",
        "colab_type": "code",
        "outputId": "f1fd10a0-c446-4db2-a0e1-83b1d3e4a183",
        "colab": {
          "base_uri": "https://localhost:8080/",
          "height": 68
        }
      },
      "source": [
        "import numpy as np\n",
        "import statsmodels.api as sm\n",
        "from sklearn.linear_model import LinearRegression\n",
        "\n",
        "# Generate artificial data (2 regressors + constant)\n",
        "nobs = 10000 \n",
        "X0 = np.random.random((nobs, 2)) \n",
        "X = sm.add_constant(X0)\n",
        "beta = [1, .1, .5] \n",
        "e = np.random.random(nobs)\n",
        "y = np.dot(X, beta) + e \n",
        "\n",
        "# Fit regression model\n",
        "print(sm.OLS(y, X).fit().params)\n",
        "\n",
        "print(LinearRegression(fit_intercept=True).fit(X0, y).coef_)\n",
        "\n",
        "print(LinearRegression(fit_intercept=False).fit(X, y).coef_)"
      ],
      "execution_count": 0,
      "outputs": [
        {
          "output_type": "stream",
          "text": [
            "[1.5050252  0.08950759 0.50637601]\n",
            "[0.08950759 0.50637601]\n",
            "[1.5050252  0.08950759 0.50637601]\n"
          ],
          "name": "stdout"
        }
      ]
    },
    {
      "cell_type": "code",
      "metadata": {
        "id": "LXEvPdRSw4_-",
        "colab_type": "code",
        "outputId": "993f34b6-e75e-4d59-85d0-6eb594318fe6",
        "colab": {
          "base_uri": "https://localhost:8080/",
          "height": 629
        }
      },
      "source": [
        "from pandas import DataFrame\n",
        "import statsmodels.api as sm\n",
        "\n",
        "Stock_Market = {'Year': [2017,2017,2017,2017,2017,2017,2017,2017,2017,2017,2017,2017,2016,2016,2016,2016,2016,2016,2016,2016,2016,2016,2016,2016],\n",
        "                'Month': [12, 11,10,9,8,7,6,5,4,3,2,1,12,11,10,9,8,7,6,5,4,3,2,1],\n",
        "                'Interest_Rate': [2.75,2.5,2.5,2.5,2.5,2.5,2.5,2.25,2.25,2.25,2,2,2,1.75,1.75,1.75,1.75,1.75,1.75,1.75,1.75,1.75,1.75,1.75],\n",
        "                'Unemployment_Rate': [5.3,5.3,5.3,5.3,5.4,5.6,5.5,5.5,5.5,5.6,5.7,5.9,6,5.9,5.8,6.1,6.2,6.1,6.1,6.1,5.9,6.2,6.2,6.1],\n",
        "                'Stock_Index_Price': [1464,1394,1357,1293,1256,1254,1234,1195,1159,1167,1130,1075,1047,965,943,958,971,949,884,866,876,822,704,719] ,\n",
        "                'F1':                [1   , 1  , 0,   1  , 0,  1 ,   0   , 1, 0 , 1 , 1,      1  , 1  , 0, 1  , 0, 0,   0, 0   , 0, 0,  1,  1  , 1] ,\n",
        "                'F2':                [0   , 0  , 1,   0  , 0,  0 ,   0   , 0, 0 , 0 , 0,      0  , 0  , 0, 0  , 0, 0,   0, 0   , 1, 1,  0,  0  , 0]   \n",
        "                }\n",
        "\n",
        "df = DataFrame(Stock_Market,columns=['Year','Month','Interest_Rate','Unemployment_Rate','Stock_Index_Price', \"F1\", \"F2\"]) \n",
        "\n",
        "X = df[['Interest_Rate','Unemployment_Rate', \"F1\", \"F2\"]] # here we have 2 variables for the multiple linear regression. If you just want to use one variable for simple linear regression, then use X = df['Interest_Rate'] for example\n",
        "Y = df['Stock_Index_Price']\n",
        "\n",
        "X = sm.add_constant(X) # adding a constant\n",
        "\n",
        "model = sm.OLS(Y, X).fit()\n",
        "predictions = model.predict(X) \n",
        "\n",
        "print_model = model.summary()\n",
        "print(print_model)\n",
        "\n",
        "lin_model = LinearRegression(normalize=False, fit_intercept=True)\n",
        "lin_model.fit( df[['Interest_Rate','Unemployment_Rate', \"F1\", \"F2\"]], Y )\n",
        "print(\"\\n\", lin_model.coef_, \"\\n\")\n",
        "\n",
        "lin_model = LinearRegression(normalize=True, fit_intercept=False)\n",
        "lin_model.fit( X, Y )\n",
        "print(\"\\n\", lin_model.coef_, \"\\n\")\n",
        "\n"
      ],
      "execution_count": 0,
      "outputs": [
        {
          "output_type": "stream",
          "text": [
            "                            OLS Regression Results                            \n",
            "==============================================================================\n",
            "Dep. Variable:      Stock_Index_Price   R-squared:                       0.903\n",
            "Model:                            OLS   Adj. R-squared:                  0.883\n",
            "Method:                 Least Squares   F-statistic:                     44.19\n",
            "Date:                Mon, 02 Mar 2020   Prob (F-statistic):           2.28e-09\n",
            "Time:                        01:30:25   Log-Likelihood:                -133.97\n",
            "No. Observations:                  24   AIC:                             277.9\n",
            "Df Residuals:                      19   BIC:                             283.8\n",
            "Df Model:                           4                                         \n",
            "Covariance Type:            nonrobust                                         \n",
            "=====================================================================================\n",
            "                        coef    std err          t      P>|t|      [0.025      0.975]\n",
            "-------------------------------------------------------------------------------------\n",
            "const              1887.0090    947.344      1.992      0.061     -95.806    3869.824\n",
            "Interest_Rate       342.4944    117.596      2.912      0.009      96.362     588.626\n",
            "Unemployment_Rate  -260.6834    123.891     -2.104      0.049    -519.989      -1.378\n",
            "F1                  -31.3403     32.994     -0.950      0.354    -100.399      37.718\n",
            "F2                  -35.7236     49.982     -0.715      0.483    -140.336      68.889\n",
            "==============================================================================\n",
            "Omnibus:                        2.023   Durbin-Watson:                   0.731\n",
            "Prob(Omnibus):                  0.364   Jarque-Bera (JB):                1.581\n",
            "Skew:                          -0.612   Prob(JB):                        0.454\n",
            "Kurtosis:                       2.710   Cond. No.                         407.\n",
            "==============================================================================\n",
            "\n",
            "Warnings:\n",
            "[1] Standard Errors assume that the covariance matrix of the errors is correctly specified.\n",
            "\n",
            " [ 342.49440829 -260.68339236  -31.34034405  -35.72361603] \n",
            "\n",
            "\n",
            " [1887.00902873  342.49440829 -260.68339236  -31.34034405  -35.72361603] \n",
            "\n"
          ],
          "name": "stdout"
        },
        {
          "output_type": "stream",
          "text": [
            "/usr/local/lib/python3.6/dist-packages/numpy/core/fromnumeric.py:2495: FutureWarning: Method .ptp is deprecated and will be removed in a future version. Use numpy.ptp instead.\n",
            "  return ptp(axis=axis, out=out, **kwargs)\n"
          ],
          "name": "stderr"
        }
      ]
    }
  ]
}