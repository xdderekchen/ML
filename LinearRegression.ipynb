{
  "nbformat": 4,
  "nbformat_minor": 0,
  "metadata": {
    "colab": {
      "name": "LinearRegression.ipynb",
      "provenance": [],
      "toc_visible": true,
      "authorship_tag": "ABX9TyNibv3OWvGM8R15/QYhBjt/",
      "include_colab_link": true
    },
    "kernelspec": {
      "name": "python3",
      "display_name": "Python 3"
    }
  },
  "cells": [
    {
      "cell_type": "markdown",
      "metadata": {
        "id": "view-in-github",
        "colab_type": "text"
      },
      "source": [
        "<a href=\"https://colab.research.google.com/github/xdderekchen/ML/blob/master/LinearRegression.ipynb\" target=\"_parent\"><img src=\"https://colab.research.google.com/assets/colab-badge.svg\" alt=\"Open In Colab\"/></a>"
      ]
    },
    {
      "cell_type": "markdown",
      "metadata": {
        "id": "PcC1-crA-3J-",
        "colab_type": "text"
      },
      "source": [
        "# Linear Regression\n",
        "\n",
        "Linear Regression is a simple and very common regression method. In this post, we try to grab the popular python packages and verify whether they can produce same results.\n",
        "\n",
        "The following methods are used\n",
        " * sklearn Linear Regressor\n",
        " * Statmodels (https://www.statsmodels.org/stable/regression.html)\n",
        " * SPARK ML\n",
        " * TensorFlow\n",
        "   * Single-layer\n",
        "   * Multi-layers\n",
        "\n",
        "For the set of *boston house*, results from sklearn, statmodel, Spark ML matches exactly. Single-layer Neural Network is able to give very similar coefficients. Interesting, a \"randomly\" designed Multu-layers Neural Network is able to create a model with much better R2 score. "
      ]
    },
    {
      "cell_type": "markdown",
      "metadata": {
        "id": "dZlN7mX0Xr6O",
        "colab_type": "text"
      },
      "source": [
        "## DataSet Preparation (Boston Data)"
      ]
    },
    {
      "cell_type": "code",
      "metadata": {
        "id": "v-DoiajjA-Wc",
        "colab_type": "code",
        "colab": {}
      },
      "source": [
        "\n",
        "import matplotlib.pyplot as plt\n",
        "import pandas as pd\n",
        "import seaborn as sns\n",
        "import numpy as np\n",
        "from sklearn.model_selection import train_test_split\n",
        "from sklearn.linear_model import LinearRegression\n",
        "from sklearn.metrics import mean_squared_error,  r2_score\n",
        "from sklearn.datasets import load_boston\n",
        "boston = load_boston()\n",
        "df_x = pd.DataFrame(boston.data, columns = boston.feature_names)\n",
        "df_y = pd.DataFrame(boston.target)\n",
        "df_x.describe()\n",
        "\n",
        "#Split the data into 80% training and 20% testing data\n",
        "x_train, x_test, y_train, y_test = train_test_split(df_x, df_y, test_size=0.33, random_state=42)\n",
        "\n",
        "x_train_columns = list(x_train.columns)\n",
        "\n",
        "from sklearn.preprocessing import  StandardScaler\n",
        "scaler = StandardScaler( )\n",
        "x_train_np = scaler.fit_transform( x_train ) #fit and then transform\n",
        "x_test_np  = scaler.transform ( x_test )     #transform\n",
        "\n",
        "x_train = pd.DataFrame(x_train_np,  columns=x_train.columns)\n",
        "x_test  = pd.DataFrame(x_test_np,  columns=x_train.columns)\n",
        "\n",
        "# Some algorithm may prefer scaled data"
      ],
      "execution_count": 0,
      "outputs": []
    },
    {
      "cell_type": "markdown",
      "metadata": {
        "id": "mn-ru9AdOPF9",
        "colab_type": "text"
      },
      "source": [
        "### By LinearRegression from sklearn"
      ]
    },
    {
      "cell_type": "code",
      "metadata": {
        "id": "HPGpmyQ9OWaj",
        "colab_type": "code",
        "outputId": "185091ea-9fab-40fe-e168-85ac1382b901",
        "colab": {
          "base_uri": "https://localhost:8080/",
          "height": 1000
        }
      },
      "source": [
        "\n",
        "#Initialize the linear regression model\n",
        "lin_model = LinearRegression()\n",
        "lin_model.fit(x_train, y_train)\n",
        "\n",
        "#Print the coefecients/weights for each feature/column of our model\n",
        "coefDataFrame = pd.DataFrame( zip( [\"intecept\"] +  x_train_columns, \n",
        "                                   list(lin_model.intercept_) + list(lin_model.coef_.flatten())),\n",
        "                              columns=['feature', 'coef'])\n",
        "\n",
        "print(\"regression cooefficients:\\n\")\n",
        "print(coefDataFrame)\n",
        "\n",
        "def linear_Reg_report(dataset_type, predict_Y, actual_Y):\n",
        "    rmse = (np.sqrt(mean_squared_error(actual_Y, predict_Y)))\n",
        "    r2 = r2_score(actual_Y, predict_Y)\n",
        "\n",
        "    print(\"\\nThe model performance for \",  dataset_type, \" set\")\n",
        "    print(\"--------------------------------------\")\n",
        "    print('RMSE is {}'.format(rmse))\n",
        "    print('R2 score is {}'.format(r2))\n",
        "\n",
        "\n",
        "y_train_predict = lin_model.predict(x_train)\n",
        "y_test_predict =  lin_model.predict(x_test)\n",
        "\n",
        "linear_Reg_report(\"training\", y_train_predict, y_train)\n",
        "linear_Reg_report(\"testing\",  y_test_predict, y_test)\n",
        "\n",
        "plt.figure(figsize=(15, 15))\n",
        "\n",
        "plt.subplot(4, 1, 1)\n",
        "plt.scatter( y_train, y_train_predict, s=5 )\n",
        "plt.xlabel( \"Prices\")\n",
        "plt.ylabel( \"Predicted Prices\")\n",
        "plt.title( \"(train) Real vs Predicted Housing Prices\")\n",
        "\n",
        "plt.subplot(4, 1, 2)\n",
        "plt.scatter( y_train_predict, y_train_predict - y_train,\n",
        "c ='b', s=30, alpha=0.4 )\n",
        "plt.hlines( y=0, xmin=-5, xmax=55)\n",
        "plt.title( \"Residuals\" )\n",
        "plt.ylabel( \"(train) Residuals\" )\n",
        "\n",
        "plt.subplot(4, 1, 3)\n",
        "plt.scatter( y_test, y_test_predict, s=5 )\n",
        "plt.xlabel( \"Prices\")\n",
        "plt.ylabel( \"Predicted Prices\")\n",
        "plt.title( \"(test) Real vs Predicted Housing Prices\")\n",
        "\n",
        "plt.subplot(4, 1, 4)\n",
        "plt.scatter( y_test_predict, y_test_predict - y_test,\n",
        "c ='b', s=30, alpha=0.4 )\n",
        "plt.hlines( y=0, xmin=-5, xmax=55)\n",
        "plt.title( \"Residuals\" )\n",
        "plt.ylabel( \"(test) Residuals\" )\n",
        "plt.show()\n",
        "\n",
        "\n",
        "plt.show()"
      ],
      "execution_count": 11,
      "outputs": [
        {
          "output_type": "stream",
          "text": [
            "regression cooefficients:\n",
            "\n",
            "     feature       coef\n",
            "0   intecept  22.970796\n",
            "1       CRIM  -0.988580\n",
            "2         ZN   0.867933\n",
            "3      INDUS   0.405028\n",
            "4       CHAS   0.861838\n",
            "5        NOX  -1.900100\n",
            "6         RM   2.808135\n",
            "7        AGE  -0.358669\n",
            "8        DIS  -3.045535\n",
            "9        RAD   2.032761\n",
            "10       TAX  -1.364009\n",
            "11   PTRATIO  -2.082536\n",
            "12         B   1.041257\n",
            "13     LSTAT  -3.926286\n",
            "\n",
            "The model performance for  training  set\n",
            "--------------------------------------\n",
            "RMSE is 4.794269062151269\n",
            "R2 score is 0.7392344370995025\n",
            "\n",
            "The model performance for  testing  set\n",
            "--------------------------------------\n",
            "RMSE is 4.552364598463061\n",
            "R2 score is 0.7261570836552478\n"
          ],
          "name": "stdout"
        },
        {
          "output_type": "display_data",
          "data": {
            "image/png": "[encoded data removed]",
            "text/plain": [
              "<Figure size 1080x1080 with 4 Axes>"
            ]
          },
          "metadata": {
            "tags": []
          }
        }
      ]
    },
    {
      "cell_type": "markdown",
      "metadata": {
        "id": "1nsxYtZFO2x5",
        "colab_type": "text"
      },
      "source": [
        "### By Statmodels"
      ]
    },
    {
      "cell_type": "code",
      "metadata": {
        "id": "dsX6ZpyuPGHJ",
        "colab_type": "code",
        "outputId": "c872cfdf-9ebb-4cc3-8f6a-c9c7d64968c0",
        "colab": {
          "base_uri": "https://localhost:8080/",
          "height": 955
        }
      },
      "source": [
        "\n",
        "import statsmodels.api as sm\n",
        "import pandas as pd\n",
        "from patsy import dmatrices\n",
        "\n",
        "X = sm.add_constant(x_train) # adding a constant\n",
        "\n",
        "sm_model = sm.OLS(y_train.values, X).fit()\n",
        "sm_model_summary = sm_model.summary()\n",
        "print(sm_model_summary)\n",
        "\n",
        "sm_params = pd.DataFrame(\n",
        "     {\"feature\": [\"intecept\"] +  x_train_columns, \n",
        "       \"coef\"  : sm_model.params.values\n",
        "     },\n",
        "     columns=['feature', 'coef'])\n",
        "\n",
        "    \n",
        "print(sm_params)"
      ],
      "execution_count": 9,
      "outputs": [
        {
          "output_type": "stream",
          "text": [
            "                            OLS Regression Results                            \n",
            "==============================================================================\n",
            "Dep. Variable:                      y   R-squared:                       0.739\n",
            "Model:                            OLS   Adj. R-squared:                  0.729\n",
            "Method:                 Least Squares   F-statistic:                     70.87\n",
            "Date:                Thu, 05 Mar 2020   Prob (F-statistic):           1.49e-86\n",
            "Time:                        03:02:42   Log-Likelihood:                -1012.4\n",
            "No. Observations:                 339   AIC:                             2053.\n",
            "Df Residuals:                     325   BIC:                             2106.\n",
            "Df Model:                          13                                         \n",
            "Covariance Type:            nonrobust                                         \n",
            "==============================================================================\n",
            "                 coef    std err          t      P>|t|      [0.025      0.975]\n",
            "------------------------------------------------------------------------------\n",
            "const         22.9708      0.266     86.376      0.000      22.448      23.494\n",
            "CRIM          -0.9886      0.358     -2.758      0.006      -1.694      -0.283\n",
            "ZN             0.8679      0.414      2.095      0.037       0.053       1.683\n",
            "INDUS          0.4050      0.520      0.779      0.437      -0.618       1.428\n",
            "CHAS           0.8618      0.280      3.080      0.002       0.311       1.412\n",
            "NOX           -1.9001      0.576     -3.296      0.001      -3.034      -0.766\n",
            "RM             2.8081      0.369      7.619      0.000       2.083       3.533\n",
            "AGE           -0.3587      0.463     -0.775      0.439      -1.269       0.552\n",
            "DIS           -3.0455      0.535     -5.695      0.000      -4.098      -1.994\n",
            "RAD            2.0328      0.730      2.783      0.006       0.596       3.469\n",
            "TAX           -1.3640      0.783     -1.741      0.083      -2.905       0.177\n",
            "PTRATIO       -2.0825      0.358     -5.816      0.000      -2.787      -1.378\n",
            "B              1.0413      0.301      3.465      0.001       0.450       1.633\n",
            "LSTAT         -3.9263      0.436     -9.008      0.000      -4.784      -3.069\n",
            "==============================================================================\n",
            "Omnibus:                      112.102   Durbin-Watson:                   2.082\n",
            "Prob(Omnibus):                  0.000   Jarque-Bera (JB):              427.768\n",
            "Skew:                           1.404   Prob(JB):                     1.29e-93\n",
            "Kurtosis:                       7.733   Cond. No.                         9.67\n",
            "==============================================================================\n",
            "\n",
            "Warnings:\n",
            "[1] Standard Errors assume that the covariance matrix of the errors is correctly specified.\n",
            "     feature       coef\n",
            "0   intecept  22.970796\n",
            "1       CRIM  -0.988580\n",
            "2         ZN   0.867933\n",
            "3      INDUS   0.405028\n",
            "4       CHAS   0.861838\n",
            "5        NOX  -1.900100\n",
            "6         RM   2.808135\n",
            "7        AGE  -0.358669\n",
            "8        DIS  -3.045535\n",
            "9        RAD   2.032761\n",
            "10       TAX  -1.364009\n",
            "11   PTRATIO  -2.082536\n",
            "12         B   1.041257\n",
            "13     LSTAT  -3.926286\n"
          ],
          "name": "stdout"
        },
        {
          "output_type": "stream",
          "text": [
            "/usr/local/lib/python3.6/dist-packages/numpy/core/fromnumeric.py:2495: FutureWarning: Method .ptp is deprecated and will be removed in a future version. Use numpy.ptp instead.\n",
            "  return ptp(axis=axis, out=out, **kwargs)\n"
          ],
          "name": "stderr"
        }
      ]
    },
    {
      "cell_type": "markdown",
      "metadata": {
        "id": "3-6CO-W0TdP4",
        "colab_type": "text"
      },
      "source": [
        "### By Spark ML"
      ]
    },
    {
      "cell_type": "markdown",
      "metadata": {
        "id": "ugskmo1jVU0D",
        "colab_type": "text"
      },
      "source": [
        "install pyspark library"
      ]
    },
    {
      "cell_type": "code",
      "metadata": {
        "id": "zpS6r88dTloM",
        "colab_type": "code",
        "colab": {}
      },
      "source": [
        "!apt-get install openjdk-8-jdk-headless -qq > /dev/null\n",
        "!wget -q https://www-us.apache.org/dist/spark/spark-2.4.5/spark-2.4.5-bin-hadoop2.7.tgz\n",
        "!tar xf spark-2.4.5-bin-hadoop2.7.tgz\n",
        "\n",
        "#package to add PySpark to sys.path at runtime\n",
        "!pip install -q findspark\n",
        "\n",
        "import os\n",
        "os.environ[\"JAVA_HOME\"] = \"/usr/lib/jvm/java-8-openjdk-amd64\"\n",
        "os.environ[\"SPARK_HOME\"] = \"/content/spark-2.4.5-bin-hadoop2.7\"\n",
        "import findspark\n",
        "findspark.init() "
      ],
      "execution_count": 0,
      "outputs": []
    },
    {
      "cell_type": "code",
      "metadata": {
        "id": "WHWnN3TeVguQ",
        "colab_type": "code",
        "outputId": "17f1415c-1dd4-45e9-f506-e740125f4699",
        "colab": {
          "base_uri": "https://localhost:8080/",
          "height": 411
        }
      },
      "source": [
        "import numpy as np\n",
        "import pandas as pd\n",
        "\n",
        "from pyspark.sql import SparkSession\n",
        "from pyspark.context import SparkContext\n",
        "\n",
        "globs = globals()\n",
        "spark = SparkSession.builder.enableHiveSupport().getOrCreate()\n",
        "sc = spark.sparkContext\n",
        "\n",
        "#import data from previuos session, x_train, x_test, y_train, y_test\n",
        "xx_train =  x_train.copy()\n",
        "xx_train[\"Y\"] = y_train.values\n",
        "xx_test =  x_test.copy()\n",
        "xx_test[\"Y\"] = y_test.values\n",
        "\n",
        "x_train_sp = spark.createDataFrame(xx_train)\n",
        "x_test_sp  = spark.createDataFrame(xx_test)\n",
        "\n",
        "##### INPUT FOR SPARK\n",
        "# Spark ML’s algorithms expect the data to be represented in two columns: Features and Labels. \n",
        "# 1. Features is an array of data points of all the features to be used for prediction. \n",
        "# 2. Labels contain the output label for each data point.\n",
        "\n",
        "# To create a features array, import the VectorAssembler class and pass in a list of the feature column names.\n",
        "from pyspark.ml.feature import VectorAssembler\n",
        "feature_columns = x_train_sp.columns[:-1]   # do not include \"Y\" column (which is the last one)\n",
        "assembler = VectorAssembler(inputCols=feature_columns,outputCol=\"features\")\n",
        "x_train_sp = assembler.transform(x_train_sp)\n",
        "#x_train_sp[\"label\"] = y_train.values\n",
        "print(x_train_sp.show(5))\n",
        "\n",
        "from pyspark.ml.regression import LinearRegression\n",
        "# Defining the algorithm variable. We need to specify the name of the features column and the labels column.\n",
        "algorithm = LinearRegression(featuresCol=\"features\", labelCol=\"Y\")\n",
        "\n",
        "model_spark = algorithm.fit(x_train_sp)\n",
        "\n",
        "print(\"Intercept\", model_spark.intercept, \"\\n\",\n",
        "      \"Coefficient: \", model_spark.coefficients)\n",
        "\n",
        "\n",
        "# Evaluating Model Performance\n",
        "x_test_sp = assembler.transform(x_test_sp)\n",
        "\n",
        "evaluation_summary = model_spark.evaluate(x_train_sp)\n",
        "print(\"TRAINING ------------------------------------\")\n",
        "print(\"MAE: \", evaluation_summary.meanAbsoluteError)\n",
        "print(\"RMSE: \", evaluation_summary.rootMeanSquaredError)\n",
        "print(\"R2: \", evaluation_summary.r2)\n",
        "\n",
        "evaluation_summary = model_spark.evaluate(x_test_sp)\n",
        "print(\"TESTING -------------------------------------\")\n",
        "print(\"MAE: \", evaluation_summary.meanAbsoluteError)\n",
        "print(\"RMSE: \", evaluation_summary.rootMeanSquaredError)\n",
        "print(\"R2: \", evaluation_summary.r2)\n"
      ],
      "execution_count": 0,
      "outputs": [
        {
          "output_type": "stream",
          "text": [
            "+--------------------+-------------------+--------------------+--------------------+--------------------+--------------------+------------------+-------------------+-------------------+--------------------+-------------------+-------------------+--------------------+----+--------------------+\n",
            "|                CRIM|                 ZN|               INDUS|                CHAS|                 NOX|                  RM|               AGE|                DIS|                RAD|                 TAX|            PTRATIO|                  B|               LSTAT|   Y|            features|\n",
            "+--------------------+-------------------+--------------------+--------------------+--------------------+--------------------+------------------+-------------------+-------------------+--------------------+-------------------+-------------------+--------------------+----+--------------------+\n",
            "|  0.8962487154968979|-0.5106013881354163|   0.982782232206114|-0.28821362329313566| 0.48083147770775053|-0.19776733724330933|0.9946124120725424|-0.7434277927825337| 1.6771241278934885|  1.5467146504250504| 0.8644209498292015|0.24040357277058022|  0.7715561198981713|14.6|[0.89624871549689...|\n",
            "| -0.3489588065379264|-0.5106013881354163|-0.44867555493697053|-0.28821362329313566| -0.1659270500126779| -0.7146808541782974|0.7653059821708794| 0.4294092752223137|-0.6335650789989828| -0.6149877275737442| 1.2211869848218575|0.20852839229321582| 0.32248962526295955|16.6|[-0.3489588065379...|\n",
            "| -0.4176405822371703|0.03413007768125707| -0.4874801335041024|-0.28821362329313566| -0.2850667788032833| -0.2158315192867362|0.9731149342692612|  1.021781889502285|-0.5180306186543593| -0.5909019072060696|-1.3653667688748958|0.43481956717152664|  0.9277531615104185|27.1|[-0.4176405822371...|\n",
            "| -0.4219683572039594|-0.5106013881354163|   2.368249407714079|-0.28821362329313566|  0.4382815745682486|-0.47845693514886745|0.5216679004003629| -0.771727186101703|-0.6335650789989828|  1.8176801295613896| 0.8198251954551206|0.43481956717152664|   0.118875624589851|20.1|[-0.4219683572039...|\n",
            "|-0.41979339957695444|-0.5106013881354163|-0.38831287716587665|-0.28821362329313566|-0.31910670131488483|  0.2038133251067227| 1.008944063941396|-0.6208904857371537|-0.5180306186543593|-0.15133568549600834| 1.1765912304477748|  0.416056163060738|-0.03174295125053...|19.8|[-0.4197933995769...|\n",
            "+--------------------+-------------------+--------------------+--------------------+--------------------+--------------------+------------------+-------------------+-------------------+--------------------+-------------------+-------------------+--------------------+----+--------------------+\n",
            "only showing top 5 rows\n",
            "\n",
            "None\n",
            "Intercept 22.970796460177 \n",
            " Coefficient:  [-0.9885803155766775,0.8679327618776823,0.40502821790682686,0.8618379050539515,-1.9000997383419629,2.8081351797331386,-0.3586685648180362,-3.045534981338698,2.032760738309303,-1.364009088301617,-2.082535595854037,1.0412568389836239,-3.926286262705093]\n",
            "TRAINING ------------------------------------\n",
            "MAE:  3.3764189163531326\n",
            "RMSE:  4.794269062151269\n",
            "R2:  0.7392344370995025\n",
            "TESTING -------------------------------------\n",
            "MAE:  3.148255754816835\n",
            "RMSE:  4.552364598463066\n",
            "R2:  0.7261570836552471\n"
          ],
          "name": "stdout"
        }
      ]
    },
    {
      "cell_type": "markdown",
      "metadata": {
        "id": "XB7z68KuTbXS",
        "colab_type": "text"
      },
      "source": [
        "### Using Tensorflow\n",
        "\n",
        "#### Single layer network. \n",
        "This one should be in theory same as the linear regression.\n",
        "\n",
        "However since we need to specify the learning rate and epoch, we can only get the coefficients very close to the coefficients from the above methods."
      ]
    },
    {
      "cell_type": "code",
      "metadata": {
        "id": "O3_8eGOl_ze2",
        "colab_type": "code",
        "outputId": "630f35a2-b577-486c-851b-06e7c1f3df58",
        "colab": {
          "base_uri": "https://localhost:8080/",
          "height": 1000
        }
      },
      "source": [
        "from __future__ import absolute_import, division, print_function, unicode_literals\n",
        "\n",
        "import pathlib\n",
        "import matplotlib.pyplot as plt\n",
        "import pandas as pd\n",
        "import seaborn as sns\n",
        "import numpy as np\n",
        "\n",
        "try:\n",
        "  %tensorflow_version 2.x\n",
        "except Exception:\n",
        "  pass\n",
        "import tensorflow as tf\n",
        "print(tf.__version__)\n",
        "from tensorflow import keras\n",
        "from tensorflow.keras import layers\n",
        "                                                     \n",
        "from tensorflow.keras import Sequential\n",
        "from tensorflow.keras.layers import Dense\n",
        "\n",
        "class PrintDot(keras.callbacks.Callback):\n",
        "  def on_epoch_end(self, epoch, logs):\n",
        "    if epoch % 1000 == 0: print('')\n",
        "    if epoch % 100 == 0: print(\".\", end='')\n",
        "\n",
        "early_stop = keras.callbacks.EarlyStopping(monitor='loss', patience=10)\n",
        "\n",
        "widthX = x_train.shape[1]\n",
        "#build our model\n",
        "model = Sequential([\n",
        "    Dense(1, input_shape=(widthX,), use_bias=True)\n",
        "   ])\n",
        "\n",
        "optimizer = tf.keras.optimizers.RMSprop(learning_rate=0.002) # Default value\n",
        "model.compile(optimizer=optimizer,loss='mse', metrics =['mae', 'mse'])\n",
        "\n",
        "# Train the model\n",
        "history = model.fit(\n",
        "    x_train,\n",
        "    y_train,\n",
        "    epochs=10000,\n",
        "    shuffle=False,\n",
        "    validation_split = 0.2,\n",
        "    verbose=0, callbacks=[early_stop, PrintDot()]\n",
        ")\n",
        "\n",
        "minepoch = np.argmin(history.history[\"loss\"])\n",
        "print(minepoch)\n",
        "\n",
        "def print_coeff():\n",
        "  print(\"\\nthe coefficient is as the following:\")\n",
        "  for trainable_variable in model.trainable_weights:\n",
        "    name = trainable_variable.name\n",
        "    values =  trainable_variable.read_value().numpy()\n",
        "    if (\"/bias:\" in name):\n",
        "      print(\"Bias: \", values)\n",
        "    else:\n",
        "      print(values)\n",
        "\n",
        "def plot_Tesor(history, ylabel):\n",
        "  import matplotlib.pyplot as plt\n",
        "  plt.clf()\n",
        "  for k in history.keys():\n",
        "    if k.endswith(ylabel):\n",
        "      plt.plot(history[k], label=k)\n",
        "  plt.title(ylabel)\n",
        "  plt.ylabel(ylabel)\n",
        "  plt.xlabel('Epoch')\n",
        "  plt.legend()\n",
        "  plt.show()\n",
        "\n",
        "plot_Tesor(history.history, \"loss\")\n",
        "plot_Tesor(history.history, \"mae\")\n",
        "plot_Tesor(history.history, \"mse\")\n",
        "\n",
        "def model_sum(model, X, Y, Title=\"Train\"):\n",
        "  score = model.evaluate(X, Y)\n",
        "  print(Title, \":evaluate score = \", score)\n",
        "\n",
        "model_sum(model, x_train, y_train, \"Train\")\n",
        "model_sum(model, x_test,  y_test,  \"Test\")\n",
        "\n",
        "y_train_predict = model.predict(x_train)\n",
        "y_test_predict =  model.predict(x_test)\n",
        "\n",
        "linear_Reg_report(\"training\", y_train_predict, y_train)\n",
        "linear_Reg_report(\"testing\",  y_test_predict, y_test)\n",
        "\n",
        "print_coeff()"
      ],
      "execution_count": 32,
      "outputs": [
        {
          "output_type": "stream",
          "text": [
            "2.1.0\n",
            "\n",
            "..........\n",
            "..........\n",
            "..........\n",
            "..........\n",
            "..........\n",
            "..........\n",
            "....6323\n"
          ],
          "name": "stdout"
        },
        {
          "output_type": "display_data",
          "data": {
            "image/png": "[encoded data removed]",
            "text/plain": [
              "<Figure size 432x288 with 1 Axes>"
            ]
          },
          "metadata": {
            "tags": []
          }
        },
        {
          "output_type": "display_data",
          "data": {
            "image/png": "[encoded data removed]",
            "text/plain": [
              "<Figure size 432x288 with 1 Axes>"
            ]
          },
          "metadata": {
            "tags": []
          }
        },
        {
          "output_type": "display_data",
          "data": {
            "image/png": "[encoded data removed]",
            "text/plain": [
              "<Figure size 432x288 with 1 Axes>"
            ]
          },
          "metadata": {
            "tags": []
          }
        },
        {
          "output_type": "stream",
          "text": [
            "339/339 [==============================] - 0s 43us/sample - loss: 23.2693 - mae: 3.3745 - mse: 23.2693\n",
            "Train :evaluate score =  [23.26926042899973, 3.3745215, 23.26926]\n",
            "167/167 [==============================] - 0s 60us/sample - loss: 21.9838 - mae: 3.2699 - mse: 21.9838\n",
            "Test :evaluate score =  [21.983775955474304, 3.269892, 21.983778]\n",
            "\n",
            "The model performance for  training  set\n",
            "--------------------------------------\n",
            "RMSE is 4.823822133373913\n",
            "R2 score is 0.7360096804949456\n",
            "\n",
            "The model performance for  testing  set\n",
            "--------------------------------------\n",
            "RMSE is 4.688685998302498\n",
            "R2 score is 0.7095109712987798\n",
            "\n",
            "the coefficient is as the following:\n",
            "[[-1.0209309 ]\n",
            " [ 0.87147653]\n",
            " [ 0.47828507]\n",
            " [ 0.7215416 ]\n",
            " [-1.6400989 ]\n",
            " [ 2.5242193 ]\n",
            " [-0.10171466]\n",
            " [-2.7003927 ]\n",
            " [ 1.691111  ]\n",
            " [-1.1543294 ]\n",
            " [-2.0122602 ]\n",
            " [ 1.1727936 ]\n",
            " [-4.508147  ]]\n",
            "Bias:  [22.928215]\n"
          ],
          "name": "stdout"
        }
      ]
    },
    {
      "cell_type": "markdown",
      "metadata": {
        "id": "5JfKBhsVCYPH",
        "colab_type": "text"
      },
      "source": [
        "#### Multi-layers\n",
        "\n",
        "This is fun part. As you can see, multi-layer can immediately improve the prediction power.\n",
        "\n",
        " * training  set: **R2 score is 0.9587141624082106**\n",
        " * testing  set: **R2 score is 0.8378409864369002**\n",
        "\n"
      ]
    },
    {
      "cell_type": "code",
      "metadata": {
        "id": "HbwIusAKDfF9",
        "colab_type": "code",
        "colab": {
          "base_uri": "https://localhost:8080/",
          "height": 1000
        },
        "outputId": "f4b8b95e-8040-49c2-98d5-9d2d51e02fa5"
      },
      "source": [
        "model = Sequential([\n",
        "    Dense(32, activation='relu', input_shape=(widthX,)),\n",
        "    Dense(16, activation='relu'),\n",
        "    Dense(1)\n",
        "   ])\n",
        "\n",
        "optimizer = tf.keras.optimizers.RMSprop(learning_rate=0.002) # Default value\n",
        "model.compile(optimizer=optimizer,loss='mse', metrics =['mae', 'mse'])\n",
        "\n",
        "early_stop = keras.callbacks.EarlyStopping(monitor='loss', patience=5)\n",
        "\n",
        "# Train the model\n",
        "history = model.fit(\n",
        "    x_train,\n",
        "    y_train,\n",
        "    epochs=10000,\n",
        "    shuffle=False,\n",
        "    validation_split = 0.2,\n",
        "    verbose=0, callbacks=[early_stop, PrintDot()]\n",
        ")\n",
        "\n",
        "plot_Tesor(history.history, \"loss\")\n",
        "plot_Tesor(history.history, \"mae\")\n",
        "plot_Tesor(history.history, \"mse\")\n",
        "\n",
        "model_sum(model, x_train, y_train, \"Train\")\n",
        "model_sum(model, x_test,  y_test,  \"Test\")\n",
        "\n",
        "y_train_predict = model.predict(x_train)\n",
        "y_test_predict =  model.predict(x_test)\n",
        "\n",
        "linear_Reg_report(\"training\", y_train_predict, y_train)\n",
        "linear_Reg_report(\"testing\",  y_test_predict, y_test)\n",
        "\n",
        "#print_coeff()"
      ],
      "execution_count": 34,
      "outputs": [
        {
          "output_type": "stream",
          "text": [
            "\n",
            "......"
          ],
          "name": "stdout"
        },
        {
          "output_type": "display_data",
          "data": {
            "image/png": "[encoded data removed]",
            "text/plain": [
              "<Figure size 432x288 with 1 Axes>"
            ]
          },
          "metadata": {
            "tags": []
          }
        },
        {
          "output_type": "display_data",
          "data": {
            "image/png": "[encoded data removed]",
            "text/plain": [
              "<Figure size 432x288 with 1 Axes>"
            ]
          },
          "metadata": {
            "tags": []
          }
        },
        {
          "output_type": "display_data",
          "data": {
            "image/png": "[encoded data removed]",
            "text/plain": [
              "<Figure size 432x288 with 1 Axes>"
            ]
          },
          "metadata": {
            "tags": []
          }
        },
        {
          "output_type": "stream",
          "text": [
            "339/339 [==============================] - 0s 50us/sample - loss: 4.3810 - mae: 1.3077 - mse: 4.3810\n",
            "Train :evaluate score =  [4.381045237403352, 1.3076994, 4.3810453]\n",
            "167/167 [==============================] - 0s 62us/sample - loss: 16.7311 - mae: 2.6930 - mse: 16.7311\n",
            "Test :evaluate score =  [16.73106581293894, 2.6930017, 16.731066]\n",
            "\n",
            "The model performance for  training  set\n",
            "--------------------------------------\n",
            "RMSE is 2.093094712766089\n",
            "R2 score is 0.9502969326739534\n",
            "\n",
            "The model performance for  testing  set\n",
            "--------------------------------------\n",
            "RMSE is 4.090362461866664\n",
            "R2 score is 0.7789192013788051\n"
          ],
          "name": "stdout"
        }
      ]
    },
    {
      "cell_type": "markdown",
      "metadata": {
        "id": "vzCqOfvd-1d3",
        "colab_type": "text"
      },
      "source": [
        "## DataSet Preparation (auto-mpq)\n",
        " using data from http://archive.ics.uci.edu/ml/machine-learning-databases/auto-mpg/auto-mpg.data"
      ]
    },
    {
      "cell_type": "code",
      "metadata": {
        "id": "SAensAkzSSHm",
        "colab_type": "code",
        "outputId": "135fb127-3839-4a56-ff9e-99cf1a108ae7",
        "colab": {
          "base_uri": "https://localhost:8080/",
          "height": 221
        }
      },
      "source": [
        "try:\n",
        "  %tensorflow_version 2.x\n",
        "except Exception:\n",
        "  pass\n",
        "import tensorflow as tf\n",
        "print(tf.__version__)\n",
        "from tensorflow import keras\n",
        "import pandas as pd\n",
        "from sklearn.model_selection import train_test_split\n",
        "\n",
        "dataset_path = keras.utils.get_file(\"auto-mpg.data2\", \"http://archive.ics.uci.edu/ml/machine-learning-databases/auto-mpg/auto-mpg.data\")\n",
        "column_names = [\"mpg\", \"cylinders\", \"displacement\", \"horsepower\", \"weight\", \"acceleration\", \"modelyear\", \"origin\"]\n",
        "\n",
        "raw_dataset = pd.read_csv(dataset_path, names=column_names, na_values=\"?\", comment=\"\\t\", sep=\" \", skipinitialspace=True)\n",
        "dataset = raw_dataset.dropna().copy()\n",
        "\n",
        "\n",
        "dataset = pd.get_dummies(dataset, prefix='origin', prefix_sep='_',  columns=['origin'])\n",
        "dataset.rename(columns = {'origin_1':'USA', 'origin_2': \"Europe\", \"origin_3\": \"Japan\"}, inplace = True) \n",
        "\n",
        "\n",
        "XNames = [x for x in dataset.columns if x != \"mpg\"]\n",
        "df_y = dataset[\"mpg\"]           #series\n",
        "df_x = dataset[XNames]\n",
        "\n",
        "#Split the data into 80% training and 20% testing data\n",
        "x_train, x_test, y_train, y_test = train_test_split(df_x, df_y, test_size=0.33, random_state=42)\n",
        "\n",
        "x_train_columns = list(x_train.columns)\n",
        "\n",
        "from sklearn.preprocessing import  StandardScaler\n",
        "scaler = StandardScaler( )\n",
        "x_train_np = scaler.fit_transform( x_train ) #fit and then transform\n",
        "x_test_np  = scaler.transform ( x_test )     #transform\n",
        "\n",
        "x_train = pd.DataFrame(x_train_np,  columns=x_train.columns)\n",
        "x_test  = pd.DataFrame(x_test_np,  columns=x_train.columns)\n",
        "\n",
        "x_train.head()\n"
      ],
      "execution_count": 13,
      "outputs": [
        {
          "output_type": "stream",
          "text": [
            "2.1.0\n"
          ],
          "name": "stdout"
        },
        {
          "output_type": "execute_result",
          "data": {
            "text/html": [
              "<div>\n",
              "<style scoped>\n",
              "    .dataframe tbody tr th:only-of-type {\n",
              "        vertical-align: middle;\n",
              "    }\n",
              "\n",
              "    .dataframe tbody tr th {\n",
              "        vertical-align: top;\n",
              "    }\n",
              "\n",
              "    .dataframe thead th {\n",
              "        text-align: right;\n",
              "    }\n",
              "</style>\n",
              "<table border=\"1\" class=\"dataframe\">\n",
              "  <thead>\n",
              "    <tr style=\"text-align: right;\">\n",
              "      <th></th>\n",
              "      <th>cylinders</th>\n",
              "      <th>displacement</th>\n",
              "      <th>horsepower</th>\n",
              "      <th>weight</th>\n",
              "      <th>acceleration</th>\n",
              "      <th>modelyear</th>\n",
              "      <th>USA</th>\n",
              "      <th>Europe</th>\n",
              "      <th>Japan</th>\n",
              "    </tr>\n",
              "  </thead>\n",
              "  <tbody>\n",
              "    <tr>\n",
              "      <th>0</th>\n",
              "      <td>-0.886314</td>\n",
              "      <td>-0.829643</td>\n",
              "      <td>-0.466844</td>\n",
              "      <td>-0.432967</td>\n",
              "      <td>1.094827</td>\n",
              "      <td>1.620831</td>\n",
              "      <td>0.735647</td>\n",
              "      <td>-0.411877</td>\n",
              "      <td>-0.509525</td>\n",
              "    </tr>\n",
              "    <tr>\n",
              "      <th>1</th>\n",
              "      <td>-0.886314</td>\n",
              "      <td>-0.877324</td>\n",
              "      <td>-0.518837</td>\n",
              "      <td>-0.641029</td>\n",
              "      <td>0.010943</td>\n",
              "      <td>-0.042319</td>\n",
              "      <td>-1.359348</td>\n",
              "      <td>2.427908</td>\n",
              "      <td>-0.509525</td>\n",
              "    </tr>\n",
              "    <tr>\n",
              "      <th>2</th>\n",
              "      <td>-0.886314</td>\n",
              "      <td>-0.743818</td>\n",
              "      <td>0.157070</td>\n",
              "      <td>-0.163433</td>\n",
              "      <td>0.010943</td>\n",
              "      <td>-0.873895</td>\n",
              "      <td>-1.359348</td>\n",
              "      <td>2.427908</td>\n",
              "      <td>-0.509525</td>\n",
              "    </tr>\n",
              "    <tr>\n",
              "      <th>3</th>\n",
              "      <td>-0.886314</td>\n",
              "      <td>-0.963149</td>\n",
              "      <td>-0.778801</td>\n",
              "      <td>-1.019323</td>\n",
              "      <td>-0.268769</td>\n",
              "      <td>1.066448</td>\n",
              "      <td>-1.359348</td>\n",
              "      <td>2.427908</td>\n",
              "      <td>-0.509525</td>\n",
              "    </tr>\n",
              "    <tr>\n",
              "      <th>4</th>\n",
              "      <td>1.424276</td>\n",
              "      <td>1.010830</td>\n",
              "      <td>1.014952</td>\n",
              "      <td>1.032923</td>\n",
              "      <td>-1.037977</td>\n",
              "      <td>0.234872</td>\n",
              "      <td>0.735647</td>\n",
              "      <td>-0.411877</td>\n",
              "      <td>-0.509525</td>\n",
              "    </tr>\n",
              "  </tbody>\n",
              "</table>\n",
              "</div>"
            ],
            "text/plain": [
              "   cylinders  displacement  horsepower  ...       USA    Europe     Japan\n",
              "0  -0.886314     -0.829643   -0.466844  ...  0.735647 -0.411877 -0.509525\n",
              "1  -0.886314     -0.877324   -0.518837  ... -1.359348  2.427908 -0.509525\n",
              "2  -0.886314     -0.743818    0.157070  ... -1.359348  2.427908 -0.509525\n",
              "3  -0.886314     -0.963149   -0.778801  ... -1.359348  2.427908 -0.509525\n",
              "4   1.424276      1.010830    1.014952  ...  0.735647 -0.411877 -0.509525\n",
              "\n",
              "[5 rows x 9 columns]"
            ]
          },
          "metadata": {
            "tags": []
          },
          "execution_count": 13
        }
      ]
    },
    {
      "cell_type": "markdown",
      "metadata": {
        "id": "foQCzcxewTsV",
        "colab_type": "text"
      },
      "source": [
        "### By LinearRegression from sklearn"
      ]
    },
    {
      "cell_type": "code",
      "metadata": {
        "id": "XZHmDsc9wSTZ",
        "colab_type": "code",
        "colab": {
          "base_uri": "https://localhost:8080/",
          "height": 442
        },
        "outputId": "a09387b6-db68-4ffc-e4d7-ba1c85126021"
      },
      "source": [
        "#Initialize the linear regression model\n",
        "from sklearn.linear_model import LinearRegression\n",
        "\n",
        "lin_model = LinearRegression()\n",
        "lin_model.fit(x_train, y_train)\n",
        "print(type(lin_model.intercept_))\n",
        "print(type(lin_model.coef_.flatten()))\n",
        "#Print the coefecients/weights for each feature/column of our model\n",
        "#a = list(list(lin_model.intercept_) + list(lin_model.coef_.flatten()))\n",
        "[lin_model.intercept_]\n",
        "\n",
        "coefDataFrame = pd.DataFrame( zip( [\"intecept\"] +  x_train_columns, \n",
        "                                   list([lin_model.intercept_] + list(lin_model.coef_.flatten()))\n",
        "                                   ),\n",
        "                              columns=['feature', 'coef'])\n",
        "\n",
        "print(\"regression cooefficients:\\n\")\n",
        "print(coefDataFrame)\n",
        "\n",
        "def linear_Reg_report(dataset_type, predict_Y, actual_Y):\n",
        "    rmse = (np.sqrt(mean_squared_error(actual_Y, predict_Y)))\n",
        "    r2 = r2_score(actual_Y, predict_Y)\n",
        "\n",
        "    print(\"\\nThe model performance for \",  dataset_type, \" set\")\n",
        "    print(\"--------------------------------------\")\n",
        "    print('RMSE is {}'.format(rmse))\n",
        "    print('R2 score is {}'.format(r2))\n",
        "\n",
        "\n",
        "y_train_predict = lin_model.predict(x_train)\n",
        "y_test_predict =  lin_model.predict(x_test)\n",
        "\n",
        "linear_Reg_report(\"training\", y_train_predict, y_train)\n",
        "linear_Reg_report(\"testing\",  y_test_predict, y_test)"
      ],
      "execution_count": 30,
      "outputs": [
        {
          "output_type": "stream",
          "text": [
            "<class 'numpy.float64'>\n",
            "<class 'numpy.ndarray'>\n",
            "regression cooefficients:\n",
            "\n",
            "        feature       coef\n",
            "0      intecept  23.561069\n",
            "1     cylinders  -0.678445\n",
            "2  displacement   2.414703\n",
            "3    horsepower  -1.203668\n",
            "4        weight  -5.353165\n",
            "5  acceleration   0.218716\n",
            "6     modelyear   2.751138\n",
            "7           USA  -0.927927\n",
            "8        Europe   0.524889\n",
            "9         Japan   0.638039\n",
            "\n",
            "The model performance for  training  set\n",
            "--------------------------------------\n",
            "RMSE is 3.317928715009621\n",
            "R2 score is 0.8297695220430706\n",
            "\n",
            "The model performance for  testing  set\n",
            "--------------------------------------\n",
            "RMSE is 3.278363661893737\n",
            "R2 score is 0.7964817032975607\n"
          ],
          "name": "stdout"
        }
      ]
    },
    {
      "cell_type": "markdown",
      "metadata": {
        "id": "rMZO45BNSbtM",
        "colab_type": "text"
      },
      "source": [
        "### By statsmodels\n",
        "\n",
        "https://www.statsmodels.org/stable/regression.html"
      ]
    },
    {
      "cell_type": "code",
      "metadata": {
        "id": "Jm60bxlL0CEH",
        "colab_type": "code",
        "colab": {
          "base_uri": "https://localhost:8080/",
          "height": 955
        },
        "outputId": "5b708c7f-dbd1-4cd5-fc17-b4b66de0d152"
      },
      "source": [
        "import statsmodels.api as sm\n",
        "import pandas as pd\n",
        "from patsy import dmatrices\n",
        "\n",
        "X = sm.add_constant(x_train) # adding a constant\n",
        "\n",
        "sm_model = sm.OLS(y_train.values, X).fit()\n",
        "sm_model_summary = sm_model.summary()\n",
        "print(sm_model_summary)\n",
        "\n",
        "sm_params = pd.DataFrame(\n",
        "     {\"feature\": [\"intecept\"] +  x_train_columns, \n",
        "       \"coef\"  : sm_model.params.values\n",
        "     },\n",
        "     columns=['feature', 'coef'])\n",
        "\n",
        "    \n",
        "print(sm_params)\n",
        "\n",
        "\n",
        "##########################################################################\n",
        "print(\"++++++++++++++++++++++++++++++++++++++++++++++++++++++++++++++++++++\")\n",
        "print(\"try no-intercept using LinearRegresson\")\n",
        "lin_model2 = LinearRegression(normalize=False, fit_intercept=False)\n",
        "lin_model2.fit( X  , y_train.values )\n",
        "print(\"\\n\", lin_model2.coef_, \"\\n\")\n",
        "\n",
        "\n"
      ],
      "execution_count": 35,
      "outputs": [
        {
          "output_type": "stream",
          "text": [
            "                            OLS Regression Results                            \n",
            "==============================================================================\n",
            "Dep. Variable:                      y   R-squared:                       0.830\n",
            "Model:                            OLS   Adj. R-squared:                  0.824\n",
            "Method:                 Least Squares   F-statistic:                     154.2\n",
            "Date:                Thu, 05 Mar 2020   Prob (F-statistic):           1.08e-92\n",
            "Time:                        17:52:07   Log-Likelihood:                -685.99\n",
            "No. Observations:                 262   AIC:                             1390.\n",
            "Df Residuals:                     253   BIC:                             1422.\n",
            "Df Model:                           8                                         \n",
            "Covariance Type:            nonrobust                                         \n",
            "================================================================================\n",
            "                   coef    std err          t      P>|t|      [0.025      0.975]\n",
            "--------------------------------------------------------------------------------\n",
            "const           23.5611      0.209    112.951      0.000      23.150      23.972\n",
            "cylinders       -0.6784      0.715     -0.949      0.343      -2.086       0.729\n",
            "displacement     2.4147      1.008      2.397      0.017       0.430       4.399\n",
            "horsepower      -1.2037      0.642     -1.876      0.062      -2.468       0.060\n",
            "weight          -5.3532      0.671     -7.973      0.000      -6.675      -4.031\n",
            "acceleration     0.2187      0.341      0.642      0.521      -0.452       0.889\n",
            "modelyear        2.7511      0.245     11.216      0.000       2.268       3.234\n",
            "USA             -0.9279      0.164     -5.669      0.000      -1.250      -0.606\n",
            "Europe           0.5249      0.176      2.980      0.003       0.178       0.872\n",
            "Japan            0.6380      0.169      3.772      0.000       0.305       0.971\n",
            "==============================================================================\n",
            "Omnibus:                       17.629   Durbin-Watson:                   2.024\n",
            "Prob(Omnibus):                  0.000   Jarque-Bera (JB):               21.435\n",
            "Skew:                           0.533   Prob(JB):                     2.22e-05\n",
            "Kurtosis:                       3.909   Cond. No.                     4.69e+15\n",
            "==============================================================================\n",
            "\n",
            "Warnings:\n",
            "[1] Standard Errors assume that the covariance matrix of the errors is correctly specified.\n",
            "[2] The smallest eigenvalue is 6.08e-29. This might indicate that there are\n",
            "strong multicollinearity problems or that the design matrix is singular.\n",
            "        feature       coef\n",
            "0      intecept  23.561069\n",
            "1     cylinders  -0.678445\n",
            "2  displacement   2.414703\n",
            "3    horsepower  -1.203668\n",
            "4        weight  -5.353165\n",
            "5  acceleration   0.218716\n",
            "6     modelyear   2.751138\n",
            "7           USA  -0.927927\n",
            "8        Europe   0.524889\n",
            "9         Japan   0.638039\n",
            "++++++++++++++++++++++++++++++++++++++++++++++++++++++++++++++++++++\n",
            "try no-intercept using LinearRegresson\n",
            "\n",
            " [23.5610687  -0.67844458  2.41470318 -1.20366756 -5.35316476  0.21871629\n",
            "  2.75113841 -0.92792702  0.52488871  0.63803853] \n",
            "\n"
          ],
          "name": "stdout"
        },
        {
          "output_type": "stream",
          "text": [
            "/usr/local/lib/python3.6/dist-packages/numpy/core/fromnumeric.py:2495: FutureWarning: Method .ptp is deprecated and will be removed in a future version. Use numpy.ptp instead.\n",
            "  return ptp(axis=axis, out=out, **kwargs)\n"
          ],
          "name": "stderr"
        }
      ]
    },
    {
      "cell_type": "markdown",
      "metadata": {
        "id": "ladLd29l1Qbc",
        "colab_type": "text"
      },
      "source": [
        "### By Spark ML"
      ]
    },
    {
      "cell_type": "code",
      "metadata": {
        "id": "rMvq3TO-1YHk",
        "colab_type": "code",
        "colab": {
          "base_uri": "https://localhost:8080/",
          "height": 411
        },
        "outputId": "e077ea94-c942-4fa9-c404-18c359b2b5c5"
      },
      "source": [
        "import numpy as np\n",
        "import pandas as pd\n",
        "\n",
        "from pyspark.sql import SparkSession\n",
        "from pyspark.context import SparkContext\n",
        "\n",
        "globs = globals()\n",
        "spark = SparkSession.builder.enableHiveSupport().getOrCreate()\n",
        "sc = spark.sparkContext\n",
        "\n",
        "#import data from previuos session, x_train, x_test, y_train, y_test\n",
        "xx_train =  x_train.copy()\n",
        "xx_train[\"Y\"] = y_train.values\n",
        "xx_test =  x_test.copy()\n",
        "xx_test[\"Y\"] = y_test.values\n",
        "\n",
        "x_train_sp = spark.createDataFrame(xx_train)\n",
        "x_test_sp  = spark.createDataFrame(xx_test)\n",
        "\n",
        "##### INPUT FOR SPARK\n",
        "# Spark ML’s algorithms expect the data to be represented in two columns: Features and Labels. \n",
        "# 1. Features is an array of data points of all the features to be used for prediction. \n",
        "# 2. Labels contain the output label for each data point.\n",
        "\n",
        "# To create a features array, import the VectorAssembler class and pass in a list of the feature column names.\n",
        "from pyspark.ml.feature import VectorAssembler\n",
        "feature_columns = x_train_sp.columns[:-1]   # do not include \"Y\" column (which is the last one)\n",
        "assembler = VectorAssembler(inputCols=feature_columns,outputCol=\"features\")\n",
        "x_train_sp = assembler.transform(x_train_sp)\n",
        "#x_train_sp[\"label\"] = y_train.values\n",
        "print(x_train_sp.show(5))\n",
        "\n",
        "from pyspark.ml.regression import LinearRegression\n",
        "# Defining the algorithm variable. We need to specify the name of the features column and the labels column.\n",
        "algorithm = LinearRegression(featuresCol=\"features\", labelCol=\"Y\")\n",
        "\n",
        "model_spark = algorithm.fit(x_train_sp)\n",
        "\n",
        "print(\"Intercept\", model_spark.intercept, \"\\n\",\n",
        "      \"Coefficient: \", model_spark.coefficients)\n",
        "\n",
        "\n",
        "# Evaluating Model Performance\n",
        "x_test_sp = assembler.transform(x_test_sp)\n",
        "\n",
        "evaluation_summary = model_spark.evaluate(x_train_sp)\n",
        "print(\"TRAINING ------------------------------------\")\n",
        "print(\"MAE: \", evaluation_summary.meanAbsoluteError)\n",
        "print(\"RMSE: \", evaluation_summary.rootMeanSquaredError)\n",
        "print(\"R2: \", evaluation_summary.r2)\n",
        "\n",
        "evaluation_summary = model_spark.evaluate(x_test_sp)\n",
        "print(\"TESTING -------------------------------------\")\n",
        "print(\"MAE: \", evaluation_summary.meanAbsoluteError)\n",
        "print(\"RMSE: \", evaluation_summary.rootMeanSquaredError)\n",
        "print(\"R2: \", evaluation_summary.r2)"
      ],
      "execution_count": 37,
      "outputs": [
        {
          "output_type": "stream",
          "text": [
            "+-------------------+-------------------+--------------------+--------------------+--------------------+--------------------+-------------------+------------------+-------------------+----+--------------------+\n",
            "|          cylinders|       displacement|          horsepower|              weight|        acceleration|           modelyear|                USA|            Europe|              Japan|   Y|            features|\n",
            "+-------------------+-------------------+--------------------+--------------------+--------------------+--------------------+-------------------+------------------+-------------------+----+--------------------+\n",
            "|-0.8863143793701866|-0.8296431562054152|-0.46684421580103214|-0.43296721094833673|   1.094826603266538|  1.6208310048002363| 0.7356469741582816|-0.411877235523957|-0.5095246653650681|27.0|[-0.8863143793701...|\n",
            "|-0.8863143793701866|-0.8773237973666459| -0.5188370678902439| -0.6410289889452488|0.010942928018997293|-0.04231934738381...|-1.3593476696403026| 2.427907914667536|-0.5095246653650681|28.0|[-0.8863143793701...|\n",
            "|-0.8863143793701866|-0.7438180021151998| 0.15707000926950787| -0.1634326349068824|0.010942928018997293| -0.8738945234758468|-1.3593476696403026| 2.427907914667536|-0.5095246653650681|19.0|[-0.8863143793701...|\n",
            "|-0.8863143793701866|-0.9631489514568613| -0.7788013283363022| -1.0193231307578163|-0.26876898817391653|  1.0664475540722178|-1.3593476696403026| 2.427907914667536|-0.5095246653650681|41.5|[-0.8863143793701...|\n",
            "| 1.4242763409779613| 1.0108295926180921|  1.0149520687415003|  1.0329225885753621| -1.0379767577044288| 0.23487237798019012| 0.7356469741582816|-0.411877235523957|-0.5095246653650681|17.5|[1.42427634097796...|\n",
            "+-------------------+-------------------+--------------------+--------------------+--------------------+--------------------+-------------------+------------------+-------------------+----+--------------------+\n",
            "only showing top 5 rows\n",
            "\n",
            "None\n",
            "Intercept 23.561068702290076 \n",
            " Coefficient:  [-0.6784431666791703,2.4146991885919573,-1.2036661953831609,-5.3531643976703025,0.21871583646152412,2.7511382434169542,-0.9279266368648411,0.5248884728259454,0.6380382833550252]\n",
            "TRAINING ------------------------------------\n",
            "MAE:  2.551782336830461\n",
            "RMSE:  3.3179287150097907\n",
            "R2:  0.8297695220430532\n",
            "TESTING -------------------------------------\n",
            "MAE:  2.5837269621014753\n",
            "RMSE:  3.2783636080822736\n",
            "R2:  0.7964817099787093\n"
          ],
          "name": "stdout"
        }
      ]
    },
    {
      "cell_type": "markdown",
      "metadata": {
        "id": "KJLwgzaQ19p7",
        "colab_type": "text"
      },
      "source": [
        "### Using Tensorflow\n",
        "#### Single Layer"
      ]
    },
    {
      "cell_type": "code",
      "metadata": {
        "id": "YF68-PKNUnEc",
        "colab_type": "code",
        "outputId": "82d4dfb0-5e9a-4adf-a7dd-af761b4fe292",
        "colab": {
          "base_uri": "https://localhost:8080/",
          "height": 1000
        }
      },
      "source": [
        "from __future__ import absolute_import, division, print_function, unicode_literals\n",
        "\n",
        "import pathlib\n",
        "import matplotlib.pyplot as plt\n",
        "import pandas as pd\n",
        "import seaborn as sns\n",
        "import numpy as np\n",
        "\n",
        "try:\n",
        "  %tensorflow_version 2.x\n",
        "except Exception:\n",
        "  pass\n",
        "import tensorflow as tf\n",
        "print(tf.__version__)\n",
        "from tensorflow import keras\n",
        "from tensorflow.keras import layers\n",
        "                                                     \n",
        "from tensorflow.keras import Sequential\n",
        "from tensorflow.keras.layers import Dense\n",
        "\n",
        "class PrintDot(keras.callbacks.Callback):\n",
        "  def on_epoch_end(self, epoch, logs):\n",
        "    if epoch % 1000 == 0: print('')\n",
        "    if epoch % 100 == 0: print(\".\", end='')\n",
        "\n",
        "early_stop = keras.callbacks.EarlyStopping(monitor='loss', patience=10)\n",
        "\n",
        "widthX = x_train.shape[1]\n",
        "#build our model\n",
        "model = Sequential([\n",
        "    Dense(1, input_shape=(widthX,), use_bias=True)\n",
        "   ])\n",
        "\n",
        "optimizer = tf.keras.optimizers.RMSprop(learning_rate=0.002) # Default value\n",
        "model.compile(optimizer=optimizer,loss='mse', metrics =['mae', 'mse'])\n",
        "\n",
        "# Train the model\n",
        "history = model.fit(\n",
        "    x_train,\n",
        "    y_train,\n",
        "    epochs=10000,\n",
        "    shuffle=False,\n",
        "    validation_split = 0.2,\n",
        "    verbose=0, callbacks=[early_stop, PrintDot()]\n",
        ")\n",
        "\n",
        "minepoch = np.argmin(history.history[\"loss\"])\n",
        "print(minepoch)\n",
        "\n",
        "def print_coeff():\n",
        "  print(\"\\nthe coefficient is as the following:\")\n",
        "  for trainable_variable in model.trainable_weights:\n",
        "    name = trainable_variable.name\n",
        "    values =  trainable_variable.read_value().numpy()\n",
        "    if (\"/bias:\" in name):\n",
        "      print(\"Bias: \", values)\n",
        "    else:\n",
        "      print(values)\n",
        "\n",
        "def plot_Tesor(history, ylabel):\n",
        "  import matplotlib.pyplot as plt\n",
        "  plt.clf()\n",
        "  for k in history.keys():\n",
        "    if k.endswith(ylabel):\n",
        "      plt.plot(history[k], label=k)\n",
        "  plt.title(ylabel)\n",
        "  plt.ylabel(ylabel)\n",
        "  plt.xlabel('Epoch')\n",
        "  plt.legend()\n",
        "  plt.show()\n",
        "\n",
        "plot_Tesor(history.history, \"loss\")\n",
        "plot_Tesor(history.history, \"mae\")\n",
        "plot_Tesor(history.history, \"mse\")\n",
        "\n",
        "def model_sum(model, X, Y, Title=\"Train\"):\n",
        "  score = model.evaluate(X, Y)\n",
        "  print(Title, \":evaluate score = \", score)\n",
        "\n",
        "model_sum(model, x_train, y_train, \"Train\")\n",
        "model_sum(model, x_test,  y_test,  \"Test\")\n",
        "\n",
        "y_train_predict = model.predict(x_train)\n",
        "y_test_predict =  model.predict(x_test)\n",
        "\n",
        "linear_Reg_report(\"training\", y_train_predict, y_train)\n",
        "linear_Reg_report(\"testing\",  y_test_predict, y_test)\n",
        "\n",
        "print_coeff()"
      ],
      "execution_count": 38,
      "outputs": [
        {
          "output_type": "stream",
          "text": [
            "2.1.0\n",
            "\n",
            "..........\n",
            "..........\n",
            "..........\n",
            "..........\n",
            "..........\n",
            "..........\n",
            "..........\n",
            "....7351\n"
          ],
          "name": "stdout"
        },
        {
          "output_type": "display_data",
          "data": {
            "image/png": "[encoded data removed]",
            "text/plain": [
              "<Figure size 432x288 with 1 Axes>"
            ]
          },
          "metadata": {
            "tags": []
          }
        },
        {
          "output_type": "display_data",
          "data": {
            "image/png": "[encoded data removed]",
            "text/plain": [
              "<Figure size 432x288 with 1 Axes>"
            ]
          },
          "metadata": {
            "tags": []
          }
        },
        {
          "output_type": "display_data",
          "data": {
            "image/png": "[encoded data removed]",
            "text/plain": [
              "<Figure size 432x288 with 1 Axes>"
            ]
          },
          "metadata": {
            "tags": []
          }
        },
        {
          "output_type": "stream",
          "text": [
            "262/262 [==============================] - 0s 49us/sample - loss: 11.3198 - mae: 2.5440 - mse: 11.3198\n",
            "Train :evaluate score =  [11.319802175041373, 2.5439894, 11.319802]\n",
            "130/130 [==============================] - 0s 81us/sample - loss: 10.9970 - mae: 2.5711 - mse: 10.9970\n",
            "Test :evaluate score =  [10.996981811523437, 2.571088, 10.996982]\n",
            "\n",
            "The model performance for  training  set\n",
            "--------------------------------------\n",
            "RMSE is 3.3644914019557173\n",
            "R2 score is 0.8249580825795853\n",
            "\n",
            "The model performance for  testing  set\n",
            "--------------------------------------\n",
            "RMSE is 3.3161697177279867\n",
            "R2 score is 0.7917606962691646\n",
            "\n",
            "the coefficient is as the following:\n",
            "[[-0.9704183 ]\n",
            " [ 3.2514017 ]\n",
            " [-0.9291459 ]\n",
            " [-5.5981717 ]\n",
            " [ 0.68760717]\n",
            " [ 2.4308262 ]\n",
            " [-1.7082008 ]\n",
            " [ 0.15439741]\n",
            " [ 0.258798  ]]\n",
            "Bias:  [23.520535]\n"
          ],
          "name": "stdout"
        }
      ]
    },
    {
      "cell_type": "markdown",
      "metadata": {
        "id": "ZBfG2Dmd2Sla",
        "colab_type": "text"
      },
      "source": [
        "#### Multi-layers (32, 16, 1)\n"
      ]
    },
    {
      "cell_type": "code",
      "metadata": {
        "id": "nIZxN7qdYfsN",
        "colab_type": "code",
        "outputId": "6e8678f5-bf6a-4d38-c374-a073201bfcd0",
        "colab": {
          "base_uri": "https://localhost:8080/",
          "height": 1000
        }
      },
      "source": [
        "model = Sequential([\n",
        "    Dense(32, activation='relu', input_shape=(widthX,)),\n",
        "    Dense(16, activation='relu'),\n",
        "    Dense(1)\n",
        "   ])\n",
        "\n",
        "optimizer = tf.keras.optimizers.RMSprop(learning_rate=0.002) # Default value\n",
        "model.compile(optimizer=optimizer,loss='mse', metrics =['mae', 'mse'])\n",
        "\n",
        "early_stop = keras.callbacks.EarlyStopping(monitor='loss', patience=5)\n",
        "\n",
        "# Train the model\n",
        "history = model.fit(\n",
        "    x_train,\n",
        "    y_train,\n",
        "    epochs=10000,\n",
        "    shuffle=False,\n",
        "    validation_split = 0.2,\n",
        "    verbose=0, callbacks=[early_stop, PrintDot()]\n",
        ")\n",
        "\n",
        "plot_Tesor(history.history, \"loss\")\n",
        "plot_Tesor(history.history, \"mae\")\n",
        "plot_Tesor(history.history, \"mse\")\n",
        "\n",
        "model_sum(model, x_train, y_train, \"Train\")\n",
        "model_sum(model, x_test,  y_test,  \"Test\")\n",
        "\n",
        "y_train_predict = model.predict(x_train)\n",
        "y_test_predict =  model.predict(x_test)\n",
        "\n",
        "linear_Reg_report(\"training\", y_train_predict, y_train)\n",
        "linear_Reg_report(\"testing\",  y_test_predict, y_test)\n",
        "\n",
        "#print_coeff()\n",
        "print(\"========================================\\nlayer summary\")\n",
        "model.summary()"
      ],
      "execution_count": 41,
      "outputs": [
        {
          "output_type": "stream",
          "text": [
            "\n",
            "........"
          ],
          "name": "stdout"
        },
        {
          "output_type": "display_data",
          "data": {
            "image/png": "[encoded data removed]",
            "text/plain": [
              "<Figure size 432x288 with 1 Axes>"
            ]
          },
          "metadata": {
            "tags": []
          }
        },
        {
          "output_type": "display_data",
          "data": {
            "image/png": "[encoded data removed]",
            "text/plain": [
              "<Figure size 432x288 with 1 Axes>"
            ]
          },
          "metadata": {
            "tags": []
          }
        },
        {
          "output_type": "display_data",
          "data": {
            "image/png": "[encoded data removed]",
            "text/plain": [
              "<Figure size 432x288 with 1 Axes>"
            ]
          },
          "metadata": {
            "tags": []
          }
        },
        {
          "output_type": "stream",
          "text": [
            "262/262 [==============================] - 0s 56us/sample - loss: 4.2474 - mae: 1.4345 - mse: 4.2474\n",
            "Train :evaluate score =  [4.2474291806912605, 1.4345496, 4.247429]\n",
            "130/130 [==============================] - 0s 103us/sample - loss: 8.8245 - mae: 2.2038 - mse: 8.8245\n",
            "Test :evaluate score =  [8.824503517150879, 2.2038486, 8.824504]\n",
            "\n",
            "The model performance for  training  set\n",
            "--------------------------------------\n",
            "RMSE is 2.0609291782866914\n",
            "R2 score is 0.9343205734483334\n",
            "\n",
            "The model performance for  testing  set\n",
            "--------------------------------------\n",
            "RMSE is 2.9706065247581255\n",
            "R2 score is 0.8328988395283053\n",
            "========================================\n",
            "layer summary\n",
            "Model: \"sequential_3\"\n",
            "_________________________________________________________________\n",
            "Layer (type)                 Output Shape              Param #   \n",
            "=================================================================\n",
            "dense_7 (Dense)              (None, 32)                320       \n",
            "_________________________________________________________________\n",
            "dense_8 (Dense)              (None, 16)                528       \n",
            "_________________________________________________________________\n",
            "dense_9 (Dense)              (None, 1)                 17        \n",
            "=================================================================\n",
            "Total params: 865\n",
            "Trainable params: 865\n",
            "Non-trainable params: 0\n",
            "_________________________________________________________________\n"
          ],
          "name": "stdout"
        }
      ]
    },
    {
      "cell_type": "markdown",
      "metadata": {
        "id": "as89kqtK4ZOG",
        "colab_type": "text"
      },
      "source": [
        "#### Multi-layers (64, 64, 1)"
      ]
    },
    {
      "cell_type": "code",
      "metadata": {
        "id": "6BwXJykq4eD8",
        "colab_type": "code",
        "colab": {
          "base_uri": "https://localhost:8080/",
          "height": 1000
        },
        "outputId": "64bcde66-06d7-44b3-c81f-0430453be792"
      },
      "source": [
        "model = Sequential([\n",
        "    Dense(64, activation='relu', input_shape=(widthX,)),\n",
        "    Dense(64, activation='relu'),\n",
        "    Dense(1)\n",
        "   ])\n",
        "\n",
        "optimizer = tf.keras.optimizers.RMSprop(learning_rate=0.002) # Default value\n",
        "model.compile(optimizer=optimizer,loss='mse', metrics =['mae', 'mse'])\n",
        "\n",
        "early_stop = keras.callbacks.EarlyStopping(monitor='loss', patience=5)\n",
        "\n",
        "# Train the model\n",
        "history = model.fit(\n",
        "    x_train,\n",
        "    y_train,\n",
        "    epochs=10000,\n",
        "    shuffle=False,\n",
        "    validation_split = 0.2,\n",
        "    verbose=0, callbacks=[early_stop, PrintDot()]\n",
        ")\n",
        "\n",
        "plot_Tesor(history.history, \"loss\")\n",
        "plot_Tesor(history.history, \"mae\")\n",
        "plot_Tesor(history.history, \"mse\")\n",
        "\n",
        "model_sum(model, x_train, y_train, \"Train\")\n",
        "model_sum(model, x_test,  y_test,  \"Test\")\n",
        "\n",
        "y_train_predict = model.predict(x_train)\n",
        "y_test_predict =  model.predict(x_test)\n",
        "\n",
        "linear_Reg_report(\"training\", y_train_predict, y_train)\n",
        "linear_Reg_report(\"testing\",  y_test_predict, y_test)\n",
        "\n",
        "#print_coeff()\n",
        "print(\"===================================\\nlayer summary\")\n",
        "model.summary()"
      ],
      "execution_count": 42,
      "outputs": [
        {
          "output_type": "stream",
          "text": [
            "\n",
            "...."
          ],
          "name": "stdout"
        },
        {
          "output_type": "display_data",
          "data": {
            "image/png": "[encoded data removed]",
            "text/plain": [
              "<Figure size 432x288 with 1 Axes>"
            ]
          },
          "metadata": {
            "tags": []
          }
        },
        {
          "output_type": "display_data",
          "data": {
            "image/png": "[encoded data removed]",
            "text/plain": [
              "<Figure size 432x288 with 1 Axes>"
            ]
          },
          "metadata": {
            "tags": []
          }
        },
        {
          "output_type": "display_data",
          "data": {
            "image/png": "[encoded data removed]",
            "text/plain": [
              "<Figure size 432x288 with 1 Axes>"
            ]
          },
          "metadata": {
            "tags": []
          }
        },
        {
          "output_type": "stream",
          "text": [
            "262/262 [==============================] - 0s 58us/sample - loss: 4.2070 - mae: 1.3244 - mse: 4.2070\n",
            "Train :evaluate score =  [4.206973900321786, 1.3244023, 4.206974]\n",
            "130/130 [==============================] - 0s 85us/sample - loss: 8.4751 - mae: 2.1943 - mse: 8.4751\n",
            "Test :evaluate score =  [8.475063052544227, 2.1942704, 8.475064]\n",
            "\n",
            "The model performance for  training  set\n",
            "--------------------------------------\n",
            "RMSE is 2.0510909151888588\n",
            "R2 score is 0.9349461448362969\n",
            "\n",
            "The model performance for  testing  set\n",
            "--------------------------------------\n",
            "RMSE is 2.9111961313779324\n",
            "R2 score is 0.8395158539607944\n",
            "===================================\n",
            "layer summary\n",
            "Model: \"sequential_4\"\n",
            "_________________________________________________________________\n",
            "Layer (type)                 Output Shape              Param #   \n",
            "=================================================================\n",
            "dense_10 (Dense)             (None, 64)                640       \n",
            "_________________________________________________________________\n",
            "dense_11 (Dense)             (None, 64)                4160      \n",
            "_________________________________________________________________\n",
            "dense_12 (Dense)             (None, 1)                 65        \n",
            "=================================================================\n",
            "Total params: 4,865\n",
            "Trainable params: 4,865\n",
            "Non-trainable params: 0\n",
            "_________________________________________________________________\n"
          ],
          "name": "stdout"
        }
      ]
    }
  ]
}