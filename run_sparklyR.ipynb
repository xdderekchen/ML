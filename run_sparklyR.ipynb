{
  "nbformat": 4,
  "nbformat_minor": 0,
  "metadata": {
    "colab": {
      "name": "run_sparklyR.ipynb",
      "provenance": [],
      "toc_visible": true,
      "authorship_tag": "ABX9TyOYQ17VzkLGexH+xq0Oflhq",
      "include_colab_link": true
    },
    "kernelspec": {
      "name": "ir",
      "display_name": "R"
    }
  },
  "cells": [
    {
      "cell_type": "markdown",
      "metadata": {
        "id": "view-in-github",
        "colab_type": "text"
      },
      "source": [
        "<a href=\"https://colab.research.google.com/github/xdderekchen/ML/blob/master/run_sparklyR.ipynb\" target=\"_parent\"><img src=\"https://colab.research.google.com/assets/colab-badge.svg\" alt=\"Open In Colab\"/></a>"
      ]
    },
    {
      "cell_type": "markdown",
      "metadata": {
        "id": "tMdSfUQpPPR-",
        "colab_type": "text"
      },
      "source": [
        "# Programming in R on Google Colab platform\n",
        "\n",
        "Google colab is a great platform for writing and running python code, from simple \"hello, world\" code, to advanced data engineering with Spark, fancy machine learning / deep learning algorithms. Other great features are:\n",
        " * integration with github repository\n",
        " * using google drive as the data storage\n",
        " * free for simple usage, perfect platform for learning purpose\n",
        " * support python 2, python 3.\n",
        "\n",
        "After programming python on colab for a while, I started to wonder whether I can use colab notebook for R. After some research, I found the answer. In this papar, I list the steps so you can use R kernel to program in sparklyR."
      ]
    },
    {
      "cell_type": "markdown",
      "metadata": {
        "id": "P1h00P_arJg1",
        "colab_type": "text"
      },
      "source": [
        "**STEP 1**. When you open a new notebook on colab, by default, the notebook only supports python. In order to use R kernet, you need to open this link in your browser\n",
        "\n",
        "https://colab.research.google.com/notebook#create=true&language=r\n",
        "\n",
        "Now open a \"Code\" cell, where you should be able to enter/run R code and use your favorate R libraries.\n"
      ]
    },
    {
      "cell_type": "code",
      "metadata": {
        "id": "7vsEuOrpUz6P",
        "colab_type": "code",
        "colab": {
          "base_uri": "https://localhost:8080/",
          "height": 658
        },
        "outputId": "d94d16a1-6260-4c1c-8656-7c225b4f0468"
      },
      "source": [
        "library(dplyr)\n",
        "library(ggplot2)\n",
        "print(str(mtcars))\n",
        "mtcars %>% \n",
        "    group_by(cyl) %>% \n",
        "    summarise(mpg= mean(mpg)) %>% \n",
        "    ggplot(aes(cyl, mpg))+ geom_bar(stat=\"identity\")\n"
      ],
      "execution_count": 3,
      "outputs": [
        {
          "output_type": "stream",
          "text": [
            "'data.frame':\t32 obs. of  11 variables:\n",
            " $ mpg : num  21 21 22.8 21.4 18.7 18.1 14.3 24.4 22.8 19.2 ...\n",
            " $ cyl : num  6 6 4 6 8 6 8 4 4 6 ...\n",
            " $ disp: num  160 160 108 258 360 ...\n",
            " $ hp  : num  110 110 93 110 175 105 245 62 95 123 ...\n",
            " $ drat: num  3.9 3.9 3.85 3.08 3.15 2.76 3.21 3.69 3.92 3.92 ...\n",
            " $ wt  : num  2.62 2.88 2.32 3.21 3.44 ...\n",
            " $ qsec: num  16.5 17 18.6 19.4 17 ...\n",
            " $ vs  : num  0 0 1 1 0 1 0 1 1 1 ...\n",
            " $ am  : num  1 1 1 0 0 0 0 0 0 0 ...\n",
            " $ gear: num  4 4 4 3 3 3 3 4 4 4 ...\n",
            " $ carb: num  4 4 1 1 2 1 4 2 2 4 ...\n",
            "NULL\n"
          ],
          "name": "stdout"
        },
        {
          "output_type": "display_data",
          "data": {
            "image/png": "[encoded data removed]",
            "text/plain": [
              "plot without title"
            ]
          },
          "metadata": {
            "tags": [],
            "image/png": {
              "width": 420,
              "height": 420
            },
            "text/plain": {
              "width": 420,
              "height": 420
            }
          }
        }
      ]
    },
    {
      "cell_type": "markdown",
      "metadata": {
        "id": "BkfA3Ld_WI_z",
        "colab_type": "text"
      },
      "source": [
        "Do this step only if you want to code in spark and sparklyr.\n",
        "\n",
        "**Step 2**: Download spark, install sparklyr package and configure JAVA 8. \n",
        "\n",
        "You need to run *spark_available_versions()* first run what is avaible for spark release, then run *sparl_install()* accordingly.\n",
        "\n",
        "By default, colab uses JVM version 9. So we need to specify JAVA_HOME to point to version 8."
      ]
    },
    {
      "cell_type": "code",
      "metadata": {
        "id": "Fy4ll_hfwYqU",
        "colab_type": "code",
        "colab": {}
      },
      "source": [
        "devtools::install_github(repo = \"rstudio/spark-install\", subdir = \"R\")\n",
        "library(sparkinstall)\n",
        "\n",
        "# lists the versions available to install\n",
        "#spark_available_versions()\n",
        "# select one from the list output from the above function\n",
        "spark_install(version = \"2.4.3\", hadoop_version = \"2.7\")\n",
        "\n",
        "#Set java JVM version 8\n",
        "Sys.setenv(JAVA_HOME='/usr/lib/jvm/java-8-openjdk-amd64')\n",
        "\n",
        "install.packages(\"sparklyr\")"
      ],
      "execution_count": 0,
      "outputs": []
    },
    {
      "cell_type": "code",
      "metadata": {
        "id": "JApvnL3Yp12I",
        "colab_type": "code",
        "outputId": "2b1ceb7d-f2a7-40cb-9185-b717872054a3",
        "colab": {
          "base_uri": "https://localhost:8080/",
          "height": 255
        }
      },
      "source": [
        "install.packages(\"dbplot\")\n",
        "library(sparklyr)\n",
        "library(dbplot)"
      ],
      "execution_count": 6,
      "outputs": [
        {
          "output_type": "stream",
          "text": [
            "Installing package into ‘/usr/local/lib/R/site-library’\n",
            "(as ‘lib’ is unspecified)\n",
            "\n",
            "\n",
            "Attaching package: ‘sparklyr’\n",
            "\n",
            "\n",
            "The following objects are masked from ‘package:sparkinstall’:\n",
            "\n",
            "    spark_available_versions, spark_default_version, spark_install,\n",
            "    spark_install_dir, spark_install_find, spark_install_tar,\n",
            "    spark_installed_versions, spark_uninstall, spark_versions\n",
            "\n",
            "\n"
          ],
          "name": "stderr"
        }
      ]
    },
    {
      "cell_type": "markdown",
      "metadata": {
        "id": "wasZqlZYZdh0",
        "colab_type": "text"
      },
      "source": [
        "OK, let's try to use sparklyr api."
      ]
    },
    {
      "cell_type": "code",
      "metadata": {
        "id": "laZiEXLqrBvP",
        "colab_type": "code",
        "outputId": "aad10404-15e6-4ba6-838d-6b0e14f7f545",
        "colab": {
          "base_uri": "https://localhost:8080/",
          "height": 505
        }
      },
      "source": [
        "sc <- spark_connect(master=\"local\", version=\"2.4.3\")\n",
        "spark_is_ready <- connection_is_open(sc)\n",
        "\n",
        "# bring R dataframe into spark,\n",
        "cars <- copy_to(sc, mtcars, overwrite = TRUE)\n",
        "\n",
        "# operations use dplyr and ggplots\n",
        "car_mpg <- cars %>% \n",
        "    group_by(cyl) %>% \n",
        "    summarise(mpg= mean(mpg)) %>% \n",
        "    ggplot(aes(cyl, mpg))+ geom_bar(stat=\"identity\")\n",
        "car_mpg"
      ],
      "execution_count": 7,
      "outputs": [
        {
          "output_type": "stream",
          "text": [
            "Warning message:\n",
            "“Missing values are always removed in SQL.\n",
            "Use `mean(x, na.rm = TRUE)` to silence this warning\n",
            "This warning is displayed only once per session.”\n"
          ],
          "name": "stderr"
        },
        {
          "output_type": "display_data",
          "data": {
            "image/png": "[encoded data removed]",
            "text/plain": [
              "plot without title"
            ]
          },
          "metadata": {
            "tags": [],
            "image/png": {
              "width": 420,
              "height": 420
            },
            "text/plain": {
              "width": 420,
              "height": 420
            }
          }
        }
      ]
    },
    {
      "cell_type": "code",
      "metadata": {
        "id": "dDYi3Wu2m7-j",
        "colab_type": "code",
        "outputId": "0512c646-4f4c-4bda-ee08-8aab09634212",
        "colab": {
          "base_uri": "https://localhost:8080/",
          "height": 187
        }
      },
      "source": [
        "cars %>% ml_linear_regression(wt ~ mpg) %>% summary()"
      ],
      "execution_count": 8,
      "outputs": [
        {
          "output_type": "stream",
          "text": [
            "Deviance Residuals:\n",
            "    Min      1Q  Median      3Q     Max \n",
            "-0.6516 -0.3490 -0.1381  0.3190  1.3684 \n",
            "\n",
            "Coefficients:\n",
            "(Intercept)         mpg \n",
            "   6.047255   -0.140862 \n",
            "\n",
            "R-Squared: 0.7528\n",
            "Root Mean Squared Error: 0.4788\n"
          ],
          "name": "stdout"
        }
      ]
    },
    {
      "cell_type": "code",
      "metadata": {
        "id": "1OuXqiqYRNUO",
        "colab_type": "code",
        "outputId": "01dcde10-041e-4a21-b409-25ded95060e0",
        "colab": {
          "base_uri": "https://localhost:8080/",
          "height": 879
        }
      },
      "source": [
        "\n",
        "download.file(\n",
        "  \"https://raw.githubusercontent.com/selva86/datasets/master/BostonHousing.csv\",\n",
        "  \"BostonHousing.csv\")\n",
        "\n",
        "data_df <- spark_read_csv(\n",
        "  sc, \n",
        "  path =   \"BostonHousing.csv\", \n",
        "  memory = FALSE\n",
        ") \n",
        "\n",
        "glimpse(data_df)\n",
        "\n",
        "data_splits <- sdf_random_split(data_df, training = 0.67, testing = 0.33, seed = 42)\n",
        "df_train <- data_splits$training\n",
        "df_test <- data_splits$testing\n",
        "\n",
        "dbplot_histogram(df_train, age)\n",
        "\n",
        "lr <- ml_linear_regression(\n",
        "  df_train, medv ~ crim + zn + indus + chas + nox + rm + age + dis + rad + tax + ptratio + b + lstat \n",
        ")\n",
        "lr"
      ],
      "execution_count": 9,
      "outputs": [
        {
          "output_type": "stream",
          "text": [
            "Observations: ??\n",
            "Variables: 14\n",
            "Database: spark_connection\n",
            "$ crim    \u001b[3m\u001b[90m<dbl>\u001b[39m\u001b[23m 0.00632, 0.02731, 0.02729, 0.03237, 0.06905, 0.02985, 0.08829…\n",
            "$ zn      \u001b[3m\u001b[90m<dbl>\u001b[39m\u001b[23m 18.0, 0.0, 0.0, 0.0, 0.0, 0.0, 12.5, 12.5, 12.5, 12.5, 12.5, …\n",
            "$ indus   \u001b[3m\u001b[90m<dbl>\u001b[39m\u001b[23m 2.31, 7.07, 7.07, 2.18, 2.18, 2.18, 7.87, 7.87, 7.87, 7.87, 7…\n",
            "$ chas    \u001b[3m\u001b[90m<int>\u001b[39m\u001b[23m 0, 0, 0, 0, 0, 0, 0, 0, 0, 0, 0, 0, 0, 0, 0, 0, 0, 0, 0, 0, 0…\n",
            "$ nox     \u001b[3m\u001b[90m<dbl>\u001b[39m\u001b[23m 0.538, 0.469, 0.469, 0.458, 0.458, 0.458, 0.524, 0.524, 0.524…\n",
            "$ rm      \u001b[3m\u001b[90m<dbl>\u001b[39m\u001b[23m 6.575, 6.421, 7.185, 6.998, 7.147, 6.430, 6.012, 6.172, 5.631…\n",
            "$ age     \u001b[3m\u001b[90m<dbl>\u001b[39m\u001b[23m 65.2, 78.9, 61.1, 45.8, 54.2, 58.7, 66.6, 96.1, 100.0, 85.9, …\n",
            "$ dis     \u001b[3m\u001b[90m<dbl>\u001b[39m\u001b[23m 4.0900, 4.9671, 4.9671, 6.0622, 6.0622, 6.0622, 5.5605, 5.950…\n",
            "$ rad     \u001b[3m\u001b[90m<int>\u001b[39m\u001b[23m 1, 2, 2, 3, 3, 3, 5, 5, 5, 5, 5, 5, 5, 4, 4, 4, 4, 4, 4, 4, 4…\n",
            "$ tax     \u001b[3m\u001b[90m<int>\u001b[39m\u001b[23m 296, 242, 242, 222, 222, 222, 311, 311, 311, 311, 311, 311, 3…\n",
            "$ ptratio \u001b[3m\u001b[90m<dbl>\u001b[39m\u001b[23m 15.3, 17.8, 17.8, 18.7, 18.7, 18.7, 15.2, 15.2, 15.2, 15.2, 1…\n",
            "$ b       \u001b[3m\u001b[90m<dbl>\u001b[39m\u001b[23m 396.90, 396.90, 392.83, 394.63, 396.90, 394.12, 395.60, 396.9…\n",
            "$ lstat   \u001b[3m\u001b[90m<dbl>\u001b[39m\u001b[23m 4.98, 9.14, 4.03, 2.94, 5.33, 5.21, 12.43, 19.15, 29.93, 17.1…\n",
            "$ medv    \u001b[3m\u001b[90m<dbl>\u001b[39m\u001b[23m 24.0, 21.6, 34.7, 33.4, 36.2, 28.7, 22.9, 27.1, 16.5, 18.9, 1…\n"
          ],
          "name": "stdout"
        },
        {
          "output_type": "display_data",
          "data": {
            "text/plain": [
              "Formula: medv ~ crim + zn + indus + chas + nox + rm + age + dis + rad + tax + ptratio + b + lstat\n",
              "\n",
              "Coefficients:\n",
              "  (Intercept)          crim            zn         indus          chas \n",
              " 34.454788738  -0.129772215   0.049578540   0.014917698   2.542392162 \n",
              "          nox            rm           age           dis           rad \n",
              "-18.101563037   3.850380292   0.005457293  -1.508197739   0.383372586 \n",
              "          tax       ptratio             b         lstat \n",
              " -0.015858159  -0.826390484   0.010096331  -0.538359585 "
            ]
          },
          "metadata": {
            "tags": []
          }
        },
        {
          "output_type": "display_data",
          "data": {
            "image/png": "[encoded data removed]",
            "text/plain": [
              "plot without title"
            ]
          },
          "metadata": {
            "tags": [],
            "image/png": {
              "width": 420,
              "height": 420
            },
            "text/plain": {
              "width": 420,
              "height": 420
            }
          }
        }
      ]
    },
    {
      "cell_type": "markdown",
      "metadata": {
        "id": "-XcYZTWUaD1B",
        "colab_type": "text"
      },
      "source": [
        "OK, Let's try to save/read data to parquet file."
      ]
    },
    {
      "cell_type": "code",
      "metadata": {
        "id": "NbSF9dJuaYhq",
        "colab_type": "code",
        "colab": {
          "base_uri": "https://localhost:8080/",
          "height": 306
        },
        "outputId": "4cf3e537-36db-4eb0-9e33-be802cd32d4d"
      },
      "source": [
        "  spark_write_parquet(data_df, \"contents/BOST\", mode = \"overwrite\")\n",
        "\n",
        "  data_df2 <- spark_read_parquet(sc, path=\"contents/BOST\")\n",
        "\n",
        "  glimpse(data_df2)"
      ],
      "execution_count": 14,
      "outputs": [
        {
          "output_type": "stream",
          "text": [
            "Observations: ??\n",
            "Variables: 14\n",
            "Database: spark_connection\n",
            "$ crim    \u001b[3m\u001b[90m<dbl>\u001b[39m\u001b[23m 0.00632, 0.02731, 0.02729, 0.03237, 0.06905, 0.02985, 0.08829…\n",
            "$ zn      \u001b[3m\u001b[90m<dbl>\u001b[39m\u001b[23m 18.0, 0.0, 0.0, 0.0, 0.0, 0.0, 12.5, 12.5, 12.5, 12.5, 12.5, …\n",
            "$ indus   \u001b[3m\u001b[90m<dbl>\u001b[39m\u001b[23m 2.31, 7.07, 7.07, 2.18, 2.18, 2.18, 7.87, 7.87, 7.87, 7.87, 7…\n",
            "$ chas    \u001b[3m\u001b[90m<int>\u001b[39m\u001b[23m 0, 0, 0, 0, 0, 0, 0, 0, 0, 0, 0, 0, 0, 0, 0, 0, 0, 0, 0, 0, 0…\n",
            "$ nox     \u001b[3m\u001b[90m<dbl>\u001b[39m\u001b[23m 0.538, 0.469, 0.469, 0.458, 0.458, 0.458, 0.524, 0.524, 0.524…\n",
            "$ rm      \u001b[3m\u001b[90m<dbl>\u001b[39m\u001b[23m 6.575, 6.421, 7.185, 6.998, 7.147, 6.430, 6.012, 6.172, 5.631…\n",
            "$ age     \u001b[3m\u001b[90m<dbl>\u001b[39m\u001b[23m 65.2, 78.9, 61.1, 45.8, 54.2, 58.7, 66.6, 96.1, 100.0, 85.9, …\n",
            "$ dis     \u001b[3m\u001b[90m<dbl>\u001b[39m\u001b[23m 4.0900, 4.9671, 4.9671, 6.0622, 6.0622, 6.0622, 5.5605, 5.950…\n",
            "$ rad     \u001b[3m\u001b[90m<int>\u001b[39m\u001b[23m 1, 2, 2, 3, 3, 3, 5, 5, 5, 5, 5, 5, 5, 4, 4, 4, 4, 4, 4, 4, 4…\n",
            "$ tax     \u001b[3m\u001b[90m<int>\u001b[39m\u001b[23m 296, 242, 242, 222, 222, 222, 311, 311, 311, 311, 311, 311, 3…\n",
            "$ ptratio \u001b[3m\u001b[90m<dbl>\u001b[39m\u001b[23m 15.3, 17.8, 17.8, 18.7, 18.7, 18.7, 15.2, 15.2, 15.2, 15.2, 1…\n",
            "$ b       \u001b[3m\u001b[90m<dbl>\u001b[39m\u001b[23m 396.90, 396.90, 392.83, 394.63, 396.90, 394.12, 395.60, 396.9…\n",
            "$ lstat   \u001b[3m\u001b[90m<dbl>\u001b[39m\u001b[23m 4.98, 9.14, 4.03, 2.94, 5.33, 5.21, 12.43, 19.15, 29.93, 17.1…\n",
            "$ medv    \u001b[3m\u001b[90m<dbl>\u001b[39m\u001b[23m 24.0, 21.6, 34.7, 33.4, 36.2, 28.7, 22.9, 27.1, 16.5, 18.9, 1…\n"
          ],
          "name": "stdout"
        }
      ]
    },
    {
      "cell_type": "code",
      "metadata": {
        "id": "LuQtYIcieR6N",
        "colab_type": "code",
        "colab": {}
      },
      "source": [
        ""
      ],
      "execution_count": 0,
      "outputs": []
    },
    {
      "cell_type": "markdown",
      "metadata": {
        "id": "ZcqhlZCxZyei",
        "colab_type": "text"
      },
      "source": [
        "Please remember to disconnet from the spark server."
      ]
    },
    {
      "cell_type": "code",
      "metadata": {
        "id": "fLsYhJgxzogs",
        "colab_type": "code",
        "colab": {}
      },
      "source": [
        "spark_disconnect(sc)"
      ],
      "execution_count": 0,
      "outputs": []
    }
  ]
}